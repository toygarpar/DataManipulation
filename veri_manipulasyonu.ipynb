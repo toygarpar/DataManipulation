{
 "cells": [
  {
   "cell_type": "markdown",
   "id": "3fc94366-4162-4fb2-8142-f4ee6eef809e",
   "metadata": {
    "tags": []
   },
   "source": [
    "\n",
    "# Numpy : Oluşturma ve Biçimlendirme, Eleman İşlemleri, Koşullu Eleman İşlemleri, Hesaplamalı İşlemler"
   ]
  },
  {
   "cell_type": "markdown",
   "id": "bdbd43af-699e-4f47-8fdb-ac84a20fdeaf",
   "metadata": {},
   "source": [
    "![NumPy](images/numpy.png)   **NumPy Module Ultimate Cheatsheet**"
   ]
  },
  {
   "cell_type": "markdown",
   "id": "013a7bbc-93ce-45f2-a5d5-8f3b22f28bd8",
   "metadata": {
    "tags": []
   },
   "source": [
    "Numpy açık kaynaklı bir Python kütüphanesidir. Bu kütüphane veri bilimcileri için gereklidir. Pandas, Scipy gibi diğer bazı temel kütüphaneler Numpy kütüphanesi üzerine inşa edilmiştir. Numpy belgelerinde Numpy şu şekilde tanımlanır:\n",
    "\n",
    "NumPy, Python'da bilimsel hesaplama için temel pakettir. Çok boyutlu bir dizi nesnesi, çeşitli türetilmiş nesneler (maskeli diziler ve matrisler gibi) ve diziler üzerinde matematiksel, mantıksal, şekil manipülasyonu, sıralama, seçme, I/O  , ayrık Fourier dönüşümleri, temel doğrusal cebir, temel istatistiksel işlemler, rastgele simülasyon ve çok daha fazlası dahil olmak üzere hızlı işlemler için çeşitli rutinler sağlayan bir Python kütüphanesidir.\n",
    "\n",
    "Bilimsel hesaplamalar, arrayler/çok boyutlu arrayler ve matrisler. Listelere benzerdir, verimli veri saklama ve vektörel operasyonlar gerçekleştirilir. Fixed TYPE, sabit veri tipi saklar."
   ]
  },
  {
   "cell_type": "markdown",
   "id": "bb4664a7-4362-4934-9f21-a1aaa040c0fe",
   "metadata": {},
   "source": [
    "Navisgasyon için hücre seçili olarak hücre dışında:\n",
    "\n",
    "`a` hücreden bir önce hücre aç\n",
    "\n",
    "`b` hücreden bir sonra hücre aç\n",
    "\n",
    "`x` kes, `c` kopyalar, `v` yapıştır\n",
    "\n",
    "`m` markdown mode seç, `y` code mode seç\n",
    "\n",
    "Hücre içinde ise:\n",
    "\n",
    "`ctrl + x,c,v:` kes kopyala yapıştır\n",
    "\n",
    "`shift + return`: shift + enter : hücreyi çalıştır ve sonraki hücreye geç/ilerle.\n",
    "\n",
    "`ctrl  + return`: ctrl + enter: hücrede kal, odağı değiştirme ve hücreyi çalıştır.\n",
    "\n",
    "\n",
    "\n",
    "Markdown modda:\n",
    "\n",
    "#başlık, ##bir alt başlık, ###alt alt başlık, ####alt alt alt başlık\n",
    "\n",
    "**bold yazar**\n",
    "\n",
    "_italik yazar_\n",
    "\n",
    "👉![WoW](images/wowjlab.jpg)👈\n",
    "\n",
    "![Divider01](images/divider01.png)\n",
    "    "
   ]
  },
  {
   "cell_type": "markdown",
   "id": "507f33c8-cc1a-43ba-a801-d997f363b4d6",
   "metadata": {},
   "source": [
    "Jupyter Lab ve not defterleri, metin ve görüntüleri içermek ve az önce gördüğünüz gibi güzel, insanlar tarafından okunabilen belgeler oluşturmak için şahane özelliklere sahip. Ancak asıl faydası kodla çalışmaktır. `Jupyter üç dile gönderme yapar. Python, R ve Julia kodlarını bu hücrelerde code modunda çalıştırabilirsiniz.` Şimdi `Numpy` kütüphanesini içe aktaracağız ve Python koduyla çalışmaya başlayacağız.  Öncelikle 'numpy'ı içe aktarmamız gerekiyor:"
   ]
  },
  {
   "cell_type": "markdown",
   "id": "06571ce9-ac2e-461d-b03f-5a751920804c",
   "metadata": {
    "tags": []
   },
   "source": [
    "#### ***NumPy Array'i Oluşturmak***:"
   ]
  },
  {
   "cell_type": "markdown",
   "id": "80228a74-c62f-4871-b85b-6e48cc8b35c8",
   "metadata": {},
   "source": [
    "Tüm bu alıştırma için bir Jupyter Notebook kullandım. İlk önce Numpy'yi içe aktarın."
   ]
  },
  {
   "cell_type": "code",
   "execution_count": 224,
   "id": "60ca20d6-d47b-4a31-a4f0-e9e7a718f7f2",
   "metadata": {
    "tags": []
   },
   "outputs": [],
   "source": [
    "import numpy as np"
   ]
  },
  {
   "cell_type": "markdown",
   "id": "9061a43b-c758-47c2-a577-ffde237d57e4",
   "metadata": {},
   "source": [
    "Python'da 2 tane liste elemanlarını toplayıp yeni bir liste oluşturmak isteyelim, bunun için:"
   ]
  },
  {
   "cell_type": "code",
   "execution_count": 225,
   "id": "afc75612-29bd-4a4e-843e-86b10b9d2a21",
   "metadata": {
    "tags": []
   },
   "outputs": [],
   "source": [
    "x = [ 1, 2, 3, 4]\n",
    "y = [ 2, 3, 4, 5]"
   ]
  },
  {
   "cell_type": "code",
   "execution_count": 226,
   "id": "ad36ca68-cfdf-4cb0-9193-82e7dbec0d04",
   "metadata": {
    "tags": []
   },
   "outputs": [
    {
     "data": {
      "text/plain": [
       "[3, 5, 7, 9]"
      ]
     },
     "execution_count": 226,
     "metadata": {},
     "output_type": "execute_result"
    }
   ],
   "source": [
    "xy = []\n",
    "\n",
    "for i in range(0, len(x)):\n",
    "    xy.append(x[i] + y[i])\n",
    "    \n",
    "xy    \n"
   ]
  },
  {
   "cell_type": "markdown",
   "id": "dd6b01b7-e818-4f0a-a492-07e8b755a1ad",
   "metadata": {},
   "source": [
    "NumPy'da ise array fonksiyonu ile iki tane array oluşturacağız:\n"
   ]
  },
  {
   "cell_type": "code",
   "execution_count": 227,
   "id": "c71f0662-8848-4508-9fb1-2b92ef824287",
   "metadata": {
    "tags": []
   },
   "outputs": [],
   "source": [
    "a = np.array([1, 2, 3, 4])  \n",
    "b = np.array([2, 3, 4, 5])"
   ]
  },
  {
   "cell_type": "code",
   "execution_count": 228,
   "id": "d462781f-ce37-4234-87eb-50a4320cc6f6",
   "metadata": {
    "tags": []
   },
   "outputs": [
    {
     "data": {
      "text/plain": [
       "array([3, 5, 7, 9])"
      ]
     },
     "execution_count": 228,
     "metadata": {},
     "output_type": "execute_result"
    }
   ],
   "source": [
    "a + b #iki vektörün toplama işlemi"
   ]
  },
  {
   "cell_type": "code",
   "execution_count": 229,
   "id": "aa1c2200-12f8-4342-b78c-4e1765f630c4",
   "metadata": {
    "tags": []
   },
   "outputs": [
    {
     "data": {
      "text/plain": [
       "array([ 2,  6, 12, 20])"
      ]
     },
     "execution_count": 229,
     "metadata": {},
     "output_type": "execute_result"
    }
   ],
   "source": [
    "a * b #iki vektörün çarpma işlemi"
   ]
  },
  {
   "cell_type": "markdown",
   "id": "beefd7c5-c183-4346-9c84-f64d619a4703",
   "metadata": {},
   "source": [
    "`Voilaaa!` NumPy Magic!"
   ]
  },
  {
   "cell_type": "markdown",
   "id": "a4f37107-7c22-49cf-ac66-17b7996ac2f3",
   "metadata": {},
   "source": [
    "![Divider02](images/divider02.png)"
   ]
  },
  {
   "cell_type": "markdown",
   "id": "b087eede-ea96-496a-a01a-0a78907513b3",
   "metadata": {},
   "source": [
    "## Create Arrays / Diziler Oluşturma"
   ]
  },
  {
   "cell_type": "markdown",
   "id": "dc9f84c0-1611-4df9-be96-b5ad04f7b63f",
   "metadata": {},
   "source": [
    "Bir Numpy dizisi yapın. Bunu yapmak için bir Python listesi aktarmamız gerekiyor."
   ]
  },
  {
   "cell_type": "code",
   "execution_count": 230,
   "id": "28225c46-0722-4bb2-8fd7-9c96bc68bc2b",
   "metadata": {
    "tags": []
   },
   "outputs": [
    {
     "data": {
      "text/plain": [
       "array([1, 2, 3, 4, 5])"
      ]
     },
     "execution_count": 230,
     "metadata": {},
     "output_type": "execute_result"
    }
   ],
   "source": [
    "np.array([1 , 2, 3, 4, 5])"
   ]
  },
  {
   "cell_type": "markdown",
   "id": "37838c37-cf4f-4692-b8c9-590f368d4cb9",
   "metadata": {},
   "source": [
    "Burada integerlardan bir array oluşturduk."
   ]
  },
  {
   "cell_type": "code",
   "execution_count": 231,
   "id": "41451d8b-322a-4984-9e96-4a1ddb6918a3",
   "metadata": {
    "tags": []
   },
   "outputs": [],
   "source": [
    "a = np.array([1 , 2, 3, 4, 5])"
   ]
  },
  {
   "cell_type": "code",
   "execution_count": 232,
   "id": "6f220f3c-6145-4afb-bd32-5c1cc07a185d",
   "metadata": {
    "tags": []
   },
   "outputs": [
    {
     "data": {
      "text/plain": [
       "numpy.ndarray"
      ]
     },
     "execution_count": 232,
     "metadata": {},
     "output_type": "execute_result"
    }
   ],
   "source": [
    "type(a)"
   ]
  },
  {
   "cell_type": "markdown",
   "id": "5771cd3d-610d-4bc4-9840-00f976e69e32",
   "metadata": {},
   "source": [
    "Data Types\n",
    "**********************************************************\n",
    "\n",
    "> `np.int64` > Signed 64-bit integer types\n",
    "\n",
    "> `np.float32` > Standard double-precision floating point\n",
    "\n",
    "> `np.complex` > Complex numbers represented by 128 floats\n",
    "\n",
    "> `np.bool` > Boolean type storing TRUE and FALSE values\n",
    "\n",
    "> `np.object` > Python object type\n",
    "\n",
    "> `np.string_` > Fixed-length string type\n",
    "\n",
    "> `np.unicode_` > Fixed-length unicode type\n",
    "\n",
    "***********************************************************"
   ]
  },
  {
   "cell_type": "markdown",
   "id": "efb730bc-d856-470a-ac07-ae22af317fa7",
   "metadata": {},
   "source": [
    "Şimdi float bir array yapalım."
   ]
  },
  {
   "cell_type": "code",
   "execution_count": 233,
   "id": "8bc25035-07ee-45e3-b1ed-3c4bf56fec4c",
   "metadata": {
    "tags": []
   },
   "outputs": [
    {
     "data": {
      "text/plain": [
       "array([ 3.14,  4.  ,  2.  , 13.  ], dtype=float32)"
      ]
     },
     "execution_count": 233,
     "metadata": {},
     "output_type": "execute_result"
    }
   ],
   "source": [
    "np.array([3.14, 4, 2 , 13], dtype = \"float32\")"
   ]
  },
  {
   "cell_type": "markdown",
   "id": "98d1c6f5-c4b1-4890-9b2c-240d5548ff6c",
   "metadata": {},
   "source": [
    "Dikkat edin, Numpy tamsayıları/integerları otomatik olarak floata dönüştürdü!\n",
    "\n",
    "**numpy sabit tip baskısı, içerde sadece tek tip veri tipi tutulur**"
   ]
  },
  {
   "cell_type": "code",
   "execution_count": 234,
   "id": "beb8df95-ed2e-443a-ab74-34bd430bbb8b",
   "metadata": {
    "tags": []
   },
   "outputs": [
    {
     "data": {
      "text/plain": [
       "array([ 3,  4,  2, 13])"
      ]
     },
     "execution_count": 234,
     "metadata": {},
     "output_type": "execute_result"
    }
   ],
   "source": [
    "np.array([3.14, 4, 2 , 13], dtype = \"int\")"
   ]
  },
  {
   "cell_type": "markdown",
   "id": "64921ac0-2c3d-40c7-9611-d26770cfbf4d",
   "metadata": {},
   "source": [
    "### Array Dimensions/Dizi Boyutları"
   ]
  },
  {
   "cell_type": "markdown",
   "id": "02576c35-e246-4662-a884-95b581dd30fb",
   "metadata": {},
   "source": [
    "![ArrayDimensions](images/arraydimensions.png)"
   ]
  },
  {
   "cell_type": "code",
   "execution_count": 235,
   "id": "5ab27c19-f0d0-4ddb-b653-7ccef7d73224",
   "metadata": {
    "tags": []
   },
   "outputs": [],
   "source": [
    "a = np.array([1,2,3]) # 1D\n",
    "b = np.array([(1.5,2,3), (4,5,6)], dtype = float) #2D\n",
    "c = np.array([[(1.5,2,3), (4,5,6)], [(3,2,1), (4,5,6)]], dtype = float) #3D"
   ]
  },
  {
   "cell_type": "code",
   "execution_count": 236,
   "id": "1359948c-82de-452c-913b-c03a27a007fb",
   "metadata": {
    "tags": []
   },
   "outputs": [
    {
     "data": {
      "text/plain": [
       "array([1, 2, 3])"
      ]
     },
     "execution_count": 236,
     "metadata": {},
     "output_type": "execute_result"
    }
   ],
   "source": [
    "a"
   ]
  },
  {
   "cell_type": "code",
   "execution_count": 237,
   "id": "454da68b-cfd9-4dc0-986f-5c830cf84796",
   "metadata": {
    "tags": []
   },
   "outputs": [
    {
     "data": {
      "text/plain": [
       "array([[1.5, 2. , 3. ],\n",
       "       [4. , 5. , 6. ]])"
      ]
     },
     "execution_count": 237,
     "metadata": {},
     "output_type": "execute_result"
    }
   ],
   "source": [
    "b"
   ]
  },
  {
   "cell_type": "code",
   "execution_count": 238,
   "id": "5286d7df-c264-4a23-bb7f-8094dffe2d38",
   "metadata": {
    "tags": []
   },
   "outputs": [
    {
     "data": {
      "text/plain": [
       "array([[[1.5, 2. , 3. ],\n",
       "        [4. , 5. , 6. ]],\n",
       "\n",
       "       [[3. , 2. , 1. ],\n",
       "        [4. , 5. , 6. ]]])"
      ]
     },
     "execution_count": 238,
     "metadata": {},
     "output_type": "execute_result"
    }
   ],
   "source": [
    "c"
   ]
  },
  {
   "cell_type": "markdown",
   "id": "61f0fd4e-6559-456d-b362-67bdc50254d7",
   "metadata": {},
   "source": [
    "### Array İnceleme\n",
    "\n",
    "> `a.shape` : Array boyutları\n",
    "\n",
    "> `len(a)` : Arrayin uzunluğu\n",
    "\n",
    "> `b.ndim` : Array boyutlarının sayısı\n",
    "\n",
    "> `c.size` : Array elemanlarının sayısı\n",
    "\n",
    "> `b.dtype` : Array elemanlarının veri türü\n",
    "\n",
    "> `b.dtype.name` : Veri türünün adı\n",
    "\n",
    "> `b.astype(int)` : Bir arrayi farklı bir türe dönüştürür\n"
   ]
  },
  {
   "cell_type": "code",
   "execution_count": 239,
   "id": "6f869485-e2b6-4e18-a911-f962d08d77d5",
   "metadata": {
    "tags": []
   },
   "outputs": [
    {
     "data": {
      "text/plain": [
       "(3,)"
      ]
     },
     "execution_count": 239,
     "metadata": {},
     "output_type": "execute_result"
    }
   ],
   "source": [
    "a.shape #'a' dizisinin şeklini/biçimini bulun"
   ]
  },
  {
   "cell_type": "code",
   "execution_count": 240,
   "id": "0208f311-7c91-42d8-8fe1-af7d3950344d",
   "metadata": {
    "tags": []
   },
   "outputs": [
    {
     "data": {
      "text/plain": [
       "3"
      ]
     },
     "execution_count": 240,
     "metadata": {},
     "output_type": "execute_result"
    }
   ],
   "source": [
    "len(a) # Dizinin uzunluğunu bulun"
   ]
  },
  {
   "cell_type": "code",
   "execution_count": 241,
   "id": "1e9a4d87-3325-419f-b85a-dc0ff7fe281d",
   "metadata": {
    "tags": []
   },
   "outputs": [
    {
     "data": {
      "text/plain": [
       "2"
      ]
     },
     "execution_count": 241,
     "metadata": {},
     "output_type": "execute_result"
    }
   ],
   "source": [
    "b.ndim #b dizisinin boyutlarını bulun"
   ]
  },
  {
   "cell_type": "code",
   "execution_count": 242,
   "id": "276ee700-f069-4c13-829c-5b663c18b103",
   "metadata": {
    "tags": []
   },
   "outputs": [
    {
     "data": {
      "text/plain": [
       "12"
      ]
     },
     "execution_count": 242,
     "metadata": {},
     "output_type": "execute_result"
    }
   ],
   "source": [
    "c.size # dizinin büyüklüğü eleman sayısı ile ilişkili"
   ]
  },
  {
   "cell_type": "code",
   "execution_count": 243,
   "id": "fb00c7dc-c428-4397-b88c-fba76678f61f",
   "metadata": {
    "tags": []
   },
   "outputs": [
    {
     "data": {
      "text/plain": [
       "dtype('float64')"
      ]
     },
     "execution_count": 243,
     "metadata": {},
     "output_type": "execute_result"
    }
   ],
   "source": [
    "b.dtype #dizinin veri tipi"
   ]
  },
  {
   "cell_type": "code",
   "execution_count": 244,
   "id": "2a5b078f-c302-450a-9807-40722cc640ae",
   "metadata": {
    "tags": []
   },
   "outputs": [
    {
     "data": {
      "text/plain": [
       "'float64'"
      ]
     },
     "execution_count": 244,
     "metadata": {},
     "output_type": "execute_result"
    }
   ],
   "source": [
    "b.dtype.name #dizinin veri tipi ismi"
   ]
  },
  {
   "cell_type": "code",
   "execution_count": 245,
   "id": "ef2c9eda-9cb0-46dd-8ee7-e358095cafcf",
   "metadata": {
    "tags": []
   },
   "outputs": [
    {
     "data": {
      "text/plain": [
       "array([[1, 2, 3],\n",
       "       [4, 5, 6]])"
      ]
     },
     "execution_count": 245,
     "metadata": {},
     "output_type": "execute_result"
    }
   ],
   "source": [
    "b.astype(int) # dizinin veri tipini değiştirme - float to integer"
   ]
  },
  {
   "cell_type": "code",
   "execution_count": 246,
   "id": "b3345b04-3921-4fa7-919d-967ded3618b8",
   "metadata": {},
   "outputs": [
    {
     "data": {
      "text/plain": [
       "2"
      ]
     },
     "execution_count": 246,
     "metadata": {},
     "output_type": "execute_result"
    }
   ],
   "source": [
    "len(b) "
   ]
  },
  {
   "cell_type": "markdown",
   "id": "d265f393-f417-433d-b224-d5b20635690a",
   "metadata": {
    "tags": []
   },
   "source": [
    "'b' dizisi iki boyutlu bir dizidir. Yani dizinin uzunluğu, içindeki eleman sayısı anlamına gelmez. Uzunluk, içindeki tek boyutlu dizilerin sayısı veya içindeki satırların sayısı anlamına gelir. \n",
    "İki satırı vardır. Yani uzunluk 2'dir."
   ]
  },
  {
   "cell_type": "markdown",
   "id": "a399968d-33be-44e5-b991-073133fbcf8c",
   "metadata": {},
   "source": [
    "![Divider02](images/divider02.png)"
   ]
  },
  {
   "cell_type": "markdown",
   "id": "cab1946d-5696-46a6-bac9-fb9df5d5d57d",
   "metadata": {},
   "source": [
    "### sıfırdan array oluşturma işlemleri / initial placeholders\n",
    "\n",
    "Numpy arraylerini sıfırdan, listelerden ve başa veri türlerinden oluşturabiliriz. Numpy Array bir veri tipidir."
   ]
  },
  {
   "cell_type": "markdown",
   "id": "d2b44121-c252-4082-a89b-59ccfc732cac",
   "metadata": {},
   "source": [
    "> ##### 10 tane sıfırdan array oluştur, zeros fonksiyonu"
   ]
  },
  {
   "cell_type": "code",
   "execution_count": 247,
   "id": "fbce74d6-04b8-4c55-9e4d-1acfe47889c9",
   "metadata": {
    "tags": []
   },
   "outputs": [
    {
     "data": {
      "text/plain": [
       "array([0, 0, 0, 0, 0, 0, 0, 0, 0, 0])"
      ]
     },
     "execution_count": 247,
     "metadata": {},
     "output_type": "execute_result"
    }
   ],
   "source": [
    "np.zeros(10 , dtype =int) "
   ]
  },
  {
   "cell_type": "markdown",
   "id": "a066855f-0a9c-474e-909f-072916a24f8f",
   "metadata": {},
   "source": [
    "> ##### 3*5 1'lerden array/matris oluştur, ones fonksiyonu"
   ]
  },
  {
   "cell_type": "code",
   "execution_count": 248,
   "id": "7ebef7c8-6b89-401c-b232-8b2a2ba100ff",
   "metadata": {
    "tags": []
   },
   "outputs": [
    {
     "data": {
      "text/plain": [
       "array([[1, 1, 1, 1, 1],\n",
       "       [1, 1, 1, 1, 1],\n",
       "       [1, 1, 1, 1, 1]])"
      ]
     },
     "execution_count": 248,
     "metadata": {},
     "output_type": "execute_result"
    }
   ],
   "source": [
    "np.ones((3,5), dtype = int) # 3*5 1'lerden array/matris oluştur, ones fonksiyonu"
   ]
  },
  {
   "cell_type": "markdown",
   "id": "27215a94-678f-4b3c-b4f3-d05ad98a64c1",
   "metadata": {},
   "source": [
    "> ##### 3*5 3'lerden array/matris oluştur, full fonksiyonu"
   ]
  },
  {
   "cell_type": "code",
   "execution_count": 249,
   "id": "441a29c4-f8e2-41d2-baff-129f55ceca1c",
   "metadata": {
    "tags": []
   },
   "outputs": [
    {
     "data": {
      "text/plain": [
       "array([[3, 3, 3, 3, 3],\n",
       "       [3, 3, 3, 3, 3],\n",
       "       [3, 3, 3, 3, 3]])"
      ]
     },
     "execution_count": 249,
     "metadata": {},
     "output_type": "execute_result"
    }
   ],
   "source": [
    "np.full((3, 5), 3) # 3*5 3'lerden array/matris oluştur, full fonksiyonu"
   ]
  },
  {
   "cell_type": "markdown",
   "id": "00817e64-8c1a-4d10-a548-8a9174e4d9f0",
   "metadata": {
    "tags": []
   },
   "source": [
    "> ##### 2X2 birim matris oluşturma - eye fonksiyonu\n"
   ]
  },
  {
   "cell_type": "code",
   "execution_count": 250,
   "id": "763ecb8c-a785-4296-bc33-bf3674282883",
   "metadata": {
    "tags": []
   },
   "outputs": [],
   "source": [
    " f = np.eye(2, dtype=int)"
   ]
  },
  {
   "cell_type": "code",
   "execution_count": 251,
   "id": "50bd0ede-070e-42d1-be8f-7e75847cbf37",
   "metadata": {
    "tags": []
   },
   "outputs": [
    {
     "data": {
      "text/plain": [
       "array([[1, 0],\n",
       "       [0, 1]])"
      ]
     },
     "execution_count": 251,
     "metadata": {},
     "output_type": "execute_result"
    }
   ],
   "source": [
    "f #  2X2 birim matris oluşturma"
   ]
  },
  {
   "cell_type": "code",
   "execution_count": 252,
   "id": "c8e270dc-1f43-40c0-9384-2674a5ce1f3c",
   "metadata": {
    "tags": []
   },
   "outputs": [
    {
     "data": {
      "text/plain": [
       "array([[1., 0., 0.],\n",
       "       [0., 1., 0.],\n",
       "       [0., 0., 1.]])"
      ]
     },
     "execution_count": 252,
     "metadata": {},
     "output_type": "execute_result"
    }
   ],
   "source": [
    "np.eye(3,3)"
   ]
  },
  {
   "cell_type": "code",
   "execution_count": 253,
   "id": "d7bbfe67-0ec3-4bfd-b043-ca794b99ddc9",
   "metadata": {
    "tags": []
   },
   "outputs": [
    {
     "data": {
      "text/plain": [
       "array([[3, 0, 0],\n",
       "       [0, 5, 0],\n",
       "       [0, 0, 7]])"
      ]
     },
     "execution_count": 253,
     "metadata": {},
     "output_type": "execute_result"
    }
   ],
   "source": [
    "z = np.array([3, 5, 7]) # istersek diagonal sayıları farklı yapabiliriz\n",
    "np.diag(z)"
   ]
  },
  {
   "cell_type": "markdown",
   "id": "61540e8d-dd1d-4cd1-bd59-704e6fcbcb92",
   "metadata": {},
   "source": [
    "> ##### arange fonksiyonu - Eşit aralıklı değerlerden oluşan bir dizi oluştur (adım/step değeri)   - sıfırla 33 arasında 3er atlayarak"
   ]
  },
  {
   "cell_type": "code",
   "execution_count": 254,
   "id": "914ed8dc-11f0-4fea-b0bf-bf94cd48d596",
   "metadata": {
    "tags": []
   },
   "outputs": [
    {
     "data": {
      "text/plain": [
       "array([ 0,  3,  6,  9, 12, 15, 18, 21, 24, 27, 30])"
      ]
     },
     "execution_count": 254,
     "metadata": {},
     "output_type": "execute_result"
    }
   ],
   "source": [
    "np.arange(0, 33 ,3)    #Eşit aralıklı değerlerden oluşan bir dizi oluştur (adım/step değeri)   - sıfırla 33 arasında 3er atlayarak"
   ]
  },
  {
   "cell_type": "code",
   "execution_count": 255,
   "id": "1d2926ca-910a-4bd6-9f07-ab07e58d0ef2",
   "metadata": {
    "tags": []
   },
   "outputs": [
    {
     "data": {
      "text/plain": [
       "array([ 0,  1,  4,  9, 16, 25, 36, 49, 64, 81])"
      ]
     },
     "execution_count": 255,
     "metadata": {},
     "output_type": "execute_result"
    }
   ],
   "source": [
    "np.arange(10)**2 #Bu durumda 0-9'a bir aralık istedik ve çıktı dizisinde 0'dan 9'a kadar olan sayıların karesini aldık."
   ]
  },
  {
   "cell_type": "code",
   "execution_count": 256,
   "id": "0b71c6f0-63ae-4bab-8666-b7dfd57184c1",
   "metadata": {
    "tags": []
   },
   "outputs": [
    {
     "data": {
      "text/plain": [
       "array([[1., 0., 0., 0., 0.],\n",
       "       [0., 1., 0., 0., 0.],\n",
       "       [0., 0., 1., 0., 0.],\n",
       "       [0., 0., 0., 1., 0.],\n",
       "       [0., 0., 0., 0., 1.]])"
      ]
     },
     "execution_count": 256,
     "metadata": {},
     "output_type": "execute_result"
    }
   ],
   "source": [
    "np.identity(5) #identity matrisi, Bu, tüm elemanların 0 olduğu ve yalnızca diagonal elemanların bir olduğu beşe beşlik bir matris"
   ]
  },
  {
   "cell_type": "markdown",
   "id": "3921a7ee-819b-41db-ae7d-2c9e59dab983",
   "metadata": {},
   "source": [
    "> ##### iki sayı içerisinde belirtilen aralıkta eşit aralıklı on tane değer oluşturma - linspace fonksiyonu"
   ]
  },
  {
   "cell_type": "code",
   "execution_count": 257,
   "id": "450f83da-6f76-4fda-a6ea-6689931af8be",
   "metadata": {
    "tags": []
   },
   "outputs": [
    {
     "data": {
      "text/plain": [
       "array([0.        , 0.11111111, 0.22222222, 0.33333333, 0.44444444,\n",
       "       0.55555556, 0.66666667, 0.77777778, 0.88888889, 1.        ])"
      ]
     },
     "execution_count": 257,
     "metadata": {},
     "output_type": "execute_result"
    }
   ],
   "source": [
    "np.linspace(0, 1, 10)   # Belirtilen aralıkta eşit aralıklı sayıları döndür"
   ]
  },
  {
   "cell_type": "markdown",
   "id": "dce8fbe3-80e0-494e-b05e-a003cdcdb320",
   "metadata": {},
   "source": [
    "> ##### oluşturmak istenen sayılar belirli bir dağılım yapısına sahip olsun, belirli bir ortalama, belirli bir standart sapma verilerek - random.normal fonksiyonu"
   ]
  },
  {
   "cell_type": "code",
   "execution_count": 258,
   "id": "64f69b38-7bba-4ec0-8b36-45a790563a77",
   "metadata": {
    "tags": []
   },
   "outputs": [
    {
     "data": {
      "text/plain": [
       "array([[12.76772579, 12.3569191 , 10.76060525,  6.32043815],\n",
       "       [13.0359451 ,  7.60063632,  9.93826149, 15.04716018],\n",
       "       [13.97761075, 14.097816  , 16.63950871, 12.17352853]])"
      ]
     },
     "execution_count": 258,
     "metadata": {},
     "output_type": "execute_result"
    }
   ],
   "source": [
    "np.random.normal(10, 4, (3,4))   #ortalaması 10 standart sapması 4 olacak şekilde"
   ]
  },
  {
   "cell_type": "markdown",
   "id": "5440deb5-f30e-40aa-8768-dc0afb6c1ba6",
   "metadata": {},
   "source": [
    "> #####  random.randit fonksiyonu"
   ]
  },
  {
   "cell_type": "code",
   "execution_count": 259,
   "id": "3aa90316-829b-4c2f-92a8-882c2708afe1",
   "metadata": {
    "tags": []
   },
   "outputs": [
    {
     "data": {
      "text/plain": [
       "array([[5, 4, 2],\n",
       "       [4, 1, 4],\n",
       "       [8, 0, 9]])"
      ]
     },
     "execution_count": 259,
     "metadata": {},
     "output_type": "execute_result"
    }
   ],
   "source": [
    "np.random.randint(0, 10 ,(3 , 3))"
   ]
  },
  {
   "cell_type": "markdown",
   "id": "e5d15ed1-d80d-47d1-86f9-583d20aefad5",
   "metadata": {},
   "source": [
    "#NumPy Özellikleri"
   ]
  },
  {
   "cell_type": "markdown",
   "id": "c60c89ff-c79c-407a-96aa-a6f0b58f2d14",
   "metadata": {},
   "source": [
    "> **ndim** : _boyut sayısı_\n",
    "\n",
    "> shape : boyut bilgisi\n",
    "\n",
    "> size : toplam eleman sayısı\n",
    "\n",
    "> dtype : array veri tipi"
   ]
  },
  {
   "cell_type": "code",
   "execution_count": 260,
   "id": "233c1c8c-d86a-4076-8de7-2afa42903b61",
   "metadata": {
    "tags": []
   },
   "outputs": [],
   "source": [
    "import numpy as np"
   ]
  },
  {
   "cell_type": "code",
   "execution_count": 261,
   "id": "eb648c61-d775-4b72-bc34-a2369e47c1d6",
   "metadata": {
    "tags": []
   },
   "outputs": [
    {
     "data": {
      "text/plain": [
       "array([6, 7, 7, 9, 2, 4, 1, 9, 4, 8])"
      ]
     },
     "execution_count": 261,
     "metadata": {},
     "output_type": "execute_result"
    }
   ],
   "source": [
    "np.random.randint(10, size = 10) #Rastgele tamsayılar üretmek için randint fonksiyonu kullanılır."
   ]
  },
  {
   "cell_type": "markdown",
   "id": "0346c95c-47d4-4b95-b580-1211ca834cab",
   "metadata": {},
   "source": [
    "![Divider05](images/divider05.png)"
   ]
  },
  {
   "cell_type": "code",
   "execution_count": 262,
   "id": "16cc70f7-b064-46ff-b426-3154cbd302e2",
   "metadata": {
    "tags": []
   },
   "outputs": [],
   "source": [
    "a = np.random.randint(10, size = 10)"
   ]
  },
  {
   "cell_type": "code",
   "execution_count": 263,
   "id": "3843761a-eefd-4086-b6c6-2dc1b0bf4357",
   "metadata": {
    "tags": []
   },
   "outputs": [
    {
     "data": {
      "text/plain": [
       "1"
      ]
     },
     "execution_count": 263,
     "metadata": {},
     "output_type": "execute_result"
    }
   ],
   "source": [
    "a.ndim"
   ]
  },
  {
   "cell_type": "code",
   "execution_count": 264,
   "id": "19547e69-a0da-4892-aabd-54db19eb986f",
   "metadata": {
    "tags": []
   },
   "outputs": [
    {
     "data": {
      "text/plain": [
       "(10,)"
      ]
     },
     "execution_count": 264,
     "metadata": {},
     "output_type": "execute_result"
    }
   ],
   "source": [
    "a.shape"
   ]
  },
  {
   "cell_type": "code",
   "execution_count": 265,
   "id": "064afe3e-c8f8-4009-9fc3-8eb4458e2e6a",
   "metadata": {
    "tags": []
   },
   "outputs": [
    {
     "data": {
      "text/plain": [
       "10"
      ]
     },
     "execution_count": 265,
     "metadata": {},
     "output_type": "execute_result"
    }
   ],
   "source": [
    "a.shape[0] # bu örnek için a dizisinin ilk (ve tek) boyutunun biçimini çıkarır. Bu durumda 10'a eşdeğer olacaktır. Size birinci eksen (matris olarak düşünürseniz, satırlar) boyunca bulunan elemanların sayısını söyler."
   ]
  },
  {
   "cell_type": "code",
   "execution_count": 266,
   "id": "59b47de3-c67b-4563-ad09-0da614e1b7ef",
   "metadata": {
    "tags": []
   },
   "outputs": [
    {
     "data": {
      "text/plain": [
       "10"
      ]
     },
     "execution_count": 266,
     "metadata": {},
     "output_type": "execute_result"
    }
   ],
   "source": [
    "a.size"
   ]
  },
  {
   "cell_type": "code",
   "execution_count": 267,
   "id": "bc5af9cc-e218-4403-9f7d-d31b19b4a0cd",
   "metadata": {
    "tags": []
   },
   "outputs": [
    {
     "data": {
      "text/plain": [
       "dtype('int32')"
      ]
     },
     "execution_count": 267,
     "metadata": {},
     "output_type": "execute_result"
    }
   ],
   "source": [
    "a.dtype"
   ]
  },
  {
   "cell_type": "code",
   "execution_count": 268,
   "id": "42279d69-56d6-4e63-b5d1-a7f5ee131022",
   "metadata": {
    "tags": []
   },
   "outputs": [],
   "source": [
    "b = np.random.randint(10, size = (3, 5))"
   ]
  },
  {
   "cell_type": "code",
   "execution_count": 269,
   "id": "c776701e-b0d4-45de-9433-7a8dd9396a03",
   "metadata": {
    "tags": []
   },
   "outputs": [
    {
     "data": {
      "text/plain": [
       "array([[2, 2, 4, 4, 4],\n",
       "       [2, 1, 8, 8, 6],\n",
       "       [3, 5, 5, 5, 1]])"
      ]
     },
     "execution_count": 269,
     "metadata": {},
     "output_type": "execute_result"
    }
   ],
   "source": [
    "b"
   ]
  },
  {
   "cell_type": "code",
   "execution_count": 270,
   "id": "860f7e12-2d35-4c13-9ea4-a9f7d7f9c21f",
   "metadata": {
    "tags": []
   },
   "outputs": [
    {
     "data": {
      "text/plain": [
       "2"
      ]
     },
     "execution_count": 270,
     "metadata": {},
     "output_type": "execute_result"
    }
   ],
   "source": [
    "b.ndim"
   ]
  },
  {
   "cell_type": "code",
   "execution_count": 271,
   "id": "5f388de1-23e0-4986-9a5b-6222615229ef",
   "metadata": {
    "tags": []
   },
   "outputs": [
    {
     "data": {
      "text/plain": [
       "(3, 5)"
      ]
     },
     "execution_count": 271,
     "metadata": {},
     "output_type": "execute_result"
    }
   ],
   "source": [
    "b.shape"
   ]
  },
  {
   "cell_type": "code",
   "execution_count": 272,
   "id": "92c46b72-83b0-48d4-b024-e96821214615",
   "metadata": {
    "tags": []
   },
   "outputs": [
    {
     "data": {
      "text/plain": [
       "15"
      ]
     },
     "execution_count": 272,
     "metadata": {},
     "output_type": "execute_result"
    }
   ],
   "source": [
    "b.size"
   ]
  },
  {
   "cell_type": "code",
   "execution_count": 273,
   "id": "d11ae7f2-bcad-44ea-8883-b77423921dc5",
   "metadata": {
    "tags": []
   },
   "outputs": [
    {
     "data": {
      "text/plain": [
       "dtype('int32')"
      ]
     },
     "execution_count": 273,
     "metadata": {},
     "output_type": "execute_result"
    }
   ],
   "source": [
    "b.dtype"
   ]
  },
  {
   "cell_type": "markdown",
   "id": "dac6178a-73e1-4b84-93a5-10421ace47fd",
   "metadata": {},
   "source": [
    "![Divider05](images/divider05.png)"
   ]
  },
  {
   "cell_type": "markdown",
   "id": "146b3ba5-28fd-40f7-9807-8f262317d20d",
   "metadata": {},
   "source": [
    "### Yeniden Şekillendirme - Reshaping - Arrayleri yeniden düzenleme"
   ]
  },
  {
   "cell_type": "code",
   "execution_count": 274,
   "id": "7cd57397-67fc-45c0-8bbf-03b4403e9f83",
   "metadata": {
    "tags": []
   },
   "outputs": [],
   "source": [
    "import numpy as np"
   ]
  },
  {
   "cell_type": "code",
   "execution_count": 275,
   "id": "d82988f7-a2ed-47d9-9123-9ee207695cc7",
   "metadata": {
    "tags": []
   },
   "outputs": [
    {
     "data": {
      "text/plain": [
       "array([1, 2, 3, 4, 5, 6, 7, 8, 9])"
      ]
     },
     "execution_count": 275,
     "metadata": {},
     "output_type": "execute_result"
    }
   ],
   "source": [
    "np.arange(1, 10)"
   ]
  },
  {
   "cell_type": "markdown",
   "id": "54310f34-e41f-42f2-a037-2fb8c47df5df",
   "metadata": {},
   "source": [
    "> ##### tek boyutlu bir arrayi matrise dönüştürme  - np.arange().reshape()"
   ]
  },
  {
   "cell_type": "code",
   "execution_count": 276,
   "id": "dfd9a93d-c60f-4d81-994e-81721443d561",
   "metadata": {
    "tags": []
   },
   "outputs": [
    {
     "data": {
      "text/plain": [
       "array([[1, 2, 3],\n",
       "       [4, 5, 6],\n",
       "       [7, 8, 9]])"
      ]
     },
     "execution_count": 276,
     "metadata": {},
     "output_type": "execute_result"
    }
   ],
   "source": [
    "np.arange(1, 10).reshape((3, 3))"
   ]
  },
  {
   "cell_type": "code",
   "execution_count": 277,
   "id": "a4c9165c-cf24-439c-882a-6cd3d6bcbcf0",
   "metadata": {
    "tags": []
   },
   "outputs": [],
   "source": [
    "a = np.arange(1, 10)"
   ]
  },
  {
   "cell_type": "code",
   "execution_count": 278,
   "id": "2cf76253-b577-4b68-90d4-43e9efe22e8a",
   "metadata": {
    "tags": []
   },
   "outputs": [
    {
     "data": {
      "text/plain": [
       "array([1, 2, 3, 4, 5, 6, 7, 8, 9])"
      ]
     },
     "execution_count": 278,
     "metadata": {},
     "output_type": "execute_result"
    }
   ],
   "source": [
    "a"
   ]
  },
  {
   "cell_type": "code",
   "execution_count": 279,
   "id": "6a20ca8a-d2da-4231-91b4-dcc4952a5557",
   "metadata": {
    "tags": []
   },
   "outputs": [
    {
     "data": {
      "text/plain": [
       "1"
      ]
     },
     "execution_count": 279,
     "metadata": {},
     "output_type": "execute_result"
    }
   ],
   "source": [
    "a.ndim"
   ]
  },
  {
   "cell_type": "code",
   "execution_count": 280,
   "id": "cae6654e-d29e-4451-807c-9851f787d19b",
   "metadata": {
    "tags": []
   },
   "outputs": [
    {
     "data": {
      "text/plain": [
       "array([[1, 2, 3, 4, 5, 6, 7, 8, 9]])"
      ]
     },
     "execution_count": 280,
     "metadata": {},
     "output_type": "execute_result"
    }
   ],
   "source": [
    "a.reshape((1,9))"
   ]
  },
  {
   "cell_type": "code",
   "execution_count": 281,
   "id": "a0c39121-b7e2-4fe7-bb09-3bbd8a6868ba",
   "metadata": {
    "tags": []
   },
   "outputs": [],
   "source": [
    "b = a.reshape((1,9))  #tek boyutlu bir arrayi iki boyutlu bir matrise çevirme ama tek boyutlu bilgiside olduğu şekilde kalsın"
   ]
  },
  {
   "cell_type": "code",
   "execution_count": 282,
   "id": "bc831a51-4672-4c12-952b-c3f0c5fc561f",
   "metadata": {
    "tags": []
   },
   "outputs": [
    {
     "data": {
      "text/plain": [
       "2"
      ]
     },
     "execution_count": 282,
     "metadata": {},
     "output_type": "execute_result"
    }
   ],
   "source": [
    "b.ndim"
   ]
  },
  {
   "cell_type": "markdown",
   "id": "5c8e993f-1baa-44dd-806d-737cc74ec022",
   "metadata": {},
   "source": [
    "Bir arrayi yeniden düzenlemenin veya yeniden şekillendirmenin farklı yolları var:"
   ]
  },
  {
   "cell_type": "code",
   "execution_count": 283,
   "id": "bc327043-31c2-4718-be02-ead3473e6869",
   "metadata": {
    "tags": []
   },
   "outputs": [
    {
     "data": {
      "text/plain": [
       "array([ 0,  3,  6,  9, 12, 15, 18, 21, 24, 27, 30, 33, 36, 39, 42])"
      ]
     },
     "execution_count": 283,
     "metadata": {},
     "output_type": "execute_result"
    }
   ],
   "source": [
    "r = np.arange(0, 45, 3)\n",
    "r"
   ]
  },
  {
   "cell_type": "code",
   "execution_count": 284,
   "id": "55f0388c-0e86-4f6f-8ede-2623db62f85a",
   "metadata": {
    "tags": []
   },
   "outputs": [
    {
     "data": {
      "text/plain": [
       "array([[ 0,  3,  6,  9, 12],\n",
       "       [15, 18, 21, 24, 27],\n",
       "       [30, 33, 36, 39, 42]])"
      ]
     },
     "execution_count": 284,
     "metadata": {},
     "output_type": "execute_result"
    }
   ],
   "source": [
    "r.reshape(3, 5)"
   ]
  },
  {
   "cell_type": "code",
   "execution_count": 285,
   "id": "e6ed7735-6e0d-49ae-84ca-cdceb0d5bfc7",
   "metadata": {
    "tags": []
   },
   "outputs": [
    {
     "data": {
      "text/plain": [
       "array([ 0,  3,  6,  9, 12, 15, 18, 21, 24, 27, 30, 33, 36, 39, 42])"
      ]
     },
     "execution_count": 285,
     "metadata": {},
     "output_type": "execute_result"
    }
   ],
   "source": [
    "t = np.arange(0, 45, 3)\n",
    "t"
   ]
  },
  {
   "cell_type": "code",
   "execution_count": 286,
   "id": "0cdf76f0-c706-49ab-9fb0-65def0d2536b",
   "metadata": {
    "tags": []
   },
   "outputs": [
    {
     "data": {
      "text/plain": [
       "array([[ 0,  3,  6,  9, 12],\n",
       "       [15, 18, 21, 24, 27],\n",
       "       [30, 33, 36, 39, 42]])"
      ]
     },
     "execution_count": 286,
     "metadata": {},
     "output_type": "execute_result"
    }
   ],
   "source": [
    "t.resize(3,5)\n",
    "t"
   ]
  },
  {
   "cell_type": "code",
   "execution_count": 287,
   "id": "e01c51d5-9ddb-48c0-84ad-e5baf69fc031",
   "metadata": {
    "tags": []
   },
   "outputs": [
    {
     "data": {
      "text/plain": [
       "array([ 0,  3,  6,  9, 12, 15, 18, 21, 24, 27, 30, 33, 36, 39, 42])"
      ]
     },
     "execution_count": 287,
     "metadata": {},
     "output_type": "execute_result"
    }
   ],
   "source": [
    "t.ravel() #tek boyuta geri dönmek için"
   ]
  },
  {
   "cell_type": "code",
   "execution_count": 288,
   "id": "78bc6a7b-9723-4ffc-a826-6a2a86585a9c",
   "metadata": {
    "tags": []
   },
   "outputs": [
    {
     "data": {
      "text/plain": [
       "array([1, 5, 9])"
      ]
     },
     "execution_count": 288,
     "metadata": {},
     "output_type": "execute_result"
    }
   ],
   "source": [
    "k = np.array([1,5,9])\n",
    "k"
   ]
  },
  {
   "cell_type": "code",
   "execution_count": 289,
   "id": "f596ad8e-34d4-468c-a806-f2e4736e5ae5",
   "metadata": {
    "tags": []
   },
   "outputs": [
    {
     "data": {
      "text/plain": [
       "array([[1],\n",
       "       [5],\n",
       "       [9]])"
      ]
     },
     "execution_count": 289,
     "metadata": {},
     "output_type": "execute_result"
    }
   ],
   "source": [
    "k.resize(3,1)\n",
    "k"
   ]
  },
  {
   "cell_type": "code",
   "execution_count": 290,
   "id": "d7d92189-00f7-48f8-9095-43de2384021d",
   "metadata": {
    "tags": []
   },
   "outputs": [
    {
     "data": {
      "text/plain": [
       "array([[1, 5, 9]])"
      ]
     },
     "execution_count": 290,
     "metadata": {},
     "output_type": "execute_result"
    }
   ],
   "source": [
    "k.resize(1,3) #orijinal olarak tek boyutluydu , sonuçta iki boyuta evrildi\n",
    "k"
   ]
  },
  {
   "cell_type": "code",
   "execution_count": 291,
   "id": "80cf8969-a69d-4aea-b481-6340122e038a",
   "metadata": {
    "tags": []
   },
   "outputs": [
    {
     "data": {
      "text/plain": [
       "array([[1, 2, 3, 4],\n",
       "       [5, 6, 7, 8]])"
      ]
     },
     "execution_count": 291,
     "metadata": {},
     "output_type": "execute_result"
    }
   ],
   "source": [
    "e = np.array([[1,2,3,4], [5,6,7,8]])\n",
    "e"
   ]
  },
  {
   "cell_type": "code",
   "execution_count": 422,
   "id": "6d5df04e-1681-4b7f-b8d7-d20aac7d16f9",
   "metadata": {
    "tags": []
   },
   "outputs": [
    {
     "data": {
      "text/plain": [
       "array([[1, 2],\n",
       "       [3, 4],\n",
       "       [5, 6],\n",
       "       [7, 8]])"
      ]
     },
     "execution_count": 422,
     "metadata": {},
     "output_type": "execute_result"
    }
   ],
   "source": [
    "q = e.reshape(4,2) #iki boyutluyu reshape yapalım\n",
    "q"
   ]
  },
  {
   "cell_type": "code",
   "execution_count": 424,
   "id": "27576f1c-cad1-4783-93d8-17d12fa470af",
   "metadata": {
    "tags": []
   },
   "outputs": [
    {
     "data": {
      "text/plain": [
       "array([[1, 2],\n",
       "       [3, 4],\n",
       "       [5, 6],\n",
       "       [7, 8]])"
      ]
     },
     "execution_count": 424,
     "metadata": {},
     "output_type": "execute_result"
    }
   ],
   "source": [
    "y = e.reshape(4, -1) # büyük bir veri var elinizde ama sadece bir boyutu biliyorsunuz\n",
    "y"
   ]
  },
  {
   "cell_type": "markdown",
   "id": "1745526e-a6f6-49f9-a2fd-641e868be0a8",
   "metadata": {},
   "source": [
    "Kafa karıştırıcı mı görünüyor? Çok büyük bir arrayiniz veya veri setiniz olduğunu hayal edin. Yeniden şekillendirmeden önce yalnızca bir boyutu biliyorsunuz. Yani, yeniden şekillendirme yönteminde bu bir boyutu girersiniz ve diğer boyut için -1'i kullanırsınız. Bu şekilde Numpy'nin kendisi diğer boyutu çözecektir."
   ]
  },
  {
   "cell_type": "code",
   "execution_count": 426,
   "id": "d72d746a-21fa-49f7-9ae8-835b9a7b5dce",
   "metadata": {
    "tags": []
   },
   "outputs": [
    {
     "data": {
      "text/plain": [
       "array([[1, 3, 5, 7],\n",
       "       [2, 4, 6, 8]])"
      ]
     },
     "execution_count": 426,
     "metadata": {},
     "output_type": "execute_result"
    }
   ],
   "source": [
    "y.T #Transpose the array"
   ]
  },
  {
   "cell_type": "markdown",
   "id": "5ee723e9-6d9a-49db-abc0-0871ce8f8268",
   "metadata": {},
   "source": [
    "Bu yönteme transpose deniyor. Bir dizi veya matris üzerinde transpose kullandığınızda, yalnızca boyutları değiştirir. 2×3 matris 3×2 olur, 3×6 matris 6×3 olur veya 1×3 matris 3×1 olur."
   ]
  },
  {
   "cell_type": "markdown",
   "id": "136fdfad-a08c-4f28-b013-a0d9253fc062",
   "metadata": {
    "tags": []
   },
   "source": [
    "### concatenation - birleştirme işlemleri"
   ]
  },
  {
   "cell_type": "code",
   "execution_count": 293,
   "id": "a837d4d3-5dce-4f3a-a8dd-52f074c775eb",
   "metadata": {
    "tags": []
   },
   "outputs": [],
   "source": [
    "import numpy as np"
   ]
  },
  {
   "cell_type": "code",
   "execution_count": 294,
   "id": "2271a15c-c691-49f8-a548-babc11d90373",
   "metadata": {
    "tags": []
   },
   "outputs": [],
   "source": [
    "x = np.array([1, 2, 3])\n",
    "y = np.array([4, 5, 6])"
   ]
  },
  {
   "cell_type": "code",
   "execution_count": 295,
   "id": "58fce79c-45a8-4c6e-8aa5-88e11320a14f",
   "metadata": {
    "tags": []
   },
   "outputs": [
    {
     "data": {
      "text/plain": [
       "array([1, 2, 3, 4, 5, 6])"
      ]
     },
     "execution_count": 295,
     "metadata": {},
     "output_type": "execute_result"
    }
   ],
   "source": [
    "np.concatenate([x, y])"
   ]
  },
  {
   "cell_type": "code",
   "execution_count": 296,
   "id": "bcaff688-7789-4d9c-9afa-c46e492d63d3",
   "metadata": {
    "tags": []
   },
   "outputs": [],
   "source": [
    "z = np.array([7, 8, 9])"
   ]
  },
  {
   "cell_type": "code",
   "execution_count": 297,
   "id": "2a5bdc40-7c51-4f9a-8187-585154731aaf",
   "metadata": {
    "tags": []
   },
   "outputs": [
    {
     "data": {
      "text/plain": [
       "array([1, 2, 3, 4, 5, 6, 7, 8, 9])"
      ]
     },
     "execution_count": 297,
     "metadata": {},
     "output_type": "execute_result"
    }
   ],
   "source": [
    "np.concatenate([x, y, z])"
   ]
  },
  {
   "cell_type": "markdown",
   "id": "8da786a5-1018-49a2-be2b-366b93170233",
   "metadata": {
    "tags": []
   },
   "source": [
    "> #iki boyutlu birleştirme - tek boyutlu array vektördür, iki ve daha fazla boyutlu array is matristir."
   ]
  },
  {
   "cell_type": "code",
   "execution_count": 298,
   "id": "ff60b568-1571-4ca0-abfb-e5e79242319d",
   "metadata": {
    "tags": []
   },
   "outputs": [],
   "source": [
    "a = np.array([[1, 2, 3], [4, 5, 6]])   #iki boyutlu arrayi/matrisi manuel oluşturma"
   ]
  },
  {
   "cell_type": "code",
   "execution_count": 299,
   "id": "2ef63a63-05ad-4b86-9c7a-f168d8e5ad27",
   "metadata": {
    "tags": []
   },
   "outputs": [
    {
     "data": {
      "text/plain": [
       "array([[1, 2, 3],\n",
       "       [4, 5, 6]])"
      ]
     },
     "execution_count": 299,
     "metadata": {},
     "output_type": "execute_result"
    }
   ],
   "source": [
    "a"
   ]
  },
  {
   "cell_type": "markdown",
   "id": "d7a0fb6e-a81d-40a8-a02b-c5956803ff9d",
   "metadata": {
    "tags": []
   },
   "source": [
    "> ##### a ile a'yı birleştirme (satır bazında birleştirme)  axis = 0 satır bazında(row sayısını artırır) , axis = 1 sutun bazında(column sayısını artırır)"
   ]
  },
  {
   "cell_type": "code",
   "execution_count": 300,
   "id": "b927f2c3-59b8-4eee-9bc0-9b943f24d8a6",
   "metadata": {
    "tags": []
   },
   "outputs": [
    {
     "data": {
      "text/plain": [
       "array([[1, 2, 3],\n",
       "       [4, 5, 6],\n",
       "       [1, 2, 3],\n",
       "       [4, 5, 6]])"
      ]
     },
     "execution_count": 300,
     "metadata": {},
     "output_type": "execute_result"
    }
   ],
   "source": [
    "np.concatenate([a, a]) "
   ]
  },
  {
   "cell_type": "markdown",
   "id": "8691b83e-006d-4fdf-b007-27502aed9ede",
   "metadata": {
    "tags": []
   },
   "source": [
    "> #sutun bazında birleştirme"
   ]
  },
  {
   "cell_type": "code",
   "execution_count": 301,
   "id": "250fade8-1f63-4f28-8836-7121d814eb98",
   "metadata": {
    "tags": []
   },
   "outputs": [
    {
     "data": {
      "text/plain": [
       "array([[1, 2, 3, 1, 2, 3],\n",
       "       [4, 5, 6, 4, 5, 6]])"
      ]
     },
     "execution_count": 301,
     "metadata": {},
     "output_type": "execute_result"
    }
   ],
   "source": [
    "np.concatenate([a, a], axis = 1)"
   ]
  },
  {
   "cell_type": "markdown",
   "id": "080280e7-a941-4f1c-a52a-7e4efc462528",
   "metadata": {},
   "source": [
    "### Append, Insert, Delete,  Sort ve Flip"
   ]
  },
  {
   "cell_type": "markdown",
   "id": "2cf6911e-f238-4b5f-9c7d-e27067e48ab7",
   "metadata": {
    "tags": []
   },
   "source": [
    "> `append`"
   ]
  },
  {
   "cell_type": "code",
   "execution_count": 435,
   "id": "22c91868-745b-4bde-88d7-82cd52c36003",
   "metadata": {
    "tags": []
   },
   "outputs": [
    {
     "data": {
      "text/plain": [
       "array([7, 3, 2, 5, 1, 4])"
      ]
     },
     "execution_count": 435,
     "metadata": {},
     "output_type": "execute_result"
    }
   ],
   "source": [
    "np.append([7,3], [[2,5], [1, 4]]) #append"
   ]
  },
  {
   "cell_type": "code",
   "execution_count": 437,
   "id": "0e04ea95-0604-4068-873f-ad669a161b12",
   "metadata": {
    "tags": []
   },
   "outputs": [
    {
     "data": {
      "text/plain": [
       "array([1, 2, 3, 4, 5, 6, 7])"
      ]
     },
     "execution_count": 437,
     "metadata": {},
     "output_type": "execute_result"
    }
   ],
   "source": [
    "np.append([1, 2, 3], [[4, 5], [6,7]])  #default olarak axis-1 horizantal yönde append yapılıyor"
   ]
  },
  {
   "cell_type": "code",
   "execution_count": 438,
   "id": "04b80174-143f-44ef-99cd-b13cce616a6a",
   "metadata": {
    "tags": []
   },
   "outputs": [
    {
     "data": {
      "text/plain": [
       "array([[1, 7, 5],\n",
       "       [4, 7, 6],\n",
       "       [1, 2, 3]])"
      ]
     },
     "execution_count": 438,
     "metadata": {},
     "output_type": "execute_result"
    }
   ],
   "source": [
    "np.append([[1,7,5], [4,7,6]], [[1,2,3]], axis=0) #axis-0 vertical yönde satır bazında"
   ]
  },
  {
   "cell_type": "markdown",
   "id": "3dfd331f-8710-4da5-86ee-2ed0c6ccc94c",
   "metadata": {},
   "source": [
    "> `insert`"
   ]
  },
  {
   "cell_type": "code",
   "execution_count": 440,
   "id": "8e17c27d-2335-4d1e-8c58-4d64f4e7aca5",
   "metadata": {
    "tags": []
   },
   "outputs": [
    {
     "data": {
      "text/plain": [
       "array([[7, 7],\n",
       "       [3, 4],\n",
       "       [5, 6]])"
      ]
     },
     "execution_count": 440,
     "metadata": {},
     "output_type": "execute_result"
    }
   ],
   "source": [
    "a = np.array([[7, 7], [3, 4], [5, 6]])\n",
    "a"
   ]
  },
  {
   "cell_type": "code",
   "execution_count": 442,
   "id": "cb03a120-32e6-45c7-990e-57a19adef086",
   "metadata": {
    "tags": []
   },
   "outputs": [
    {
     "data": {
      "text/plain": [
       "array([9, 7, 7, 3, 4, 5, 6])"
      ]
     },
     "execution_count": 442,
     "metadata": {},
     "output_type": "execute_result"
    }
   ],
   "source": [
    "np.insert(a, 0, 9) #insert 9 elemanını başlangıca insert yapalım"
   ]
  },
  {
   "cell_type": "markdown",
   "id": "c9f64c2b-57a4-47f9-bd9e-a42a8b167042",
   "metadata": {},
   "source": [
    "👆 (a, 0, 9)'da a arraydir, 0 öğenin eklenmesini istediğimiz konumdur ve 9 da eklenmesi gereken öğedir."
   ]
  },
  {
   "cell_type": "code",
   "execution_count": 444,
   "id": "c626ebde-fa35-4cf5-8ef8-364e0b10ce64",
   "metadata": {
    "tags": []
   },
   "outputs": [
    {
     "data": {
      "text/plain": [
       "array([[8, 7, 7],\n",
       "       [8, 3, 4],\n",
       "       [8, 5, 6]])"
      ]
     },
     "execution_count": 444,
     "metadata": {},
     "output_type": "execute_result"
    }
   ],
   "source": [
    "np.insert(a, 0, 8, axis=1) # axis-1 horizantal yönde 8'lerden bir column eklenir"
   ]
  },
  {
   "cell_type": "code",
   "execution_count": 447,
   "id": "8c4ce09e-0703-4f5d-9188-34ae7e2107e4",
   "metadata": {
    "tags": []
   },
   "outputs": [
    {
     "data": {
      "text/plain": [
       "array([[8, 8],\n",
       "       [7, 7],\n",
       "       [3, 4],\n",
       "       [5, 6]])"
      ]
     },
     "execution_count": 447,
     "metadata": {},
     "output_type": "execute_result"
    }
   ],
   "source": [
    "np.insert(a, 0, 8, axis=0) # axis - 0 vertical yönde 8'lerden  bir row eklenir"
   ]
  },
  {
   "cell_type": "markdown",
   "id": "3eff9b3f-ba3b-47f9-aef7-2e8f6003b856",
   "metadata": {},
   "source": [
    "> `delete`"
   ]
  },
  {
   "cell_type": "code",
   "execution_count": 449,
   "id": "6327265e-8e5a-4f4f-9c6b-63355c70b408",
   "metadata": {
    "tags": []
   },
   "outputs": [
    {
     "data": {
      "text/plain": [
       "array([[ 1,  3,  5,  8],\n",
       "       [ 3,  1,  9,  7],\n",
       "       [ 9, 10,  7,  3]])"
      ]
     },
     "execution_count": 449,
     "metadata": {},
     "output_type": "execute_result"
    }
   ],
   "source": [
    "a= np.array([[1, 3, 5, 8], [3, 1, 9, 7], [9, 10, 7, 3]])\n",
    "a"
   ]
  },
  {
   "cell_type": "code",
   "execution_count": 451,
   "id": "32801b22-c487-4269-84ae-eeb57aeae0f3",
   "metadata": {
    "tags": []
   },
   "outputs": [
    {
     "data": {
      "text/plain": [
       "array([ 1,  5,  3,  9,  7,  9, 10,  7,  3])"
      ]
     },
     "execution_count": 451,
     "metadata": {},
     "output_type": "execute_result"
    }
   ],
   "source": [
    "np.delete(a, [1, 3, 5]) #1. 3. ve 5. indextekiler silinir. Ekleme işlemi gibi silme işlemi de arrayi düzleştirir."
   ]
  },
  {
   "cell_type": "code",
   "execution_count": 454,
   "id": "804ea2bf-1b1e-404b-a2eb-755b9849cbd3",
   "metadata": {
    "tags": []
   },
   "outputs": [
    {
     "data": {
      "text/plain": [
       "array([ 1,  3,  5,  8,  3,  1,  9,  7,  9, 10,  7,  3])"
      ]
     },
     "execution_count": 454,
     "metadata": {},
     "output_type": "execute_result"
    }
   ],
   "source": [
    "a.flatten() #a arrayini düzleştir"
   ]
  },
  {
   "cell_type": "code",
   "execution_count": 456,
   "id": "588a3996-a203-4ce0-b834-05bb6648b433",
   "metadata": {
    "tags": []
   },
   "outputs": [
    {
     "data": {
      "text/plain": [
       "array([[1, 5, 8],\n",
       "       [3, 9, 7],\n",
       "       [9, 7, 3]])"
      ]
     },
     "execution_count": 456,
     "metadata": {},
     "output_type": "execute_result"
    }
   ],
   "source": [
    "np.delete(a, 1, 1) # (a, 1, 1) girişinde a diziyi, 1 silmek istediğimiz sütunun indeksini ve sondaki 1 ise ekseni belirler"
   ]
  },
  {
   "cell_type": "code",
   "execution_count": 459,
   "id": "f184fcbf-7834-423b-9575-a85d0846569e",
   "metadata": {
    "tags": []
   },
   "outputs": [
    {
     "data": {
      "text/plain": [
       "array([[ 1,  3,  5,  8],\n",
       "       [ 9, 10,  7,  3]])"
      ]
     },
     "execution_count": 459,
     "metadata": {},
     "output_type": "execute_result"
    }
   ],
   "source": [
    "np.delete(a, 1, 0) # a arrayi, 1 silmek istediğimiz satırı ve sondaki 0 ise axisi vertical yönde satır bazında belirler"
   ]
  },
  {
   "cell_type": "markdown",
   "id": "eb09615e-4234-42cc-9371-7eeb78f31f48",
   "metadata": {
    "tags": []
   },
   "source": [
    "> `sort`"
   ]
  },
  {
   "cell_type": "code",
   "execution_count": 463,
   "id": "09d69c1b-ac5f-4ffe-8aff-6ec1ba849c81",
   "metadata": {
    "tags": []
   },
   "outputs": [
    {
     "data": {
      "text/plain": [
       "array([[11,  3, 14, 13],\n",
       "       [ 7,  1,  7, 14],\n",
       "       [ 6,  7, 10,  2],\n",
       "       [ 4, 11, 12,  9]])"
      ]
     },
     "execution_count": 463,
     "metadata": {},
     "output_type": "execute_result"
    }
   ],
   "source": [
    "s = np.random.randint(1,16,(4,4))\n",
    "s"
   ]
  },
  {
   "cell_type": "code",
   "execution_count": 464,
   "id": "47077712-f730-4937-9bd0-9131503d8c62",
   "metadata": {
    "tags": []
   },
   "outputs": [
    {
     "data": {
      "text/plain": [
       "array([[ 3, 11, 13, 14],\n",
       "       [ 1,  7,  7, 14],\n",
       "       [ 2,  6,  7, 10],\n",
       "       [ 4,  9, 11, 12]])"
      ]
     },
     "execution_count": 464,
     "metadata": {},
     "output_type": "execute_result"
    }
   ],
   "source": [
    "np.sort(s)"
   ]
  },
  {
   "cell_type": "code",
   "execution_count": 467,
   "id": "d88d9646-b028-4815-8047-0b75741cc43e",
   "metadata": {
    "tags": []
   },
   "outputs": [
    {
     "data": {
      "text/plain": [
       "array([ 1,  2,  3,  4,  6,  7,  7,  7,  9, 10, 11, 11, 12, 13, 14, 14])"
      ]
     },
     "execution_count": 467,
     "metadata": {},
     "output_type": "execute_result"
    }
   ],
   "source": [
    "np.sort(s, axis=None) # axis none olduğunduğunda arrayi düzleştirir ve sort yapar"
   ]
  },
  {
   "cell_type": "code",
   "execution_count": 468,
   "id": "db680ada-b05d-45cb-b57d-d0db10b4b60e",
   "metadata": {
    "tags": []
   },
   "outputs": [
    {
     "data": {
      "text/plain": [
       "array([[ 4,  1,  7,  2],\n",
       "       [ 6,  3, 10,  9],\n",
       "       [ 7,  7, 12, 13],\n",
       "       [11, 11, 14, 14]])"
      ]
     },
     "execution_count": 468,
     "metadata": {},
     "output_type": "execute_result"
    }
   ],
   "source": [
    "np.sort(s, axis=0)"
   ]
  },
  {
   "cell_type": "code",
   "execution_count": 469,
   "id": "c374145f-775a-4f5d-b9fd-42448dbf6c40",
   "metadata": {
    "tags": []
   },
   "outputs": [
    {
     "data": {
      "text/plain": [
       "array([[ 3, 11, 13, 14],\n",
       "       [ 1,  7,  7, 14],\n",
       "       [ 2,  6,  7, 10],\n",
       "       [ 4,  9, 11, 12]])"
      ]
     },
     "execution_count": 469,
     "metadata": {},
     "output_type": "execute_result"
    }
   ],
   "source": [
    "np.sort(s, axis=1)"
   ]
  },
  {
   "cell_type": "markdown",
   "id": "78438c2f-e33b-4282-8f49-383b4dd9a54d",
   "metadata": {},
   "source": [
    "> `flip`"
   ]
  },
  {
   "cell_type": "code",
   "execution_count": 478,
   "id": "5b037103-f0ff-4f86-abc7-9d21054e9fdd",
   "metadata": {
    "tags": []
   },
   "outputs": [],
   "source": [
    "f = np.arange(0,16).reshape(4,4)"
   ]
  },
  {
   "cell_type": "code",
   "execution_count": 479,
   "id": "9cdf300c-8374-4ec7-a22b-cc33859e86fb",
   "metadata": {
    "tags": []
   },
   "outputs": [
    {
     "data": {
      "text/plain": [
       "array([[ 0,  1,  2,  3],\n",
       "       [ 4,  5,  6,  7],\n",
       "       [ 8,  9, 10, 11],\n",
       "       [12, 13, 14, 15]])"
      ]
     },
     "execution_count": 479,
     "metadata": {},
     "output_type": "execute_result"
    }
   ],
   "source": [
    "f"
   ]
  },
  {
   "cell_type": "code",
   "execution_count": 483,
   "id": "41ef138c-9051-4337-99b0-6bf0b49c2075",
   "metadata": {
    "tags": []
   },
   "outputs": [
    {
     "data": {
      "text/plain": [
       "array([[12, 13, 14, 15],\n",
       "       [ 8,  9, 10, 11],\n",
       "       [ 4,  5,  6,  7],\n",
       "       [ 0,  1,  2,  3]])"
      ]
     },
     "execution_count": 483,
     "metadata": {},
     "output_type": "execute_result"
    }
   ],
   "source": [
    "np.flip(f, 0)  #flip axis 0 yönünde"
   ]
  },
  {
   "cell_type": "code",
   "execution_count": 482,
   "id": "8fe810ed-cc3d-4ba1-af2f-235c72c2e4b8",
   "metadata": {
    "tags": []
   },
   "outputs": [
    {
     "data": {
      "text/plain": [
       "array([[ 3,  2,  1,  0],\n",
       "       [ 7,  6,  5,  4],\n",
       "       [11, 10,  9,  8],\n",
       "       [15, 14, 13, 12]])"
      ]
     },
     "execution_count": 482,
     "metadata": {},
     "output_type": "execute_result"
    }
   ],
   "source": [
    "np.flip(f, 1) #flip  axis 1 yönünde"
   ]
  },
  {
   "cell_type": "markdown",
   "id": "9ef7a4c8-2259-4aed-8c84-81a25952d61d",
   "metadata": {
    "tags": []
   },
   "source": [
    "\n",
    "### Array tekrarlama - Array Repeat"
   ]
  },
  {
   "cell_type": "code",
   "execution_count": 302,
   "id": "cb6648a6-7bde-423f-8edf-a22fdcb27391",
   "metadata": {
    "tags": []
   },
   "outputs": [
    {
     "data": {
      "text/plain": [
       "array([3, 5, 7, 9])"
      ]
     },
     "execution_count": 302,
     "metadata": {},
     "output_type": "execute_result"
    }
   ],
   "source": [
    "np.array([ 3, 5, 7, 9])\n"
   ]
  },
  {
   "cell_type": "markdown",
   "id": "f5a92ff6-e943-4198-bc7e-d81e071f52d8",
   "metadata": {},
   "source": [
    "Dizinin tamamını tekrarlamak istiyorsanız"
   ]
  },
  {
   "cell_type": "code",
   "execution_count": 303,
   "id": "0e63c624-1650-4c2e-8931-e9a8e3a0fa7b",
   "metadata": {
    "tags": []
   },
   "outputs": [
    {
     "data": {
      "text/plain": [
       "array([3, 5, 7, 9, 3, 5, 7, 9, 3, 5, 7, 9, 3, 5, 7, 9])"
      ]
     },
     "execution_count": 303,
     "metadata": {},
     "output_type": "execute_result"
    }
   ],
   "source": [
    "np.array([ 3, 5, 7, 9]*4)"
   ]
  },
  {
   "cell_type": "markdown",
   "id": "b8db77d8-8e5a-4bf6-99f9-2c9c41e8bd22",
   "metadata": {},
   "source": [
    "Element bazında tekrarın nasıl yapılacağı "
   ]
  },
  {
   "cell_type": "code",
   "execution_count": 304,
   "id": "68ff3cef-8c3f-4c95-ab8f-f5ee745e6b16",
   "metadata": {
    "tags": []
   },
   "outputs": [
    {
     "data": {
      "text/plain": [
       "array([3, 3, 3, 3, 5, 5, 5, 5, 7, 7, 7, 7, 9, 9, 9, 9])"
      ]
     },
     "execution_count": 304,
     "metadata": {},
     "output_type": "execute_result"
    }
   ],
   "source": [
    "np.repeat([ 3, 5, 7, 9], 4)"
   ]
  },
  {
   "cell_type": "code",
   "execution_count": 305,
   "id": "abe72a1f-b9d0-40d0-be4d-0b2bb42203a6",
   "metadata": {
    "tags": []
   },
   "outputs": [],
   "source": [
    "_2dtekr = np.array([[3,5,7,9]]) #iki boyutlu bir array yapalım ve 4 kez satır bazında tekrarlayalım"
   ]
  },
  {
   "cell_type": "code",
   "execution_count": 306,
   "id": "5d4bd7f1-2993-4b06-9534-8c866b69c8ad",
   "metadata": {
    "tags": []
   },
   "outputs": [
    {
     "data": {
      "text/plain": [
       "array([[3, 5, 7, 9],\n",
       "       [3, 5, 7, 9],\n",
       "       [3, 5, 7, 9],\n",
       "       [3, 5, 7, 9]])"
      ]
     },
     "execution_count": 306,
     "metadata": {},
     "output_type": "execute_result"
    }
   ],
   "source": [
    "np.repeat(_2dtekr,4,axis=0) #axis(eksen) = 0. Yani tekrar eksen-0 yönünde veya satırlar yönünde gerçekleşti."
   ]
  },
  {
   "cell_type": "code",
   "execution_count": 307,
   "id": "d865f306-ef2d-4fa7-b012-b1d0bb081599",
   "metadata": {
    "tags": []
   },
   "outputs": [
    {
     "data": {
      "text/plain": [
       "array([[3, 3, 3, 3, 5, 5, 5, 5, 7, 7, 7, 7, 9, 9, 9, 9]])"
      ]
     },
     "execution_count": 307,
     "metadata": {},
     "output_type": "execute_result"
    }
   ],
   "source": [
    "np.repeat(_2dtekr,4,axis=1) #sütun bazında, Eksen 1 sütunların yönünü gösterir"
   ]
  },
  {
   "cell_type": "markdown",
   "id": "78c0cf5a-3759-484f-aa95-a17b68a5e113",
   "metadata": {},
   "source": [
    "### Array ayırma - Splitting"
   ]
  },
  {
   "cell_type": "code",
   "execution_count": 308,
   "id": "0d5d97ae-3465-4a22-95c2-548ca791003c",
   "metadata": {
    "tags": []
   },
   "outputs": [],
   "source": [
    "import numpy as np"
   ]
  },
  {
   "cell_type": "code",
   "execution_count": 309,
   "id": "5b162dc7-f722-4121-a733-4b8e424ee532",
   "metadata": {
    "tags": []
   },
   "outputs": [],
   "source": [
    "x = np.array([1, 2, 3, 99, 99, 3, 2, 1])"
   ]
  },
  {
   "cell_type": "code",
   "execution_count": 310,
   "id": "6b5a7c54-14ea-4d5d-913b-72e6b0b491ee",
   "metadata": {
    "tags": []
   },
   "outputs": [
    {
     "data": {
      "text/plain": [
       "[array([1, 2, 3]), array([99, 99]), array([3, 2, 1])]"
      ]
     },
     "execution_count": 310,
     "metadata": {},
     "output_type": "execute_result"
    }
   ],
   "source": [
    "np.split(x, [3, 5])"
   ]
  },
  {
   "cell_type": "code",
   "execution_count": 311,
   "id": "3adca568-2261-4d00-9a92-66a39e6b848c",
   "metadata": {
    "tags": []
   },
   "outputs": [],
   "source": [
    "a, b, c = np.split(x, [3, 5])"
   ]
  },
  {
   "cell_type": "code",
   "execution_count": 312,
   "id": "dfc8c237-fde3-486b-b3fe-05d52845c6f2",
   "metadata": {
    "tags": []
   },
   "outputs": [
    {
     "name": "stdout",
     "output_type": "stream",
     "text": [
      "[1 2 3] [99 99] [3 2 1]\n"
     ]
    }
   ],
   "source": [
    "print(a , b, c)"
   ]
  },
  {
   "cell_type": "code",
   "execution_count": 313,
   "id": "b98cee74-ae59-4fd0-b06e-711a20bb5fd9",
   "metadata": {
    "tags": []
   },
   "outputs": [
    {
     "data": {
      "text/plain": [
       "array([1, 2, 3])"
      ]
     },
     "execution_count": 313,
     "metadata": {},
     "output_type": "execute_result"
    }
   ],
   "source": [
    "a"
   ]
  },
  {
   "cell_type": "code",
   "execution_count": 314,
   "id": "54bf194d-328a-46a4-8a16-d44ca23e4d77",
   "metadata": {
    "tags": []
   },
   "outputs": [
    {
     "data": {
      "text/plain": [
       "array([99, 99])"
      ]
     },
     "execution_count": 314,
     "metadata": {},
     "output_type": "execute_result"
    }
   ],
   "source": [
    "b"
   ]
  },
  {
   "cell_type": "code",
   "execution_count": 315,
   "id": "bd0628c8-0215-4fe5-90a1-ee510cba97e2",
   "metadata": {
    "tags": []
   },
   "outputs": [
    {
     "data": {
      "text/plain": [
       "array([3, 2, 1])"
      ]
     },
     "execution_count": 315,
     "metadata": {},
     "output_type": "execute_result"
    }
   ],
   "source": [
    "c"
   ]
  },
  {
   "cell_type": "markdown",
   "id": "f88c7625-07fc-4e48-98aa-89c1c4e17897",
   "metadata": {
    "tags": []
   },
   "source": [
    "> #iki boyutlu ayırma"
   ]
  },
  {
   "cell_type": "code",
   "execution_count": 316,
   "id": "5a82de7c-afde-4206-a430-bc2a7a12ea5b",
   "metadata": {
    "tags": []
   },
   "outputs": [
    {
     "data": {
      "text/plain": [
       "array([[ 0,  1,  2,  3],\n",
       "       [ 4,  5,  6,  7],\n",
       "       [ 8,  9, 10, 11],\n",
       "       [12, 13, 14, 15]])"
      ]
     },
     "execution_count": 316,
     "metadata": {},
     "output_type": "execute_result"
    }
   ],
   "source": [
    "m = np.arange(16).reshape(4,4)\n",
    "m"
   ]
  },
  {
   "cell_type": "markdown",
   "id": "5a017af6-b0f0-4641-8f56-5d3bd217ee84",
   "metadata": {},
   "source": [
    "> ##### vertical split"
   ]
  },
  {
   "cell_type": "code",
   "execution_count": 317,
   "id": "ef82803d-706c-4100-abfe-df202dfdde0c",
   "metadata": {
    "tags": []
   },
   "outputs": [
    {
     "data": {
      "text/plain": [
       "[array([[0, 1, 2, 3],\n",
       "        [4, 5, 6, 7]]),\n",
       " array([[ 8,  9, 10, 11],\n",
       "        [12, 13, 14, 15]])]"
      ]
     },
     "execution_count": 317,
     "metadata": {},
     "output_type": "execute_result"
    }
   ],
   "source": [
    "np.vsplit(m, [2])  #vertical split"
   ]
  },
  {
   "cell_type": "code",
   "execution_count": 318,
   "id": "005788ba-3e02-4b7d-9b3c-eb80d8622db3",
   "metadata": {
    "tags": []
   },
   "outputs": [],
   "source": [
    "ust ,alt = np.vsplit(m, [2])"
   ]
  },
  {
   "cell_type": "code",
   "execution_count": 319,
   "id": "45c3b32d-1c70-438b-934f-8bc860f70da4",
   "metadata": {
    "tags": []
   },
   "outputs": [
    {
     "data": {
      "text/plain": [
       "array([[0, 1, 2, 3],\n",
       "       [4, 5, 6, 7]])"
      ]
     },
     "execution_count": 319,
     "metadata": {},
     "output_type": "execute_result"
    }
   ],
   "source": [
    "ust"
   ]
  },
  {
   "cell_type": "code",
   "execution_count": 320,
   "id": "62c81500-03d0-410a-8330-860313a45c59",
   "metadata": {
    "tags": []
   },
   "outputs": [
    {
     "data": {
      "text/plain": [
       "array([[ 8,  9, 10, 11],\n",
       "       [12, 13, 14, 15]])"
      ]
     },
     "execution_count": 320,
     "metadata": {},
     "output_type": "execute_result"
    }
   ],
   "source": [
    "alt"
   ]
  },
  {
   "cell_type": "code",
   "execution_count": 321,
   "id": "163f0fd7-6973-43fc-a940-dd70bbdc351f",
   "metadata": {
    "tags": []
   },
   "outputs": [
    {
     "data": {
      "text/plain": [
       "array([[ 0,  1,  2,  3],\n",
       "       [ 4,  5,  6,  7],\n",
       "       [ 8,  9, 10, 11],\n",
       "       [12, 13, 14, 15]])"
      ]
     },
     "execution_count": 321,
     "metadata": {},
     "output_type": "execute_result"
    }
   ],
   "source": [
    "m"
   ]
  },
  {
   "cell_type": "markdown",
   "id": "aca58ae8-4dee-4dec-8b1f-8864694151c3",
   "metadata": {},
   "source": [
    "> #horizontal split"
   ]
  },
  {
   "cell_type": "code",
   "execution_count": 322,
   "id": "b41a9d15-6b7d-43eb-bec6-a73a39a2ed6b",
   "metadata": {
    "tags": []
   },
   "outputs": [
    {
     "data": {
      "text/plain": [
       "[array([[ 0,  1],\n",
       "        [ 4,  5],\n",
       "        [ 8,  9],\n",
       "        [12, 13]]),\n",
       " array([[ 2,  3],\n",
       "        [ 6,  7],\n",
       "        [10, 11],\n",
       "        [14, 15]])]"
      ]
     },
     "execution_count": 322,
     "metadata": {},
     "output_type": "execute_result"
    }
   ],
   "source": [
    "np.hsplit(m , [2]) #horizontal split"
   ]
  },
  {
   "cell_type": "code",
   "execution_count": 323,
   "id": "af5c5dfb-2ddd-43a5-9fc0-532ab9505aec",
   "metadata": {
    "tags": []
   },
   "outputs": [],
   "source": [
    "sag, sol = np.hsplit(m , [2])"
   ]
  },
  {
   "cell_type": "code",
   "execution_count": 324,
   "id": "32646f13-ef30-4591-8192-43c8d8402bae",
   "metadata": {
    "tags": []
   },
   "outputs": [
    {
     "data": {
      "text/plain": [
       "array([[ 0,  1],\n",
       "       [ 4,  5],\n",
       "       [ 8,  9],\n",
       "       [12, 13]])"
      ]
     },
     "execution_count": 324,
     "metadata": {},
     "output_type": "execute_result"
    }
   ],
   "source": [
    "sag"
   ]
  },
  {
   "cell_type": "code",
   "execution_count": 325,
   "id": "5509fbb0-1eb1-48fa-a15a-e2ab2d0d1c28",
   "metadata": {
    "tags": []
   },
   "outputs": [
    {
     "data": {
      "text/plain": [
       "array([[ 2,  3],\n",
       "       [ 6,  7],\n",
       "       [10, 11],\n",
       "       [14, 15]])"
      ]
     },
     "execution_count": 325,
     "metadata": {},
     "output_type": "execute_result"
    }
   ],
   "source": [
    "sol"
   ]
  },
  {
   "cell_type": "code",
   "execution_count": 428,
   "id": "bdf924f2-7bc4-41f3-9d62-51d49a953410",
   "metadata": {
    "tags": []
   },
   "outputs": [],
   "source": [
    "n1 = [[2, 5, 8, 7], [6, 5, 2, 1]]\n",
    "n2 = [4, 0, 9, 5]"
   ]
  },
  {
   "cell_type": "code",
   "execution_count": 429,
   "id": "2b361fe4-871b-4c95-8ae5-e5a22f56e5f4",
   "metadata": {
    "tags": []
   },
   "outputs": [
    {
     "data": {
      "text/plain": [
       "array([[2, 5, 8, 7],\n",
       "       [6, 5, 2, 1],\n",
       "       [4, 0, 9, 5]])"
      ]
     },
     "execution_count": 429,
     "metadata": {},
     "output_type": "execute_result"
    }
   ],
   "source": [
    "np.vstack([n1, n2])  #vstack"
   ]
  },
  {
   "cell_type": "code",
   "execution_count": 430,
   "id": "e655938b-b7fb-43bb-86c1-efa4ec386afe",
   "metadata": {
    "tags": []
   },
   "outputs": [
    {
     "data": {
      "text/plain": [
       "array([[2, 5, 8, 7],\n",
       "       [6, 5, 2, 1],\n",
       "       [4, 0, 9, 5],\n",
       "       [4, 0, 9, 5]])"
      ]
     },
     "execution_count": 430,
     "metadata": {},
     "output_type": "execute_result"
    }
   ],
   "source": [
    "np.vstack([n1, n2, n2])  #Bunları istediğiniz kadar stackleyebilirsiniz/istifleyebilirsiniz."
   ]
  },
  {
   "cell_type": "code",
   "execution_count": 431,
   "id": "cf3a0701-8669-49bd-8e3c-e12b9ba3fbe1",
   "metadata": {
    "tags": []
   },
   "outputs": [
    {
     "data": {
      "text/plain": [
       "array([[2, 5, 8, 7],\n",
       "       [6, 5, 2, 1]])"
      ]
     },
     "execution_count": 431,
     "metadata": {},
     "output_type": "execute_result"
    }
   ],
   "source": [
    "np.array(n1)"
   ]
  },
  {
   "cell_type": "code",
   "execution_count": 432,
   "id": "f6bf1394-c70d-4951-96c8-88f6701cca2d",
   "metadata": {
    "tags": []
   },
   "outputs": [
    {
     "data": {
      "text/plain": [
       "array([[1., 1., 1.],\n",
       "       [1., 1., 1.]])"
      ]
     },
     "execution_count": 432,
     "metadata": {},
     "output_type": "execute_result"
    }
   ],
   "source": [
    "n3 = np.ones((2,3))\n",
    "n3"
   ]
  },
  {
   "cell_type": "code",
   "execution_count": 433,
   "id": "b5bc0cfd-ef92-47b9-a466-37f9865c4014",
   "metadata": {
    "tags": []
   },
   "outputs": [
    {
     "data": {
      "text/plain": [
       "array([[2., 5., 8., 7., 1., 1., 1.],\n",
       "       [6., 5., 2., 1., 1., 1., 1.]])"
      ]
     },
     "execution_count": 433,
     "metadata": {},
     "output_type": "execute_result"
    }
   ],
   "source": [
    "np.hstack([n1, n3])  #horizantal stack"
   ]
  },
  {
   "cell_type": "markdown",
   "id": "fcf2ca5f-331c-4a89-b485-4a915ebf1764",
   "metadata": {},
   "source": [
    "![Divider05](images/divider05.png)"
   ]
  },
  {
   "cell_type": "markdown",
   "id": "77b23e5c-b741-482d-b6db-2a10bb1e0193",
   "metadata": {},
   "source": [
    "### Sorting - Sıralama"
   ]
  },
  {
   "cell_type": "code",
   "execution_count": 326,
   "id": "b1101e6e-2cec-4b67-b2fa-082297808bcd",
   "metadata": {
    "tags": []
   },
   "outputs": [],
   "source": [
    "import numpy as np"
   ]
  },
  {
   "cell_type": "code",
   "execution_count": 327,
   "id": "35bf2828-6fe5-491f-8195-c89ca5f9dbae",
   "metadata": {
    "tags": []
   },
   "outputs": [],
   "source": [
    "v = np.array([2, 1, 4, 3, 5])"
   ]
  },
  {
   "cell_type": "code",
   "execution_count": 328,
   "id": "71aa8e87-630b-4566-b353-1da4cd95a0ef",
   "metadata": {
    "tags": []
   },
   "outputs": [
    {
     "data": {
      "text/plain": [
       "array([2, 1, 4, 3, 5])"
      ]
     },
     "execution_count": 328,
     "metadata": {},
     "output_type": "execute_result"
    }
   ],
   "source": [
    "v"
   ]
  },
  {
   "cell_type": "code",
   "execution_count": 329,
   "id": "f68449ed-0c80-491d-a599-62c6fa57be19",
   "metadata": {
    "tags": []
   },
   "outputs": [
    {
     "data": {
      "text/plain": [
       "array([1, 2, 3, 4, 5])"
      ]
     },
     "execution_count": 329,
     "metadata": {},
     "output_type": "execute_result"
    }
   ],
   "source": [
    "np.sort(v) #numpy içerisinden çağrıldığında arrayin orijinal yapısını bozmaz"
   ]
  },
  {
   "cell_type": "code",
   "execution_count": 330,
   "id": "ecdd30ce-3da5-405f-9b8b-fe7b3682cf8c",
   "metadata": {
    "tags": []
   },
   "outputs": [
    {
     "data": {
      "text/plain": [
       "array([2, 1, 4, 3, 5])"
      ]
     },
     "execution_count": 330,
     "metadata": {},
     "output_type": "execute_result"
    }
   ],
   "source": [
    "v"
   ]
  },
  {
   "cell_type": "code",
   "execution_count": 331,
   "id": "91a7192e-cecd-4213-9c19-3d034232b40a",
   "metadata": {
    "tags": []
   },
   "outputs": [],
   "source": [
    "v.sort() #nesneden çağrıldığında yapısını alter eder"
   ]
  },
  {
   "cell_type": "code",
   "execution_count": 332,
   "id": "e8d58729-dbcc-4007-81f1-1294921ae9b4",
   "metadata": {
    "tags": []
   },
   "outputs": [
    {
     "data": {
      "text/plain": [
       "array([1, 2, 3, 4, 5])"
      ]
     },
     "execution_count": 332,
     "metadata": {},
     "output_type": "execute_result"
    }
   ],
   "source": [
    "v"
   ]
  },
  {
   "cell_type": "markdown",
   "id": "fc52f50c-d879-4fcb-b47c-57b304b047c3",
   "metadata": {
    "tags": []
   },
   "source": [
    "> #iki boyutlu sorting"
   ]
  },
  {
   "cell_type": "code",
   "execution_count": 333,
   "id": "e3d53e0a-1932-4459-8507-7820c64a095e",
   "metadata": {
    "tags": []
   },
   "outputs": [],
   "source": [
    "m = np.random.normal(20 , 5, (3, 3)) #ortalaması 20 standart sapması 5 olabilecek şekilde "
   ]
  },
  {
   "cell_type": "code",
   "execution_count": 334,
   "id": "703de204-2a26-41d7-b3e3-f86cbf9d6f65",
   "metadata": {
    "tags": []
   },
   "outputs": [
    {
     "data": {
      "text/plain": [
       "array([[19.729877  , 25.00682366, 22.48306638],\n",
       "       [22.11851838, 15.62072915, 18.83734856],\n",
       "       [14.78102506, 17.77085194, 18.59050694]])"
      ]
     },
     "execution_count": 334,
     "metadata": {},
     "output_type": "execute_result"
    }
   ],
   "source": [
    "m"
   ]
  },
  {
   "cell_type": "code",
   "execution_count": 335,
   "id": "607bd16e-b91b-40fa-8d8a-a49c69ab0e18",
   "metadata": {
    "tags": []
   },
   "outputs": [
    {
     "data": {
      "text/plain": [
       "array([[19.729877  , 22.48306638, 25.00682366],\n",
       "       [15.62072915, 18.83734856, 22.11851838],\n",
       "       [14.78102506, 17.77085194, 18.59050694]])"
      ]
     },
     "execution_count": 335,
     "metadata": {},
     "output_type": "execute_result"
    }
   ],
   "source": [
    "np.sort(m, axis = 1)  # her satırı küçükten büyüğe olacak şekilde sıralıyor"
   ]
  },
  {
   "cell_type": "code",
   "execution_count": 336,
   "id": "4f0800ed-cd21-4d98-bead-1ec355dfa702",
   "metadata": {
    "tags": []
   },
   "outputs": [
    {
     "data": {
      "text/plain": [
       "array([[14.78102506, 15.62072915, 18.59050694],\n",
       "       [19.729877  , 17.77085194, 18.83734856],\n",
       "       [22.11851838, 25.00682366, 22.48306638]])"
      ]
     },
     "execution_count": 336,
     "metadata": {},
     "output_type": "execute_result"
    }
   ],
   "source": [
    "np.sort(m, axis = 0)  # her sutunu küçükten büyüğe olacak şekilde sıralıyor"
   ]
  },
  {
   "cell_type": "markdown",
   "id": "3102020e-8173-45d9-84e4-04e73a8b0408",
   "metadata": {},
   "source": [
    "![Divider05](images/divider05.png)"
   ]
  },
  {
   "cell_type": "markdown",
   "id": "a9515aba-b788-4217-8c50-44f1d41cdb04",
   "metadata": {},
   "source": [
    "### ELEMAN İŞLEMLERİ - Alt Kümeleme, Dilimleme, İndeksleme ( Subsetting, Slicing, Indexing ) "
   ]
  },
  {
   "cell_type": "code",
   "execution_count": 337,
   "id": "90c435d3-7c7a-4b27-a9c4-5628ed9eab3e",
   "metadata": {
    "tags": []
   },
   "outputs": [],
   "source": [
    "#ındex ile elemanlara erişme işlemleri"
   ]
  },
  {
   "cell_type": "code",
   "execution_count": 338,
   "id": "f333d516-3d73-4353-a231-74a7163c6d12",
   "metadata": {
    "tags": []
   },
   "outputs": [],
   "source": [
    "import numpy as np"
   ]
  },
  {
   "cell_type": "code",
   "execution_count": 339,
   "id": "76fa1d89-c782-4708-8e1a-58845ae45510",
   "metadata": {
    "tags": []
   },
   "outputs": [
    {
     "data": {
      "text/plain": [
       "array([5, 3, 6, 3, 6, 9, 6, 3, 9, 4])"
      ]
     },
     "execution_count": 339,
     "metadata": {},
     "output_type": "execute_result"
    }
   ],
   "source": [
    "a = np.random.randint(10, size = 10)\n",
    "a"
   ]
  },
  {
   "cell_type": "code",
   "execution_count": 340,
   "id": "05d69c8e-7148-489d-84e9-4bc7fa584b91",
   "metadata": {
    "tags": []
   },
   "outputs": [
    {
     "data": {
      "text/plain": [
       "5"
      ]
     },
     "execution_count": 340,
     "metadata": {},
     "output_type": "execute_result"
    }
   ],
   "source": [
    "a[0] # 0. dizindeki öğeyi seçin"
   ]
  },
  {
   "cell_type": "code",
   "execution_count": 341,
   "id": "2e5b8a3a-1c69-48da-97d6-18a3cd01b66c",
   "metadata": {
    "tags": []
   },
   "outputs": [
    {
     "data": {
      "text/plain": [
       "4"
      ]
     },
     "execution_count": 341,
     "metadata": {},
     "output_type": "execute_result"
    }
   ],
   "source": [
    "a[-1]"
   ]
  },
  {
   "cell_type": "code",
   "execution_count": 342,
   "id": "8879bb4b-a2ae-4cd3-904f-ff25f31dc9aa",
   "metadata": {
    "tags": []
   },
   "outputs": [],
   "source": [
    "a[0] = 100"
   ]
  },
  {
   "cell_type": "code",
   "execution_count": 343,
   "id": "bd1a67ad-f631-4d54-a35c-fc4f4ee77455",
   "metadata": {
    "tags": []
   },
   "outputs": [
    {
     "data": {
      "text/plain": [
       "array([100,   3,   6,   3,   6,   9,   6,   3,   9,   4])"
      ]
     },
     "execution_count": 343,
     "metadata": {},
     "output_type": "execute_result"
    }
   ],
   "source": [
    "a"
   ]
  },
  {
   "cell_type": "markdown",
   "id": "17f9abb6-b5cd-4012-9b2b-4519b3430ff0",
   "metadata": {
    "tags": []
   },
   "source": [
    "> #iki boyutluda elemana erişim işlemi"
   ]
  },
  {
   "cell_type": "code",
   "execution_count": 344,
   "id": "0c16e178-f437-42e6-8780-8c146f6798b0",
   "metadata": {
    "tags": []
   },
   "outputs": [
    {
     "data": {
      "text/plain": [
       "array([[0, 5, 6, 9, 1],\n",
       "       [4, 8, 3, 9, 7],\n",
       "       [8, 2, 6, 4, 4]])"
      ]
     },
     "execution_count": 344,
     "metadata": {},
     "output_type": "execute_result"
    }
   ],
   "source": [
    "m = np.random.randint(10, size = (3,5))\n",
    "m"
   ]
  },
  {
   "cell_type": "markdown",
   "id": "4ed23df7-d92c-4d61-9c53-b21c2f24e53e",
   "metadata": {},
   "source": [
    "Satır 1 sütun 2'deki öğeyi seçin\n",
    "  (m[1][2]'ye eşdeğer)"
   ]
  },
  {
   "cell_type": "code",
   "execution_count": 345,
   "id": "25ddcb29-7a18-4be7-b776-99f242c90082",
   "metadata": {
    "tags": []
   },
   "outputs": [
    {
     "data": {
      "text/plain": [
       "3"
      ]
     },
     "execution_count": 345,
     "metadata": {},
     "output_type": "execute_result"
    }
   ],
   "source": [
    "m[1,2]"
   ]
  },
  {
   "cell_type": "code",
   "execution_count": 346,
   "id": "bcc1da7d-b621-4a1c-a9f6-eee25a024022",
   "metadata": {
    "tags": []
   },
   "outputs": [
    {
     "data": {
      "text/plain": [
       "0"
      ]
     },
     "execution_count": 346,
     "metadata": {},
     "output_type": "execute_result"
    }
   ],
   "source": [
    "m[0,0]"
   ]
  },
  {
   "cell_type": "code",
   "execution_count": 347,
   "id": "39664e96-0199-4898-bcfe-9d98c0cb5056",
   "metadata": {
    "tags": []
   },
   "outputs": [
    {
     "data": {
      "text/plain": [
       "8"
      ]
     },
     "execution_count": 347,
     "metadata": {},
     "output_type": "execute_result"
    }
   ],
   "source": [
    "m[1,1]"
   ]
  },
  {
   "cell_type": "code",
   "execution_count": 348,
   "id": "0878bb19-c2ee-49ed-9ca4-dc73d6b1983b",
   "metadata": {
    "tags": []
   },
   "outputs": [
    {
     "data": {
      "text/plain": [
       "6"
      ]
     },
     "execution_count": 348,
     "metadata": {},
     "output_type": "execute_result"
    }
   ],
   "source": [
    "m[2, 2]"
   ]
  },
  {
   "cell_type": "code",
   "execution_count": 349,
   "id": "efb34bdc-0a11-494b-807f-d3359ddab5cd",
   "metadata": {
    "tags": []
   },
   "outputs": [
    {
     "data": {
      "text/plain": [
       "7"
      ]
     },
     "execution_count": 349,
     "metadata": {},
     "output_type": "execute_result"
    }
   ],
   "source": [
    "m[1,4]"
   ]
  },
  {
   "cell_type": "code",
   "execution_count": 350,
   "id": "52ed20f0-cedd-44f8-a4e9-0ed8ae64d5b8",
   "metadata": {
    "tags": []
   },
   "outputs": [],
   "source": [
    "m[1,4] = 2"
   ]
  },
  {
   "cell_type": "code",
   "execution_count": 351,
   "id": "42143e30-8309-4e63-8c07-29572d488bad",
   "metadata": {
    "tags": []
   },
   "outputs": [
    {
     "data": {
      "text/plain": [
       "array([[0, 5, 6, 9, 1],\n",
       "       [4, 8, 3, 9, 2],\n",
       "       [8, 2, 6, 4, 4]])"
      ]
     },
     "execution_count": 351,
     "metadata": {},
     "output_type": "execute_result"
    }
   ],
   "source": [
    "m"
   ]
  },
  {
   "cell_type": "code",
   "execution_count": 352,
   "id": "962f61f1-7f45-4532-86c7-b2663731b3b0",
   "metadata": {
    "tags": []
   },
   "outputs": [
    {
     "data": {
      "text/plain": [
       "array([[0, 5, 6, 9, 1],\n",
       "       [4, 8, 3, 9, 2],\n",
       "       [8, 2, 6, 4, 4]])"
      ]
     },
     "execution_count": 352,
     "metadata": {},
     "output_type": "execute_result"
    }
   ],
   "source": [
    "m[1,4] = 2.2\n",
    "m"
   ]
  },
  {
   "cell_type": "markdown",
   "id": "a303ed15-46b3-424c-b243-ddd6a54b44b8",
   "metadata": {},
   "source": [
    "> #Array alt küme işlemleri - slicing"
   ]
  },
  {
   "cell_type": "code",
   "execution_count": 353,
   "id": "3b2e8ac5-ecb7-47a6-9b9b-55771198e481",
   "metadata": {
    "tags": []
   },
   "outputs": [],
   "source": [
    "import numpy as np"
   ]
  },
  {
   "cell_type": "code",
   "execution_count": 354,
   "id": "d7be3052-72a9-4e2d-93e4-35ba2ac48670",
   "metadata": {
    "tags": []
   },
   "outputs": [
    {
     "data": {
      "text/plain": [
       "array([20, 21, 22, 23, 24, 25, 26, 27, 28, 29])"
      ]
     },
     "execution_count": 354,
     "metadata": {},
     "output_type": "execute_result"
    }
   ],
   "source": [
    "a = np.arange(20, 30)\n",
    "a"
   ]
  },
  {
   "cell_type": "code",
   "execution_count": 355,
   "id": "a7bf8ef3-433c-4375-8741-ec98ec9306e0",
   "metadata": {
    "tags": []
   },
   "outputs": [
    {
     "data": {
      "text/plain": [
       "array([20, 21, 22])"
      ]
     },
     "execution_count": 355,
     "metadata": {},
     "output_type": "execute_result"
    }
   ],
   "source": [
    "a[0:3] #0 , 1 ve 2 dizinindeki öğeleri seç"
   ]
  },
  {
   "cell_type": "code",
   "execution_count": 356,
   "id": "eea88626-27e8-45a6-8558-a0bfc145e416",
   "metadata": {
    "tags": []
   },
   "outputs": [
    {
     "data": {
      "text/plain": [
       "array([20, 21, 22])"
      ]
     },
     "execution_count": 356,
     "metadata": {},
     "output_type": "execute_result"
    }
   ],
   "source": [
    "a[:3]"
   ]
  },
  {
   "cell_type": "code",
   "execution_count": 357,
   "id": "0f581d55-afb6-4e42-894c-67715b56c184",
   "metadata": {
    "tags": []
   },
   "outputs": [
    {
     "data": {
      "text/plain": [
       "array([23, 24, 25, 26, 27, 28, 29])"
      ]
     },
     "execution_count": 357,
     "metadata": {},
     "output_type": "execute_result"
    }
   ],
   "source": [
    "a[3:]"
   ]
  },
  {
   "cell_type": "code",
   "execution_count": 358,
   "id": "09219154-331a-4527-97de-1c6d5fefd1fc",
   "metadata": {
    "tags": []
   },
   "outputs": [
    {
     "data": {
      "text/plain": [
       "array([21, 23, 25, 27, 29])"
      ]
     },
     "execution_count": 358,
     "metadata": {},
     "output_type": "execute_result"
    }
   ],
   "source": [
    "a[1::2] #1. indexten başlayarak ikişer atlayarak"
   ]
  },
  {
   "cell_type": "code",
   "execution_count": 359,
   "id": "581e6e8e-be10-47aa-8900-ef144ca863e2",
   "metadata": {
    "tags": []
   },
   "outputs": [
    {
     "data": {
      "text/plain": [
       "array([20, 22, 24, 26, 28])"
      ]
     },
     "execution_count": 359,
     "metadata": {},
     "output_type": "execute_result"
    }
   ],
   "source": [
    "a[0::2]"
   ]
  },
  {
   "cell_type": "code",
   "execution_count": 360,
   "id": "ae2fcc5b-6d3b-4a41-a11b-75993471143d",
   "metadata": {
    "tags": []
   },
   "outputs": [
    {
     "data": {
      "text/plain": [
       "array([22, 24, 26, 28])"
      ]
     },
     "execution_count": 360,
     "metadata": {},
     "output_type": "execute_result"
    }
   ],
   "source": [
    "a[2::2]"
   ]
  },
  {
   "cell_type": "code",
   "execution_count": 361,
   "id": "34f9b96b-1705-4c62-b532-8742a35b85a1",
   "metadata": {
    "tags": []
   },
   "outputs": [
    {
     "data": {
      "text/plain": [
       "array([20, 23, 26, 29])"
      ]
     },
     "execution_count": 361,
     "metadata": {},
     "output_type": "execute_result"
    }
   ],
   "source": [
    "a[0::3]"
   ]
  },
  {
   "cell_type": "markdown",
   "id": "f482144f-f1d2-4af4-bb14-436a8797dbd1",
   "metadata": {
    "tags": []
   },
   "source": [
    "> ##### iki boyutlu slice işlemleri"
   ]
  },
  {
   "cell_type": "code",
   "execution_count": 362,
   "id": "ddabf719-6ff8-4a7e-8a19-afa4f53a9e85",
   "metadata": {
    "tags": []
   },
   "outputs": [],
   "source": [
    "import numpy as np\n",
    "m = np.random.randint(10, size = (5,5))"
   ]
  },
  {
   "cell_type": "code",
   "execution_count": 363,
   "id": "77b74786-b77f-4e14-8ede-b680098a19a8",
   "metadata": {
    "tags": []
   },
   "outputs": [
    {
     "data": {
      "text/plain": [
       "array([[1, 4, 8, 0, 9],\n",
       "       [9, 2, 1, 6, 9],\n",
       "       [6, 5, 6, 2, 9],\n",
       "       [6, 8, 3, 4, 7],\n",
       "       [7, 8, 1, 9, 7]])"
      ]
     },
     "execution_count": 363,
     "metadata": {},
     "output_type": "execute_result"
    }
   ],
   "source": [
    "m"
   ]
  },
  {
   "cell_type": "code",
   "execution_count": 364,
   "id": "39d26bc8-e41f-4c57-8ca2-3eb4ab3c2f29",
   "metadata": {
    "tags": []
   },
   "outputs": [
    {
     "data": {
      "text/plain": [
       "2"
      ]
     },
     "execution_count": 364,
     "metadata": {},
     "output_type": "execute_result"
    }
   ],
   "source": [
    "m[2,3] #subsetting"
   ]
  },
  {
   "cell_type": "code",
   "execution_count": 365,
   "id": "db1f3001-950a-4b2d-9694-c5582c84a832",
   "metadata": {
    "tags": []
   },
   "outputs": [
    {
     "data": {
      "text/plain": [
       "array([[1, 4, 8, 0, 9]])"
      ]
     },
     "execution_count": 365,
     "metadata": {},
     "output_type": "execute_result"
    }
   ],
   "source": [
    "m[0:1] #slicing"
   ]
  },
  {
   "cell_type": "code",
   "execution_count": 366,
   "id": "e5e78eae-a4dd-4579-a75c-dea2a3dbc2b6",
   "metadata": {
    "tags": []
   },
   "outputs": [
    {
     "data": {
      "text/plain": [
       "array([4, 2])"
      ]
     },
     "execution_count": 366,
     "metadata": {},
     "output_type": "execute_result"
    }
   ],
   "source": [
    "m[0:2,1] # 1. sütundaki 0 ve 1. satırlardaki öğeleri seçin"
   ]
  },
  {
   "cell_type": "code",
   "execution_count": 367,
   "id": "1624538d-b46c-4c50-91f9-24d5ffdb0441",
   "metadata": {
    "tags": []
   },
   "outputs": [
    {
     "data": {
      "text/plain": [
       "array([4, 2, 5, 8, 8])"
      ]
     },
     "execution_count": 367,
     "metadata": {},
     "output_type": "execute_result"
    }
   ],
   "source": [
    "m[: ,1] #ikinci sutuna erişme"
   ]
  },
  {
   "cell_type": "code",
   "execution_count": 368,
   "id": "6383ce7d-5d4d-4463-afc8-bb64570162a2",
   "metadata": {
    "tags": []
   },
   "outputs": [
    {
     "data": {
      "text/plain": [
       "array([1, 4, 8, 0, 9])"
      ]
     },
     "execution_count": 368,
     "metadata": {},
     "output_type": "execute_result"
    }
   ],
   "source": [
    "m[0, :]"
   ]
  },
  {
   "cell_type": "code",
   "execution_count": 369,
   "id": "f83b41a4-4298-4716-9583-b325032d4f92",
   "metadata": {
    "tags": []
   },
   "outputs": [
    {
     "data": {
      "text/plain": [
       "array([1, 4, 8, 0, 9])"
      ]
     },
     "execution_count": 369,
     "metadata": {},
     "output_type": "execute_result"
    }
   ],
   "source": [
    "m[0]"
   ]
  },
  {
   "cell_type": "code",
   "execution_count": 370,
   "id": "b1fef754-f473-469c-ad89-fbfb4813de0c",
   "metadata": {
    "tags": []
   },
   "outputs": [
    {
     "data": {
      "text/plain": [
       "array([9, 2, 1, 6, 9])"
      ]
     },
     "execution_count": 370,
     "metadata": {},
     "output_type": "execute_result"
    }
   ],
   "source": [
    "m[1, :]"
   ]
  },
  {
   "cell_type": "code",
   "execution_count": 371,
   "id": "43f965a1-cf60-4888-9c9a-244e22f4e9e4",
   "metadata": {
    "tags": []
   },
   "outputs": [
    {
     "data": {
      "text/plain": [
       "array([[1, 4, 8],\n",
       "       [9, 2, 1]])"
      ]
     },
     "execution_count": 371,
     "metadata": {},
     "output_type": "execute_result"
    }
   ],
   "source": [
    "m[0:2, 0:3]"
   ]
  },
  {
   "cell_type": "code",
   "execution_count": 372,
   "id": "3fb2afb6-5e04-4f0c-b111-7080554f8238",
   "metadata": {
    "tags": []
   },
   "outputs": [
    {
     "data": {
      "text/plain": [
       "array([[1, 4],\n",
       "       [9, 2],\n",
       "       [6, 5],\n",
       "       [6, 8],\n",
       "       [7, 8]])"
      ]
     },
     "execution_count": 372,
     "metadata": {},
     "output_type": "execute_result"
    }
   ],
   "source": [
    "m[::, :2]"
   ]
  },
  {
   "cell_type": "code",
   "execution_count": 373,
   "id": "44120e56-bb0a-4d17-97a1-78e041563b10",
   "metadata": {
    "tags": []
   },
   "outputs": [
    {
     "data": {
      "text/plain": [
       "array([[1, 4],\n",
       "       [9, 2],\n",
       "       [6, 5],\n",
       "       [6, 8],\n",
       "       [7, 8]])"
      ]
     },
     "execution_count": 373,
     "metadata": {},
     "output_type": "execute_result"
    }
   ],
   "source": [
    "m[:, 0:2]"
   ]
  },
  {
   "cell_type": "code",
   "execution_count": 374,
   "id": "048592d2-406c-4aa1-b01b-ac778aa61cbf",
   "metadata": {
    "tags": []
   },
   "outputs": [
    {
     "data": {
      "text/plain": [
       "array([[1, 4, 8, 0, 9],\n",
       "       [9, 2, 1, 6, 9],\n",
       "       [6, 5, 6, 2, 9],\n",
       "       [6, 8, 3, 4, 7],\n",
       "       [7, 8, 1, 9, 7]])"
      ]
     },
     "execution_count": 374,
     "metadata": {},
     "output_type": "execute_result"
    }
   ],
   "source": [
    "m"
   ]
  },
  {
   "cell_type": "code",
   "execution_count": 375,
   "id": "27244564-7fdf-496e-a3f9-6d997de4ac25",
   "metadata": {
    "tags": []
   },
   "outputs": [
    {
     "data": {
      "text/plain": [
       "array([[9, 2],\n",
       "       [6, 5]])"
      ]
     },
     "execution_count": 375,
     "metadata": {},
     "output_type": "execute_result"
    }
   ],
   "source": [
    "m[1:3, 0:2]"
   ]
  },
  {
   "cell_type": "markdown",
   "id": "1e114960-a271-439c-bda7-8aa7cb9a2750",
   "metadata": {},
   "source": [
    "> #alt küme üzerinde işlem yapmak"
   ]
  },
  {
   "cell_type": "code",
   "execution_count": 376,
   "id": "0178ea2b-c574-427b-a742-14e794012bd4",
   "metadata": {
    "tags": []
   },
   "outputs": [],
   "source": [
    "import numpy as np"
   ]
  },
  {
   "cell_type": "code",
   "execution_count": 377,
   "id": "0d1d906e-b7f9-4eed-9d96-c68c53c277ae",
   "metadata": {
    "tags": []
   },
   "outputs": [
    {
     "data": {
      "text/plain": [
       "array([[9, 1, 8, 2, 6],\n",
       "       [9, 9, 1, 1, 0],\n",
       "       [3, 0, 4, 4, 9],\n",
       "       [5, 5, 0, 4, 3],\n",
       "       [9, 6, 2, 7, 7]])"
      ]
     },
     "execution_count": 377,
     "metadata": {},
     "output_type": "execute_result"
    }
   ],
   "source": [
    "a = np.random.randint(10 , size = (5, 5))\n",
    "a"
   ]
  },
  {
   "cell_type": "code",
   "execution_count": 378,
   "id": "b5e1f026-b688-47a2-83b2-3330e78f8490",
   "metadata": {
    "tags": []
   },
   "outputs": [
    {
     "data": {
      "text/plain": [
       "array([[9, 1],\n",
       "       [9, 9],\n",
       "       [3, 0]])"
      ]
     },
     "execution_count": 378,
     "metadata": {},
     "output_type": "execute_result"
    }
   ],
   "source": [
    "alt_a = a[0:3, 0:2]\n",
    "alt_a"
   ]
  },
  {
   "cell_type": "code",
   "execution_count": 379,
   "id": "86aba325-8b06-40ed-8332-194af04098f6",
   "metadata": {
    "tags": []
   },
   "outputs": [],
   "source": [
    "alt_a[0,0] = 99999\n",
    "alt_a[1,1] = 888"
   ]
  },
  {
   "cell_type": "code",
   "execution_count": 380,
   "id": "6ed46b30-a07d-4a0b-9aee-780c085b8682",
   "metadata": {
    "tags": []
   },
   "outputs": [
    {
     "data": {
      "text/plain": [
       "array([[99999,     1],\n",
       "       [    9,   888],\n",
       "       [    3,     0]])"
      ]
     },
     "execution_count": 380,
     "metadata": {},
     "output_type": "execute_result"
    }
   ],
   "source": [
    "alt_a"
   ]
  },
  {
   "cell_type": "code",
   "execution_count": 381,
   "id": "ebf3083d-40e4-42f3-98c0-a61962b22822",
   "metadata": {
    "tags": []
   },
   "outputs": [
    {
     "data": {
      "text/plain": [
       "array([[99999,     1,     8,     2,     6],\n",
       "       [    9,   888,     1,     1,     0],\n",
       "       [    3,     0,     4,     4,     9],\n",
       "       [    5,     5,     0,     4,     3],\n",
       "       [    9,     6,     2,     7,     7]])"
      ]
     },
     "execution_count": 381,
     "metadata": {},
     "output_type": "execute_result"
    }
   ],
   "source": [
    "a"
   ]
  },
  {
   "cell_type": "code",
   "execution_count": 382,
   "id": "6b735b04-3d82-4e30-9304-04b1076baa7a",
   "metadata": {
    "tags": []
   },
   "outputs": [
    {
     "data": {
      "text/plain": [
       "array([[3, 4, 5, 3, 6],\n",
       "       [3, 1, 0, 2, 1],\n",
       "       [6, 1, 9, 4, 8],\n",
       "       [1, 5, 4, 2, 6],\n",
       "       [4, 3, 3, 1, 6]])"
      ]
     },
     "execution_count": 382,
     "metadata": {},
     "output_type": "execute_result"
    }
   ],
   "source": [
    "m = np.random.randint(10 , size = (5, 5))\n",
    "m"
   ]
  },
  {
   "cell_type": "code",
   "execution_count": 383,
   "id": "70179186-68a2-4149-be40-70ed4ca0af43",
   "metadata": {
    "tags": []
   },
   "outputs": [],
   "source": [
    "alt_b = m[0:3, 0:2].copy() #copy yaptığımız ana kümeden bağımsızlaşır"
   ]
  },
  {
   "cell_type": "code",
   "execution_count": 384,
   "id": "684da104-0630-4159-9821-971a59f43d28",
   "metadata": {
    "tags": []
   },
   "outputs": [
    {
     "data": {
      "text/plain": [
       "array([[3, 4],\n",
       "       [3, 1],\n",
       "       [6, 1]])"
      ]
     },
     "execution_count": 384,
     "metadata": {},
     "output_type": "execute_result"
    }
   ],
   "source": [
    "alt_b"
   ]
  },
  {
   "cell_type": "code",
   "execution_count": 385,
   "id": "11508598-025a-49bf-9cae-53e5288fffcf",
   "metadata": {
    "tags": []
   },
   "outputs": [],
   "source": [
    "alt_b[0,0] = 99999\n",
    "alt_b[1,1] = 888"
   ]
  },
  {
   "cell_type": "code",
   "execution_count": 386,
   "id": "bc795312-fdec-4107-b2fe-678876af016a",
   "metadata": {
    "tags": []
   },
   "outputs": [
    {
     "data": {
      "text/plain": [
       "array([[99999,     4],\n",
       "       [    3,   888],\n",
       "       [    6,     1]])"
      ]
     },
     "execution_count": 386,
     "metadata": {},
     "output_type": "execute_result"
    }
   ],
   "source": [
    "alt_b"
   ]
  },
  {
   "cell_type": "code",
   "execution_count": 387,
   "id": "baaa5dee-b4c4-48f5-bb2e-15f369b2f6dd",
   "metadata": {
    "tags": []
   },
   "outputs": [
    {
     "data": {
      "text/plain": [
       "array([[3, 4, 5, 3, 6],\n",
       "       [3, 1, 0, 2, 1],\n",
       "       [6, 1, 9, 4, 8],\n",
       "       [1, 5, 4, 2, 6],\n",
       "       [4, 3, 3, 1, 6]])"
      ]
     },
     "execution_count": 387,
     "metadata": {},
     "output_type": "execute_result"
    }
   ],
   "source": [
    "m"
   ]
  },
  {
   "cell_type": "markdown",
   "id": "dcd38cf0-629a-49b6-86cd-58f5820900ff",
   "metadata": {},
   "source": [
    "> **#fancy index ile elemanlara erişmek**"
   ]
  },
  {
   "cell_type": "code",
   "execution_count": 388,
   "id": "cea321b2-d643-4483-80a5-226529f37c43",
   "metadata": {
    "tags": []
   },
   "outputs": [],
   "source": [
    "import numpy as np"
   ]
  },
  {
   "cell_type": "code",
   "execution_count": 389,
   "id": "2a269f7f-a0df-4415-b1de-b3bd4016c0ba",
   "metadata": {
    "tags": []
   },
   "outputs": [
    {
     "data": {
      "text/plain": [
       "array([ 0,  3,  6,  9, 12, 15, 18, 21, 24, 27])"
      ]
     },
     "execution_count": 389,
     "metadata": {},
     "output_type": "execute_result"
    }
   ],
   "source": [
    "v =  np.arange(0, 30 ,3)\n",
    "v"
   ]
  },
  {
   "cell_type": "code",
   "execution_count": 390,
   "id": "f438417c-7228-448b-8188-703b2f0a0ae8",
   "metadata": {
    "tags": []
   },
   "outputs": [
    {
     "data": {
      "text/plain": [
       "3"
      ]
     },
     "execution_count": 390,
     "metadata": {},
     "output_type": "execute_result"
    }
   ],
   "source": [
    "v[1]"
   ]
  },
  {
   "cell_type": "code",
   "execution_count": 391,
   "id": "d4c127bb-8394-4a9c-a268-caca512bbccd",
   "metadata": {
    "tags": []
   },
   "outputs": [
    {
     "data": {
      "text/plain": [
       "9"
      ]
     },
     "execution_count": 391,
     "metadata": {},
     "output_type": "execute_result"
    }
   ],
   "source": [
    "v[3]"
   ]
  },
  {
   "cell_type": "code",
   "execution_count": 392,
   "id": "a9181d25-252d-4ba2-b983-29220fd2608b",
   "metadata": {
    "tags": []
   },
   "outputs": [
    {
     "data": {
      "text/plain": [
       "15"
      ]
     },
     "execution_count": 392,
     "metadata": {},
     "output_type": "execute_result"
    }
   ],
   "source": [
    "v[5]"
   ]
  },
  {
   "cell_type": "code",
   "execution_count": 393,
   "id": "dbf0e230-3a3f-4ccc-a218-cfacd29987b4",
   "metadata": {
    "tags": []
   },
   "outputs": [
    {
     "data": {
      "text/plain": [
       "[3, 9, 15]"
      ]
     },
     "execution_count": 393,
     "metadata": {},
     "output_type": "execute_result"
    }
   ],
   "source": [
    "[v[1], v[3], v[5]]"
   ]
  },
  {
   "cell_type": "code",
   "execution_count": 394,
   "id": "539ca581-dbb4-47a9-bfbf-e9bedf3e3299",
   "metadata": {
    "tags": []
   },
   "outputs": [],
   "source": [
    "al_getir = [1, 3, 5]"
   ]
  },
  {
   "cell_type": "code",
   "execution_count": 395,
   "id": "d675d705-431e-4632-aed7-f8551e6376c6",
   "metadata": {
    "tags": []
   },
   "outputs": [
    {
     "data": {
      "text/plain": [
       "array([ 0,  3,  6,  9, 12, 15, 18, 21, 24, 27])"
      ]
     },
     "execution_count": 395,
     "metadata": {},
     "output_type": "execute_result"
    }
   ],
   "source": [
    "v"
   ]
  },
  {
   "cell_type": "code",
   "execution_count": 396,
   "id": "aad9cca6-338f-4a13-a3bf-ba097c042484",
   "metadata": {
    "tags": []
   },
   "outputs": [
    {
     "data": {
      "text/plain": [
       "array([ 3,  9, 15])"
      ]
     },
     "execution_count": 396,
     "metadata": {},
     "output_type": "execute_result"
    }
   ],
   "source": [
    "v[al_getir] #işte buna fancy index deniyor"
   ]
  },
  {
   "cell_type": "markdown",
   "id": "081fc1a6-dfef-4c5d-934d-c366231df14d",
   "metadata": {
    "tags": []
   },
   "source": [
    "> ##### iki boyutlu fancy index işlemi"
   ]
  },
  {
   "cell_type": "code",
   "execution_count": 397,
   "id": "ffa37d76-fe53-4d40-934c-19c632348827",
   "metadata": {
    "tags": []
   },
   "outputs": [],
   "source": [
    "m = np.arange(9).reshape((3,3))"
   ]
  },
  {
   "cell_type": "code",
   "execution_count": 398,
   "id": "08f9dd84-0b33-483d-a96d-3ce681ab7f81",
   "metadata": {
    "tags": []
   },
   "outputs": [
    {
     "data": {
      "text/plain": [
       "array([[0, 1, 2],\n",
       "       [3, 4, 5],\n",
       "       [6, 7, 8]])"
      ]
     },
     "execution_count": 398,
     "metadata": {},
     "output_type": "execute_result"
    }
   ],
   "source": [
    "m"
   ]
  },
  {
   "cell_type": "code",
   "execution_count": 399,
   "id": "592970ed-2ed3-4434-8926-8b3fdef97677",
   "metadata": {
    "tags": []
   },
   "outputs": [],
   "source": [
    "satir = np.array([0,1])\n",
    "sutun = np.array([1,2])"
   ]
  },
  {
   "cell_type": "code",
   "execution_count": 400,
   "id": "cd312c78-d49e-48e8-9db3-f8d84a8e7d15",
   "metadata": {
    "tags": []
   },
   "outputs": [
    {
     "data": {
      "text/plain": [
       "array([1, 5])"
      ]
     },
     "execution_count": 400,
     "metadata": {},
     "output_type": "execute_result"
    }
   ],
   "source": [
    "m[satir, sutun]"
   ]
  },
  {
   "cell_type": "markdown",
   "id": "279679c1-f771-4002-8aa0-82ec3bc43afb",
   "metadata": {
    "tags": []
   },
   "source": [
    "> #basit index ile fancy index"
   ]
  },
  {
   "cell_type": "code",
   "execution_count": 401,
   "id": "cc3e650a-3bf3-4e7c-84a3-e2aeda70f833",
   "metadata": {
    "tags": []
   },
   "outputs": [
    {
     "data": {
      "text/plain": [
       "array([[0, 1, 2],\n",
       "       [3, 4, 5],\n",
       "       [6, 7, 8]])"
      ]
     },
     "execution_count": 401,
     "metadata": {},
     "output_type": "execute_result"
    }
   ],
   "source": [
    "m"
   ]
  },
  {
   "cell_type": "code",
   "execution_count": 402,
   "id": "6446ef42-48ad-402f-9c9d-343911713aaf",
   "metadata": {
    "tags": []
   },
   "outputs": [
    {
     "data": {
      "text/plain": [
       "array([1, 2])"
      ]
     },
     "execution_count": 402,
     "metadata": {},
     "output_type": "execute_result"
    }
   ],
   "source": [
    "m[0,[1,2]]"
   ]
  },
  {
   "cell_type": "markdown",
   "id": "d28494df-316d-425d-8af9-0e6634885ca3",
   "metadata": {
    "tags": []
   },
   "source": [
    "> #slice ile fancy index"
   ]
  },
  {
   "cell_type": "code",
   "execution_count": 403,
   "id": "e483e46f-8e2c-46da-b22f-b1058ad7c56c",
   "metadata": {
    "tags": []
   },
   "outputs": [
    {
     "data": {
      "text/plain": [
       "array([[1, 2],\n",
       "       [4, 5],\n",
       "       [7, 8]])"
      ]
     },
     "execution_count": 403,
     "metadata": {},
     "output_type": "execute_result"
    }
   ],
   "source": [
    "m[0: , [1,2]]"
   ]
  },
  {
   "cell_type": "markdown",
   "id": "d7f8838b-3f00-4e41-9f57-48b849cd881d",
   "metadata": {},
   "source": [
    "### Koşullu Eleman İşlemleri"
   ]
  },
  {
   "cell_type": "code",
   "execution_count": 404,
   "id": "f0241e0a-62f7-413e-b986-7ffda83f4c27",
   "metadata": {
    "tags": []
   },
   "outputs": [],
   "source": [
    "import numpy as np"
   ]
  },
  {
   "cell_type": "code",
   "execution_count": 405,
   "id": "53eb2d5b-918f-4969-95f0-33e7a6d7d7aa",
   "metadata": {
    "tags": []
   },
   "outputs": [],
   "source": [
    "v = np.array([1, 2, 3, 4, 5])"
   ]
  },
  {
   "cell_type": "code",
   "execution_count": 406,
   "id": "c45723cd-2ee6-4757-b690-f05a6ecedadd",
   "metadata": {
    "tags": []
   },
   "outputs": [
    {
     "data": {
      "text/plain": [
       "array([False, False, False, False, False])"
      ]
     },
     "execution_count": 406,
     "metadata": {},
     "output_type": "execute_result"
    }
   ],
   "source": [
    "v > 5"
   ]
  },
  {
   "cell_type": "code",
   "execution_count": 407,
   "id": "df679df2-378b-4315-a0e3-74ea87ea3a48",
   "metadata": {
    "tags": []
   },
   "outputs": [
    {
     "data": {
      "text/plain": [
       "array([ True,  True, False, False, False])"
      ]
     },
     "execution_count": 407,
     "metadata": {},
     "output_type": "execute_result"
    }
   ],
   "source": [
    "v < 3"
   ]
  },
  {
   "cell_type": "code",
   "execution_count": 408,
   "id": "bb6b5884-3176-4c00-bada-fe1600f34dda",
   "metadata": {
    "tags": []
   },
   "outputs": [
    {
     "data": {
      "text/plain": [
       "array([1, 2])"
      ]
     },
     "execution_count": 408,
     "metadata": {},
     "output_type": "execute_result"
    }
   ],
   "source": [
    "v[v < 3] #boolean indexing"
   ]
  },
  {
   "cell_type": "code",
   "execution_count": 409,
   "id": "f7b423a7-53d5-4d65-8061-f5cff0fef19a",
   "metadata": {
    "tags": []
   },
   "outputs": [
    {
     "data": {
      "text/plain": [
       "array([4, 5])"
      ]
     },
     "execution_count": 409,
     "metadata": {},
     "output_type": "execute_result"
    }
   ],
   "source": [
    "v[v >3]"
   ]
  },
  {
   "cell_type": "code",
   "execution_count": 410,
   "id": "acac7565-e69c-4059-980a-5da5371bfe43",
   "metadata": {
    "tags": []
   },
   "outputs": [
    {
     "data": {
      "text/plain": [
       "array([3, 4, 5])"
      ]
     },
     "execution_count": 410,
     "metadata": {},
     "output_type": "execute_result"
    }
   ],
   "source": [
    "v[v >= 3]"
   ]
  },
  {
   "cell_type": "code",
   "execution_count": 411,
   "id": "5c78d440-e687-4a02-968a-f9440f2e24cc",
   "metadata": {
    "tags": []
   },
   "outputs": [
    {
     "data": {
      "text/plain": [
       "array([1, 2, 3])"
      ]
     },
     "execution_count": 411,
     "metadata": {},
     "output_type": "execute_result"
    }
   ],
   "source": [
    "v[v <= 3]"
   ]
  },
  {
   "cell_type": "code",
   "execution_count": 412,
   "id": "d71afacd-f53e-4d4c-b0b8-8c3df4a67b58",
   "metadata": {
    "tags": []
   },
   "outputs": [
    {
     "data": {
      "text/plain": [
       "array([3])"
      ]
     },
     "execution_count": 412,
     "metadata": {},
     "output_type": "execute_result"
    }
   ],
   "source": [
    "v[ v == 3]"
   ]
  },
  {
   "cell_type": "code",
   "execution_count": 413,
   "id": "be802b2a-841c-4f70-9df1-1fe0904a1acb",
   "metadata": {
    "tags": []
   },
   "outputs": [
    {
     "data": {
      "text/plain": [
       "array([1, 2, 4, 5])"
      ]
     },
     "execution_count": 413,
     "metadata": {},
     "output_type": "execute_result"
    }
   ],
   "source": [
    "v[v != 3]"
   ]
  },
  {
   "cell_type": "code",
   "execution_count": 414,
   "id": "ba0da30f-7adb-48fe-8e5a-dde1011e4851",
   "metadata": {
    "tags": []
   },
   "outputs": [
    {
     "data": {
      "text/plain": [
       "array([1, 2, 3, 4, 5])"
      ]
     },
     "execution_count": 414,
     "metadata": {},
     "output_type": "execute_result"
    }
   ],
   "source": [
    "v"
   ]
  },
  {
   "cell_type": "code",
   "execution_count": 415,
   "id": "f5be467d-fe89-4d59-b42e-1c815fa48f00",
   "metadata": {
    "tags": []
   },
   "outputs": [
    {
     "data": {
      "text/plain": [
       "array([ 2,  4,  6,  8, 10])"
      ]
     },
     "execution_count": 415,
     "metadata": {},
     "output_type": "execute_result"
    }
   ],
   "source": [
    "v * 2"
   ]
  },
  {
   "cell_type": "code",
   "execution_count": 416,
   "id": "bd586fcd-fbe9-45b8-8ae4-d7d70ff40459",
   "metadata": {
    "tags": []
   },
   "outputs": [
    {
     "data": {
      "text/plain": [
       "array([0.2, 0.4, 0.6, 0.8, 1. ])"
      ]
     },
     "execution_count": 416,
     "metadata": {},
     "output_type": "execute_result"
    }
   ],
   "source": [
    "v / 5"
   ]
  },
  {
   "cell_type": "code",
   "execution_count": 417,
   "id": "184f1171-e93d-4390-8bde-28606f06cd61",
   "metadata": {
    "tags": []
   },
   "outputs": [
    {
     "data": {
      "text/plain": [
       "array([0.5, 1. , 1.5, 2. , 2.5])"
      ]
     },
     "execution_count": 417,
     "metadata": {},
     "output_type": "execute_result"
    }
   ],
   "source": [
    "v * 5/10"
   ]
  },
  {
   "cell_type": "code",
   "execution_count": 418,
   "id": "8a7d758d-c575-4176-9972-38bd25c85f3f",
   "metadata": {
    "tags": []
   },
   "outputs": [
    {
     "data": {
      "text/plain": [
       "array([ 1,  4,  9, 16, 25])"
      ]
     },
     "execution_count": 418,
     "metadata": {},
     "output_type": "execute_result"
    }
   ],
   "source": [
    "v**2"
   ]
  },
  {
   "cell_type": "markdown",
   "id": "8062a1b2-ed71-4b70-be88-5b31123ce5f3",
   "metadata": {},
   "source": [
    "🧠🧠🧠🧠🧠 > **Matrisin satır ve sütunlarının bir alt kümesini seçin**"
   ]
  },
  {
   "cell_type": "markdown",
   "id": "256ec9cc-839d-4ee3-823b-638ffdd3d7d9",
   "metadata": {},
   "source": [
    "`Fancy Index Örneği`\n"
   ]
  },
  {
   "cell_type": "code",
   "execution_count": 419,
   "id": "0412e9df-75ad-4cef-99fc-b25298babb6c",
   "metadata": {
    "tags": []
   },
   "outputs": [],
   "source": [
    " b = np.array([(1.5,2,3), (4,5,6)], dtype = float)\n",
    "    "
   ]
  },
  {
   "cell_type": "code",
   "execution_count": 420,
   "id": "956270e3-d616-4be9-9c43-7730dce3aa4a",
   "metadata": {
    "tags": []
   },
   "outputs": [
    {
     "data": {
      "text/plain": [
       "array([[1.5, 2. , 3. ],\n",
       "       [4. , 5. , 6. ]])"
      ]
     },
     "execution_count": 420,
     "metadata": {},
     "output_type": "execute_result"
    }
   ],
   "source": [
    "b\n"
   ]
  },
  {
   "cell_type": "code",
   "execution_count": 421,
   "id": "30e6f92f-1d13-45ab-86f4-efefe5c4c17d",
   "metadata": {
    "tags": []
   },
   "outputs": [
    {
     "data": {
      "text/plain": [
       "array([[4. , 5. , 6. , 4. ],\n",
       "       [1.5, 2. , 3. , 1.5],\n",
       "       [4. , 5. , 6. , 4. ],\n",
       "       [1.5, 2. , 3. , 1.5]])"
      ]
     },
     "execution_count": 421,
     "metadata": {},
     "output_type": "execute_result"
    }
   ],
   "source": [
    "b[[1, 0, 1, 0]][:,[0,1,2,0]]"
   ]
  },
  {
   "cell_type": "markdown",
   "id": "b6f4be66-1318-4d0a-91a3-a19008a6b226",
   "metadata": {},
   "source": [
    "Row Indexing (b[[1, 0, 1, 0]]):\n",
    "\n",
    "This part of the indexing is selecting rows from the array b based on the provided list of row indices [1, 0, 1, 0]. The resulting array would have the rows from the original array in the order specified by the list.\n",
    "\n",
    "The first row is the row at index 1: [4, 5, 6].\n",
    "The second row is the row at index 0: [1.5, 2, 3].\n",
    "The third row is again the row at index 1: [4, 5, 6].\n",
    "The fourth row is again the row at index 0: [1.5, 2, 3].\n",
    "\n",
    "Satır İndeksleme (b[[1, 0, 1, 0]]):\n",
    "\n",
    "Bu kısım, belirtilen satır indisleri [1, 0, 1, 0] kullanılarak diziden satırları seçiyor. Sonuç dizisi, orijinal dizide belirtilen sırayla satırları içerir.\n",
    "\n",
    "İlk satır, 1. indexteki satırdır: [4, 5, 6].\n",
    "İkinci satır, 0. indexteki satırdır: [1.5, 2, 3].\n",
    "Üçüncü satır, tekrar 1. indexteki satırdır: [4, 5, 6].\n",
    "Dördüncü satır, tekrar 0. indexteki satırdır: [1.5, 2, 3].\n",
    "\n",
    "`[[4. 5. 6.]`\n",
    "\n",
    "`[1.5 2. 3.]`\n",
    " \n",
    "`[4. 5. 6.]`\n",
    " \n",
    "`[1.5 2. 3.]]`"
   ]
  },
  {
   "cell_type": "markdown",
   "id": "24b86a88-ca86-4cfe-98a0-510310c146d2",
   "metadata": {
    "tags": []
   },
   "source": [
    "Column Indexing ([:, [0, 1, 2, 0]]):\n",
    "\n",
    "This part of the indexing is selecting columns from the array obtained from the previous step based on the provided list of column indices [0, 1, 2, 0]. The resulting array would have columns from the original array in the order specified by the list.\n",
    "\n",
    "The first column is the column at index 0: [4, 1.5, 4, 1.5].\n",
    "The second column is the column at index 1: [5, 2, 5, 2].\n",
    "The third column is the column at index 2: [6, 3, 6, 3].\n",
    "The fourth column is again the column at index 0: [4, 1.5, 4, 1.5].\n",
    "\n",
    "Sütun İndeksleme ([:, [0, 1, 2, 0]]):\n",
    "\n",
    "Bu kısım, önceki adımdan elde edilen diziden belirtilen sütun indisleri [0, 1, 2, 0] kullanılarak sütunları seçiyor. Sonuç dizisi, orijinal diziden belirtilen sırayla sütunları içerir.\n",
    "\n",
    "İlk sütun, 0. indexteki sütundur: [4, 1.5, 4, 1.5].\n",
    "İkinci sütun, 1. indexteki sütundur: [5, 2, 5, 2].\n",
    "Üçüncü sütun, 2. indexteki sütundur: [6, 3, 6, 3].\n",
    "Dördüncü sütun, tekrar 0. indexteki sütundur: [4, 1.5, 4, 1.5].\n",
    "\n",
    "\n",
    " \n",
    " \n",
    "`[[4. 5. 6. 4.]`\n",
    "\n",
    "`[1.5 2. 3. 1.5]`\n",
    " \n",
    "`[4. 5. 6. 4.]`\n",
    " \n",
    "`[1.5 2. 3. 1.5]]`\n",
    "\n"
   ]
  },
  {
   "cell_type": "markdown",
   "id": "892c887d-c6c1-4a23-817a-9accf40eca08",
   "metadata": {},
   "source": [
    "So, the final result is a 4x4 array where rows and columns are selected based on the specified indices. The row indices are [1, 0, 1, 0], and the column indices are [0, 1, 2, 0]. This advanced indexing allows you to extract and rearrange elements from an array in a more flexible way.\n",
    "\n",
    "Sonuç olarak, sonuç 4x4 boyutunda bir dizi olup, satır ve sütunlar belirtilen indislerle seçilmiştir. Satır indisleri [1, 0, 1, 0] ve sütun indisleri [0, 1, 2, 0]. Bu gelişmiş indeksleme, bir diziden elemanları çıkarmak ve düzenlemek için daha esnek bir yöntem sunar."
   ]
  },
  {
   "cell_type": "markdown",
   "id": "a9bc3547-860f-491f-aff6-cc93973e7655",
   "metadata": {},
   "source": [
    "🖖 Live Long and Prosper! (2. bölümde devam ediyor...)"
   ]
  },
  {
   "cell_type": "markdown",
   "id": "4057d728-6872-4e5c-a1dd-e47ea57d3fe2",
   "metadata": {},
   "source": [
    "![Divider05](images/divider05.png)"
   ]
  },
  {
   "cell_type": "code",
   "execution_count": null,
   "id": "c43d889d-2872-4d33-8a0a-374b236bd5f2",
   "metadata": {},
   "outputs": [],
   "source": []
  }
 ],
 "metadata": {
  "kernelspec": {
   "display_name": "Python 3 (ipykernel)",
   "language": "python",
   "name": "python3"
  },
  "language_info": {
   "codemirror_mode": {
    "name": "ipython",
    "version": 3
   },
   "file_extension": ".py",
   "mimetype": "text/x-python",
   "name": "python",
   "nbconvert_exporter": "python",
   "pygments_lexer": "ipython3",
   "version": "3.11.5"
  },
  "toc-autonumbering": true,
  "toc-showmarkdowntxt": true,
  "toc-showtags": true
 },
 "nbformat": 4,
 "nbformat_minor": 5
}
