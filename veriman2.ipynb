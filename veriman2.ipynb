{
 "cells": [
  {
   "cell_type": "markdown",
   "id": "9ddf05e4-1ff8-4c98-a32e-de7f6c927c92",
   "metadata": {
    "tags": []
   },
   "source": [
    "![Divider01](images/divider01.png)"
   ]
  },
  {
   "cell_type": "markdown",
   "id": "bfd33f4c-7d2c-4c40-970e-f4b8672fc4b7",
   "metadata": {},
   "source": [
    "> `NumPy modülünü içeri aktaralım`         ![NumPy](images/numpy.png)"
   ]
  },
  {
   "cell_type": "code",
   "execution_count": 2,
   "id": "d4661463-15e9-4610-9049-9de91fbbc7a6",
   "metadata": {
    "tags": []
   },
   "outputs": [],
   "source": [
    "import numpy as np"
   ]
  },
  {
   "cell_type": "markdown",
   "id": "e18d5350-dfdc-4392-a9ac-02c4e1197283",
   "metadata": {},
   "source": [
    "![Divider05](images/divider05.png)"
   ]
  },
  {
   "cell_type": "markdown",
   "id": "0b91beb5-df3a-445a-9159-12c4564b8710",
   "metadata": {},
   "source": [
    "#### Random Fonksiyonu"
   ]
  },
  {
   "cell_type": "markdown",
   "id": "f97e64ce-3b93-4b60-8d23-27b9b7429f46",
   "metadata": {},
   "source": [
    "Numpy, rastgele sayı üretimi için mükemmel işlevlere sahip. Bu işlevler makine öğreniminde, araştırmada veya istatistikte çok faydalıdırlar."
   ]
  },
  {
   "cell_type": "code",
   "execution_count": 3,
   "id": "1b49c4b1-34b7-46b5-88c9-a851a61299bf",
   "metadata": {
    "tags": []
   },
   "outputs": [
    {
     "data": {
      "text/plain": [
       "0.4765219302871826"
      ]
     },
     "execution_count": 3,
     "metadata": {},
     "output_type": "execute_result"
    }
   ],
   "source": [
    "np.random.rand()  # 0 ile 1 arasında bir sayı üretir."
   ]
  },
  {
   "cell_type": "code",
   "execution_count": 4,
   "id": "0a6a1291-e489-4936-9119-364cbea53e5e",
   "metadata": {
    "tags": []
   },
   "outputs": [
    {
     "data": {
      "text/plain": [
       "array([0.88058216, 0.30033015, 0.6412449 , 0.0047758 , 0.9310379 ])"
      ]
     },
     "execution_count": 4,
     "metadata": {},
     "output_type": "execute_result"
    }
   ],
   "source": [
    "np.random.rand(5)"
   ]
  },
  {
   "cell_type": "code",
   "execution_count": 5,
   "id": "7159acb7-d89c-46f7-87d0-3f5f0fb06d98",
   "metadata": {
    "tags": []
   },
   "outputs": [
    {
     "data": {
      "text/plain": [
       "array([[0.9966529 , 0.58531736, 0.6563333 ],\n",
       "       [0.98547314, 0.70673376, 0.11218023]])"
      ]
     },
     "execution_count": 5,
     "metadata": {},
     "output_type": "execute_result"
    }
   ],
   "source": [
    "np.random.rand(2, 3)"
   ]
  },
  {
   "cell_type": "code",
   "execution_count": 6,
   "id": "621ad0af-11d0-4a63-b280-8bc6f7b6cac8",
   "metadata": {
    "tags": []
   },
   "outputs": [
    {
     "data": {
      "text/plain": [
       "12"
      ]
     },
     "execution_count": 6,
     "metadata": {},
     "output_type": "execute_result"
    }
   ],
   "source": [
    "np.random.randint(25) # 0 ile 25 arasında rastgele bir integer sayı üretir"
   ]
  },
  {
   "cell_type": "code",
   "execution_count": 7,
   "id": "70bccb8a-bde0-4992-9108-9ab3cbca7209",
   "metadata": {
    "tags": []
   },
   "outputs": [
    {
     "data": {
      "text/plain": [
       "array([26, 21, 98, 50, 85, 83, 90, 95, 83, 76])"
      ]
     },
     "execution_count": 7,
     "metadata": {},
     "output_type": "execute_result"
    }
   ],
   "source": [
    "np.random.randint(1, 100, 10) # 1 ile 100 arasında 10 tane rastgele integer üretir"
   ]
  },
  {
   "cell_type": "code",
   "execution_count": 8,
   "id": "985965ef-ab16-4dc4-9c06-ed23481a397c",
   "metadata": {
    "tags": []
   },
   "outputs": [
    {
     "data": {
      "text/plain": [
       "array([[28, 19, 69],\n",
       "       [10, 54, 45],\n",
       "       [70, 91,  4]])"
      ]
     },
     "execution_count": 8,
     "metadata": {},
     "output_type": "execute_result"
    }
   ],
   "source": [
    "np.random.randint(1, 100, (3,3)) #3x3 matris, elemanlar 1-100 arasında"
   ]
  },
  {
   "cell_type": "code",
   "execution_count": 9,
   "id": "d6e4cb1c-09c1-4df5-8fd5-ff5b3d0c19c0",
   "metadata": {
    "tags": []
   },
   "outputs": [
    {
     "data": {
      "text/plain": [
       "array([[7, 0, 3],\n",
       "       [5, 1, 2],\n",
       "       [7, 8, 2]])"
      ]
     },
     "execution_count": 9,
     "metadata": {},
     "output_type": "execute_result"
    }
   ],
   "source": [
    "np.random.choice([0,1,2,3,4,5,6,7,8,9,10], size=(3,3)) #Bir aralık yerine bir array sağlayabilir ve Numpy'den bu sağladığınız dizideki sayıları kullanarak 3×3'lük bir matris yapmasını isteyebilirsiniz."
   ]
  },
  {
   "cell_type": "code",
   "execution_count": 10,
   "id": "fb120395-1816-4c1b-8273-a31b44690522",
   "metadata": {
    "tags": []
   },
   "outputs": [
    {
     "data": {
      "text/plain": [
       "array([ 7, 11,  7,  0,  6,  1])"
      ]
     },
     "execution_count": 10,
     "metadata": {},
     "output_type": "execute_result"
    }
   ],
   "source": [
    "shuff = np.array([7,6,7,1,0, 11])  #random.shuffle\n",
    "np.random.shuffle(shuff)\n",
    "shuff"
   ]
  },
  {
   "cell_type": "markdown",
   "id": "087c4ef2-6766-4cc7-b8a5-6627132ed76d",
   "metadata": {},
   "source": [
    "![Divider05](images/divider05.png)"
   ]
  },
  {
   "cell_type": "markdown",
   "id": "eb8dfae9-2460-4061-b02c-c570b2fa7018",
   "metadata": {},
   "source": [
    "#### Save, Load ve  Import "
   ]
  },
  {
   "cell_type": "code",
   "execution_count": 11,
   "id": "38f7b783-624d-48fa-9051-3c8af6b464e7",
   "metadata": {
    "tags": []
   },
   "outputs": [],
   "source": [
    "np.save('shufffile', shuff)"
   ]
  },
  {
   "cell_type": "code",
   "execution_count": 12,
   "id": "e1b0f4db-f376-400f-a495-6f3e3aeabc7d",
   "metadata": {
    "tags": []
   },
   "outputs": [
    {
     "data": {
      "text/plain": [
       "array([ 7, 11,  7,  0,  6,  1])"
      ]
     },
     "execution_count": 12,
     "metadata": {},
     "output_type": "execute_result"
    }
   ],
   "source": [
    "np.load('shufffile.npy')"
   ]
  },
  {
   "cell_type": "code",
   "execution_count": 13,
   "id": "0f7d47bb-5e69-4f10-8a47-2de98f0caefa",
   "metadata": {
    "tags": []
   },
   "outputs": [
    {
     "name": "stderr",
     "output_type": "stream",
     "text": [
      "C:\\Users\\90530\\AppData\\Local\\Temp\\ipykernel_748\\3476671791.py:2: RuntimeWarning: invalid value encountered in cast\n",
      "  filedata=filedata.astype('int32')\n"
     ]
    },
    {
     "data": {
      "text/plain": [
       "array([[-2147483648, -2147483648, -2147483648, ..., -2147483648,\n",
       "        -2147483648, -2147483648],\n",
       "       [         16,           1, -2147483648, ..., -2147483648,\n",
       "        -2147483648,           2],\n",
       "       [         10,           1, -2147483648, ..., -2147483648,\n",
       "        -2147483648,           3],\n",
       "       ...,\n",
       "       [         22,           2, -2147483648, ..., -2147483648,\n",
       "        -2147483648,           2],\n",
       "       [         17,           1, -2147483648, ..., -2147483648,\n",
       "        -2147483648,           2],\n",
       "       [         18,           3, -2147483648, ..., -2147483648,\n",
       "        -2147483648,           2]])"
      ]
     },
     "execution_count": 13,
     "metadata": {},
     "output_type": "execute_result"
    }
   ],
   "source": [
    "filedata = np.genfromtxt('untitled.txt', delimiter=',')\n",
    "filedata=filedata.astype('int32')\n",
    "filedata"
   ]
  },
  {
   "cell_type": "markdown",
   "id": "45cb16e4-9a9c-44c6-b5f7-6ee8fd21b78d",
   "metadata": {},
   "source": [
    "![Divider05](images/divider05.png)\n"
   ]
  },
  {
   "cell_type": "markdown",
   "id": "82875030-a249-47f7-8a7d-4fccd8f2f710",
   "metadata": {
    "tags": []
   },
   "source": [
    "### fancy index again"
   ]
  },
  {
   "cell_type": "code",
   "execution_count": 14,
   "id": "147c9de4-598a-4c99-a916-175a9fb8a34a",
   "metadata": {
    "tags": []
   },
   "outputs": [
    {
     "data": {
      "text/plain": [
       "array([ 0,  3,  6,  9, 12, 15, 18, 21, 24, 27])"
      ]
     },
     "execution_count": 14,
     "metadata": {},
     "output_type": "execute_result"
    }
   ],
   "source": [
    "v = np.arange(0, 30, 3)\n",
    "v"
   ]
  },
  {
   "cell_type": "code",
   "execution_count": 15,
   "id": "7e926a06-f24f-47de-82da-8900a6609914",
   "metadata": {
    "tags": []
   },
   "outputs": [
    {
     "data": {
      "text/plain": [
       "3"
      ]
     },
     "execution_count": 15,
     "metadata": {},
     "output_type": "execute_result"
    }
   ],
   "source": [
    "v[1]"
   ]
  },
  {
   "cell_type": "code",
   "execution_count": 16,
   "id": "242fd729-9169-4d8e-87a9-9360574e0cd2",
   "metadata": {
    "tags": []
   },
   "outputs": [
    {
     "data": {
      "text/plain": [
       "9"
      ]
     },
     "execution_count": 16,
     "metadata": {},
     "output_type": "execute_result"
    }
   ],
   "source": [
    "v[3]\n"
   ]
  },
  {
   "cell_type": "code",
   "execution_count": 17,
   "id": "1dc72038-532c-49be-8512-0dc5e02e578b",
   "metadata": {
    "tags": []
   },
   "outputs": [
    {
     "data": {
      "text/plain": [
       "15"
      ]
     },
     "execution_count": 17,
     "metadata": {},
     "output_type": "execute_result"
    }
   ],
   "source": [
    "v[5]"
   ]
  },
  {
   "cell_type": "code",
   "execution_count": 18,
   "id": "7153e117-1d48-4b6a-abc2-ecd9c40c5758",
   "metadata": {
    "tags": []
   },
   "outputs": [
    {
     "data": {
      "text/plain": [
       "[3, 9, 15]"
      ]
     },
     "execution_count": 18,
     "metadata": {},
     "output_type": "execute_result"
    }
   ],
   "source": [
    "[v[1], v[3], v[5]]"
   ]
  },
  {
   "cell_type": "code",
   "execution_count": 19,
   "id": "761b6ff8-e32d-4d7f-a9a4-69f8e4eccc2b",
   "metadata": {
    "tags": []
   },
   "outputs": [],
   "source": [
    "al_getir = [1, 3, 5]"
   ]
  },
  {
   "cell_type": "code",
   "execution_count": 20,
   "id": "e3580b3c-12f0-4103-a8e1-215d3b48c812",
   "metadata": {
    "tags": []
   },
   "outputs": [
    {
     "data": {
      "text/plain": [
       "array([ 0,  3,  6,  9, 12, 15, 18, 21, 24, 27])"
      ]
     },
     "execution_count": 20,
     "metadata": {},
     "output_type": "execute_result"
    }
   ],
   "source": [
    "v"
   ]
  },
  {
   "cell_type": "code",
   "execution_count": 21,
   "id": "a0b46bac-060a-438a-87de-160a4384bc07",
   "metadata": {
    "tags": []
   },
   "outputs": [
    {
     "data": {
      "text/plain": [
       "array([ 3,  9, 15])"
      ]
     },
     "execution_count": 21,
     "metadata": {},
     "output_type": "execute_result"
    }
   ],
   "source": [
    "v[al_getir]"
   ]
  },
  {
   "cell_type": "markdown",
   "id": "7d8bb8e1-054a-4893-80ca-76692dfa086b",
   "metadata": {},
   "source": [
    "![Divider05](images/divider05.png)"
   ]
  },
  {
   "cell_type": "markdown",
   "id": "499d1cd8-81a5-4eb0-9f9b-6548670578f6",
   "metadata": {},
   "source": [
    "![Divider02](images/divider02.png)"
   ]
  },
  {
   "cell_type": "markdown",
   "id": "c06a0516-ddfd-47c6-a84e-45b82e7651e8",
   "metadata": {
    "tags": []
   },
   "source": [
    "#### iki boyutta fancy"
   ]
  },
  {
   "cell_type": "code",
   "execution_count": 22,
   "id": "4bf430ca-0269-49e1-85be-dad247e1f269",
   "metadata": {
    "tags": []
   },
   "outputs": [],
   "source": [
    "m = np.arange(9).reshape((3,3))"
   ]
  },
  {
   "cell_type": "code",
   "execution_count": 23,
   "id": "e592e399-8cdb-403b-b9e6-a16d2bfd738b",
   "metadata": {
    "tags": []
   },
   "outputs": [
    {
     "data": {
      "text/plain": [
       "array([[0, 1, 2],\n",
       "       [3, 4, 5],\n",
       "       [6, 7, 8]])"
      ]
     },
     "execution_count": 23,
     "metadata": {},
     "output_type": "execute_result"
    }
   ],
   "source": [
    "m"
   ]
  },
  {
   "cell_type": "code",
   "execution_count": 24,
   "id": "8795168b-c1c9-4468-a435-3e78060ddd8c",
   "metadata": {
    "tags": []
   },
   "outputs": [],
   "source": [
    "row = np.array([0,1])\n",
    "col = np.array([1,2])"
   ]
  },
  {
   "cell_type": "code",
   "execution_count": 25,
   "id": "1f2142a2-0a31-4612-a7e6-9464ceb2e3f2",
   "metadata": {
    "tags": []
   },
   "outputs": [
    {
     "data": {
      "text/plain": [
       "array([1, 5])"
      ]
     },
     "execution_count": 25,
     "metadata": {},
     "output_type": "execute_result"
    }
   ],
   "source": [
    "m[row, col]"
   ]
  },
  {
   "cell_type": "markdown",
   "id": "d4b8061c-9146-4802-8323-6c8e28d51b52",
   "metadata": {},
   "source": [
    "![Divider05](images/divider05.png)"
   ]
  },
  {
   "cell_type": "markdown",
   "id": "6f220dc4-bd08-43c7-9d2d-02b53363e8f1",
   "metadata": {
    "tags": []
   },
   "source": [
    "#### basit index ile fancy index\n"
   ]
  },
  {
   "cell_type": "code",
   "execution_count": 26,
   "id": "780fe5cf-e191-4e98-9f66-ef3e5a2cc346",
   "metadata": {
    "tags": []
   },
   "outputs": [
    {
     "data": {
      "text/plain": [
       "array([[0, 1, 2],\n",
       "       [3, 4, 5],\n",
       "       [6, 7, 8]])"
      ]
     },
     "execution_count": 26,
     "metadata": {},
     "output_type": "execute_result"
    }
   ],
   "source": [
    "m"
   ]
  },
  {
   "cell_type": "code",
   "execution_count": 27,
   "id": "b00587c4-c396-4101-8cbf-d3e2e2141bc8",
   "metadata": {
    "tags": []
   },
   "outputs": [
    {
     "data": {
      "text/plain": [
       "array([1, 2])"
      ]
     },
     "execution_count": 27,
     "metadata": {},
     "output_type": "execute_result"
    }
   ],
   "source": [
    "m[0, [1,2]]"
   ]
  },
  {
   "cell_type": "code",
   "execution_count": 28,
   "id": "75544f6a-76e4-404e-a0cb-0d46243d6d5a",
   "metadata": {
    "tags": []
   },
   "outputs": [
    {
     "data": {
      "text/plain": [
       "array([4, 5])"
      ]
     },
     "execution_count": 28,
     "metadata": {},
     "output_type": "execute_result"
    }
   ],
   "source": [
    "m[1, [1,2]]"
   ]
  },
  {
   "cell_type": "code",
   "execution_count": 29,
   "id": "fb7a6e4c-fcc3-4ac5-b3b3-b4cf4c68bd37",
   "metadata": {
    "tags": []
   },
   "outputs": [
    {
     "data": {
      "text/plain": [
       "array([7, 8])"
      ]
     },
     "execution_count": 29,
     "metadata": {},
     "output_type": "execute_result"
    }
   ],
   "source": [
    "m[2, [1,2]]"
   ]
  },
  {
   "cell_type": "code",
   "execution_count": 30,
   "id": "1e6af25e-9ce1-4e7a-9dba-d1bae3a52bc7",
   "metadata": {
    "tags": []
   },
   "outputs": [
    {
     "data": {
      "text/plain": [
       "array([[0, 1, 2],\n",
       "       [3, 4, 5],\n",
       "       [6, 7, 8]])"
      ]
     },
     "execution_count": 30,
     "metadata": {},
     "output_type": "execute_result"
    }
   ],
   "source": [
    "m"
   ]
  },
  {
   "cell_type": "code",
   "execution_count": 31,
   "id": "d200fdf3-120c-4182-8d1f-6d860bd51906",
   "metadata": {
    "tags": []
   },
   "outputs": [
    {
     "data": {
      "text/plain": [
       "array([0, 1])"
      ]
     },
     "execution_count": 31,
     "metadata": {},
     "output_type": "execute_result"
    }
   ],
   "source": [
    "m[0, [0,1]]"
   ]
  },
  {
   "cell_type": "code",
   "execution_count": 32,
   "id": "ffcbd978-6b40-489c-8e31-682e0ca15c22",
   "metadata": {
    "tags": []
   },
   "outputs": [
    {
     "data": {
      "text/plain": [
       "array([6, 7])"
      ]
     },
     "execution_count": 32,
     "metadata": {},
     "output_type": "execute_result"
    }
   ],
   "source": [
    "m[2, [0,1]]"
   ]
  },
  {
   "cell_type": "markdown",
   "id": "d59d79db-9f6d-49cd-870b-af8c5f3b7ba0",
   "metadata": {},
   "source": [
    "![Divider05](images/divider05.png)"
   ]
  },
  {
   "cell_type": "markdown",
   "id": "b4d703ee-f317-436e-9b91-e4b9fa7fcf5d",
   "metadata": {
    "tags": []
   },
   "source": [
    "#### slice ile fancy index"
   ]
  },
  {
   "cell_type": "code",
   "execution_count": 33,
   "id": "577dbc00-efb9-45b2-867b-9e99a73980e7",
   "metadata": {
    "tags": []
   },
   "outputs": [
    {
     "data": {
      "text/plain": [
       "array([[1, 2],\n",
       "       [4, 5],\n",
       "       [7, 8]])"
      ]
     },
     "execution_count": 33,
     "metadata": {},
     "output_type": "execute_result"
    }
   ],
   "source": [
    "m[0: , [1,2]]"
   ]
  },
  {
   "cell_type": "code",
   "execution_count": 34,
   "id": "3e665160-d000-4145-82de-3915e705b26d",
   "metadata": {
    "tags": []
   },
   "outputs": [
    {
     "data": {
      "text/plain": [
       "array([3, 5])"
      ]
     },
     "execution_count": 34,
     "metadata": {},
     "output_type": "execute_result"
    }
   ],
   "source": [
    "m[1, [0,2]]"
   ]
  },
  {
   "cell_type": "code",
   "execution_count": 35,
   "id": "604716e9-78b2-4679-b7fb-07350defffaf",
   "metadata": {
    "tags": []
   },
   "outputs": [
    {
     "data": {
      "text/plain": [
       "array([[0, 1, 2],\n",
       "       [3, 4, 5],\n",
       "       [6, 7, 8]])"
      ]
     },
     "execution_count": 35,
     "metadata": {},
     "output_type": "execute_result"
    }
   ],
   "source": [
    "m"
   ]
  },
  {
   "cell_type": "code",
   "execution_count": 36,
   "id": "a51666d9-54bd-4140-8360-db6c0d597235",
   "metadata": {
    "tags": []
   },
   "outputs": [
    {
     "data": {
      "text/plain": [
       "array([[4, 5]])"
      ]
     },
     "execution_count": 36,
     "metadata": {},
     "output_type": "execute_result"
    }
   ],
   "source": [
    "m[1:2, [1,2]]"
   ]
  },
  {
   "cell_type": "code",
   "execution_count": 37,
   "id": "69628add-1750-4155-9a16-e021bb4ab071",
   "metadata": {
    "tags": []
   },
   "outputs": [
    {
     "data": {
      "text/plain": [
       "array([[4, 5],\n",
       "       [7, 8]])"
      ]
     },
     "execution_count": 37,
     "metadata": {},
     "output_type": "execute_result"
    }
   ],
   "source": [
    "m[1:, [1,2]]"
   ]
  },
  {
   "cell_type": "markdown",
   "id": "2d4191e5-13f8-402d-bd20-bec6168d9faf",
   "metadata": {},
   "source": [
    "![Divider05](images/divider05.png)"
   ]
  },
  {
   "cell_type": "markdown",
   "id": "934e5d43-a90e-42d7-b325-3102632751a2",
   "metadata": {
    "tags": []
   },
   "source": [
    "\n",
    "![Divider02](images/divider02.png)"
   ]
  },
  {
   "cell_type": "markdown",
   "id": "3a395dfb-029a-45a2-aba7-705c7e75a1b6",
   "metadata": {},
   "source": [
    "### Matematiksel İşlemler - Array Matematiği -  Aritmetik İşlemler, Aggregate Fonksiyonlar, Karşılaştırmalar"
   ]
  },
  {
   "cell_type": "markdown",
   "id": "d8ddf566-0f5e-4095-a3c4-85dc7963a52b",
   "metadata": {},
   "source": [
    "Bu bölümde Numpy ile  matematiksel işlemleri göstereceğim. İşlemlerin çoğu kendiliğinden anlaşılmaktadır."
   ]
  },
  {
   "cell_type": "code",
   "execution_count": 38,
   "id": "48e9f0d5-7ee7-43d8-bb72-2d8bd284b754",
   "metadata": {
    "tags": []
   },
   "outputs": [],
   "source": [
    "import numpy as np"
   ]
  },
  {
   "cell_type": "code",
   "execution_count": 94,
   "id": "1c41939a-ed1f-422b-a9e0-2f552f82094a",
   "metadata": {
    "tags": []
   },
   "outputs": [],
   "source": [
    "v = np.array([1, 2, 3, 4, 5])"
   ]
  },
  {
   "cell_type": "code",
   "execution_count": 40,
   "id": "1eaf4f49-6e96-4dfd-94f1-e2905fded325",
   "metadata": {
    "tags": []
   },
   "outputs": [
    {
     "data": {
      "text/plain": [
       "array([3, 4, 5, 6, 7])"
      ]
     },
     "execution_count": 40,
     "metadata": {},
     "output_type": "execute_result"
    }
   ],
   "source": [
    "v + 2"
   ]
  },
  {
   "cell_type": "code",
   "execution_count": 41,
   "id": "7c1fe550-7225-4f84-9d95-2027e8a82c92",
   "metadata": {
    "tags": []
   },
   "outputs": [
    {
     "data": {
      "text/plain": [
       "array([0, 1, 2, 3, 4])"
      ]
     },
     "execution_count": 41,
     "metadata": {},
     "output_type": "execute_result"
    }
   ],
   "source": [
    "v - 1"
   ]
  },
  {
   "cell_type": "code",
   "execution_count": 42,
   "id": "1fffc065-35d2-4d9d-9cb0-abe4bb34f0fb",
   "metadata": {
    "tags": []
   },
   "outputs": [
    {
     "data": {
      "text/plain": [
       "array([ 5, 10, 15, 20, 25])"
      ]
     },
     "execution_count": 42,
     "metadata": {},
     "output_type": "execute_result"
    }
   ],
   "source": [
    "v * 5"
   ]
  },
  {
   "cell_type": "code",
   "execution_count": 43,
   "id": "acc491a3-9648-4617-b573-3d3c33839f37",
   "metadata": {
    "tags": []
   },
   "outputs": [
    {
     "data": {
      "text/plain": [
       "array([0.2, 0.4, 0.6, 0.8, 1. ])"
      ]
     },
     "execution_count": 43,
     "metadata": {},
     "output_type": "execute_result"
    }
   ],
   "source": [
    "v / 5"
   ]
  },
  {
   "cell_type": "code",
   "execution_count": 95,
   "id": "f2a0514f-0237-4ba6-a6c3-a3d26b37e9e8",
   "metadata": {
    "tags": []
   },
   "outputs": [
    {
     "data": {
      "text/plain": [
       "array([ 1,  4,  9, 16, 25])"
      ]
     },
     "execution_count": 95,
     "metadata": {},
     "output_type": "execute_result"
    }
   ],
   "source": [
    "v ** 2"
   ]
  },
  {
   "cell_type": "code",
   "execution_count": 44,
   "id": "f7e5af8d-9111-4527-a911-089ddc54e576",
   "metadata": {
    "tags": []
   },
   "outputs": [
    {
     "data": {
      "text/plain": [
       "array([-0.5,  0. ,  0.5,  1. ,  1.5])"
      ]
     },
     "execution_count": 44,
     "metadata": {},
     "output_type": "execute_result"
    }
   ],
   "source": [
    "v * 5/10 -1"
   ]
  },
  {
   "cell_type": "markdown",
   "id": "02a738d1-4835-4cae-83f6-84eb6c6685a1",
   "metadata": {
    "tags": []
   },
   "source": [
    "> #### `#ufunc`"
   ]
  },
  {
   "cell_type": "code",
   "execution_count": 46,
   "id": "273fb8a1-bfa3-411b-bbf1-40042dd03db4",
   "metadata": {
    "tags": []
   },
   "outputs": [
    {
     "data": {
      "text/plain": [
       "array([0, 1, 2, 3, 4])"
      ]
     },
     "execution_count": 46,
     "metadata": {},
     "output_type": "execute_result"
    }
   ],
   "source": [
    "np.subtract(v , 1)"
   ]
  },
  {
   "cell_type": "code",
   "execution_count": 47,
   "id": "5382badb-db0c-447a-882b-de731fc9802b",
   "metadata": {
    "tags": []
   },
   "outputs": [
    {
     "data": {
      "text/plain": [
       "array([2, 3, 4, 5, 6])"
      ]
     },
     "execution_count": 47,
     "metadata": {},
     "output_type": "execute_result"
    }
   ],
   "source": [
    "np.add(v , 1)"
   ]
  },
  {
   "cell_type": "code",
   "execution_count": 48,
   "id": "ddd5bd62-404a-4597-95f6-c9554a56013e",
   "metadata": {
    "tags": []
   },
   "outputs": [
    {
     "data": {
      "text/plain": [
       "array([ 4,  8, 12, 16, 20])"
      ]
     },
     "execution_count": 48,
     "metadata": {},
     "output_type": "execute_result"
    }
   ],
   "source": [
    "np.multiply(v , 4)"
   ]
  },
  {
   "cell_type": "code",
   "execution_count": 49,
   "id": "1834855d-b501-4ebb-9003-2ac5093a233a",
   "metadata": {
    "tags": []
   },
   "outputs": [
    {
     "data": {
      "text/plain": [
       "array([0.33333333, 0.66666667, 1.        , 1.33333333, 1.66666667])"
      ]
     },
     "execution_count": 49,
     "metadata": {},
     "output_type": "execute_result"
    }
   ],
   "source": [
    "np.divide(v , 3)"
   ]
  },
  {
   "cell_type": "code",
   "execution_count": 50,
   "id": "6b87a485-8a9c-45ce-b01b-5e9f5710323f",
   "metadata": {
    "tags": []
   },
   "outputs": [
    {
     "data": {
      "text/plain": [
       "array([ 1,  4,  9, 16, 25])"
      ]
     },
     "execution_count": 50,
     "metadata": {},
     "output_type": "execute_result"
    }
   ],
   "source": [
    "v**2"
   ]
  },
  {
   "cell_type": "code",
   "execution_count": 97,
   "id": "86e20093-81a8-4491-93cd-66feff3520d2",
   "metadata": {
    "tags": []
   },
   "outputs": [
    {
     "data": {
      "text/plain": [
       "array([1.        , 1.41421356, 1.73205081, 2.        , 2.23606798])"
      ]
     },
     "execution_count": 97,
     "metadata": {},
     "output_type": "execute_result"
    }
   ],
   "source": [
    "np.sqrt(v)  #square root, kare kök"
   ]
  },
  {
   "cell_type": "code",
   "execution_count": 51,
   "id": "3d978fec-8436-4dfa-a010-e2531f532a5d",
   "metadata": {
    "tags": []
   },
   "outputs": [
    {
     "data": {
      "text/plain": [
       "array([  1,   8,  27,  64, 125], dtype=int32)"
      ]
     },
     "execution_count": 51,
     "metadata": {},
     "output_type": "execute_result"
    }
   ],
   "source": [
    "v**3"
   ]
  },
  {
   "cell_type": "code",
   "execution_count": 52,
   "id": "8093f87f-8752-4436-8da5-e9e9a17d351b",
   "metadata": {
    "tags": []
   },
   "outputs": [
    {
     "data": {
      "text/plain": [
       "array([  1,   8,  27,  64, 125], dtype=int32)"
      ]
     },
     "execution_count": 52,
     "metadata": {},
     "output_type": "execute_result"
    }
   ],
   "source": [
    "np.power(v, 3)"
   ]
  },
  {
   "cell_type": "code",
   "execution_count": 53,
   "id": "4fee9ecb-b095-4920-a7f0-b5c22ed8791f",
   "metadata": {
    "tags": []
   },
   "outputs": [
    {
     "data": {
      "text/plain": [
       "array([1, 0, 1, 0, 1], dtype=int32)"
      ]
     },
     "execution_count": 53,
     "metadata": {},
     "output_type": "execute_result"
    }
   ],
   "source": [
    "v % 2"
   ]
  },
  {
   "cell_type": "code",
   "execution_count": 54,
   "id": "4b427bb7-21d2-4329-b7d8-3a2d861978b1",
   "metadata": {
    "tags": []
   },
   "outputs": [
    {
     "data": {
      "text/plain": [
       "array([1, 0, 1, 0, 1], dtype=int32)"
      ]
     },
     "execution_count": 54,
     "metadata": {},
     "output_type": "execute_result"
    }
   ],
   "source": [
    "np.mod(v , 2)"
   ]
  },
  {
   "cell_type": "code",
   "execution_count": 55,
   "id": "2cc177d9-0224-4a00-934b-7beb2184d957",
   "metadata": {
    "tags": []
   },
   "outputs": [
    {
     "data": {
      "text/plain": [
       "array([3])"
      ]
     },
     "execution_count": 55,
     "metadata": {},
     "output_type": "execute_result"
    }
   ],
   "source": [
    "np.absolute(np.array([-3]))"
   ]
  },
  {
   "cell_type": "code",
   "execution_count": 56,
   "id": "08bf3e9b-b0e1-4c3b-9f4b-ca02ae45432c",
   "metadata": {
    "tags": []
   },
   "outputs": [
    {
     "data": {
      "text/plain": [
       "0.9589157234143065"
      ]
     },
     "execution_count": 56,
     "metadata": {},
     "output_type": "execute_result"
    }
   ],
   "source": [
    "np.sin(360)"
   ]
  },
  {
   "cell_type": "code",
   "execution_count": 57,
   "id": "05b05aec-4c30-4191-802f-6016651b07b4",
   "metadata": {
    "tags": []
   },
   "outputs": [
    {
     "data": {
      "text/plain": [
       "-0.5984600690578581"
      ]
     },
     "execution_count": 57,
     "metadata": {},
     "output_type": "execute_result"
    }
   ],
   "source": [
    "np.cos(180)"
   ]
  },
  {
   "cell_type": "code",
   "execution_count": 98,
   "id": "1b625bde-c71f-472e-8c57-67f81f59dedf",
   "metadata": {
    "tags": []
   },
   "outputs": [
    {
     "data": {
      "text/plain": [
       "array([ 1.55740772, -2.18503986, -0.14254654,  1.15782128, -3.38051501])"
      ]
     },
     "execution_count": 98,
     "metadata": {},
     "output_type": "execute_result"
    }
   ],
   "source": [
    "np.tan(v)"
   ]
  },
  {
   "cell_type": "code",
   "execution_count": 58,
   "id": "54fa6e73-a7b4-4999-b2c4-6590d09c25f1",
   "metadata": {
    "tags": []
   },
   "outputs": [],
   "source": [
    "v  = np.array([1, 2, 3])"
   ]
  },
  {
   "cell_type": "code",
   "execution_count": 59,
   "id": "bc4a3d60-c4e1-4ad1-b57e-d0ba147f6be1",
   "metadata": {
    "tags": []
   },
   "outputs": [
    {
     "data": {
      "text/plain": [
       "array([0.        , 0.69314718, 1.09861229])"
      ]
     },
     "execution_count": 59,
     "metadata": {},
     "output_type": "execute_result"
    }
   ],
   "source": [
    "np.log(v)"
   ]
  },
  {
   "cell_type": "code",
   "execution_count": 60,
   "id": "9fbc0ebe-1b38-4193-beb8-5564b2dad8d9",
   "metadata": {
    "tags": []
   },
   "outputs": [
    {
     "data": {
      "text/plain": [
       "array([0.       , 1.       , 1.5849625])"
      ]
     },
     "execution_count": 60,
     "metadata": {},
     "output_type": "execute_result"
    }
   ],
   "source": [
    "np.log2(v)"
   ]
  },
  {
   "cell_type": "code",
   "execution_count": 61,
   "id": "cc1b525d-9594-41ae-888a-51fd09f0f796",
   "metadata": {
    "tags": []
   },
   "outputs": [
    {
     "data": {
      "text/plain": [
       "array([0.        , 0.30103   , 0.47712125])"
      ]
     },
     "execution_count": 61,
     "metadata": {},
     "output_type": "execute_result"
    }
   ],
   "source": [
    "np.log10(v)"
   ]
  },
  {
   "cell_type": "markdown",
   "id": "dcca81b9-2a11-4f5a-8439-b21ca237921a",
   "metadata": {},
   "source": [
    "> Şimdi elimizde a ve b olmak üzere iki array/dizi var. Aynı matematiksel işlemleri yapalım. Yine basit ve kendiliğinden anlaşılan,"
   ]
  },
  {
   "cell_type": "code",
   "execution_count": 99,
   "id": "5a3f861a-b89b-4211-aa28-ad12a37d4c57",
   "metadata": {
    "tags": []
   },
   "outputs": [
    {
     "data": {
      "text/plain": [
       "array([1, 2, 3, 4, 5])"
      ]
     },
     "execution_count": 99,
     "metadata": {},
     "output_type": "execute_result"
    }
   ],
   "source": [
    "a = np.array([1, 2, 3, 4, 5])\n",
    "a"
   ]
  },
  {
   "cell_type": "code",
   "execution_count": 100,
   "id": "2d61b23d-6912-4f68-96a3-92e3b27ad6e8",
   "metadata": {
    "tags": []
   },
   "outputs": [
    {
     "data": {
      "text/plain": [
       "array([3, 4, 5, 6, 7])"
      ]
     },
     "execution_count": 100,
     "metadata": {},
     "output_type": "execute_result"
    }
   ],
   "source": [
    "b = np.array([3, 4, 5, 6, 7])\n",
    "b"
   ]
  },
  {
   "cell_type": "code",
   "execution_count": 101,
   "id": "c638b510-a80f-4b3d-a843-159733919d6d",
   "metadata": {
    "tags": []
   },
   "outputs": [
    {
     "data": {
      "text/plain": [
       "array([ 4,  6,  8, 10, 12])"
      ]
     },
     "execution_count": 101,
     "metadata": {},
     "output_type": "execute_result"
    }
   ],
   "source": [
    "a + b"
   ]
  },
  {
   "cell_type": "code",
   "execution_count": 102,
   "id": "5f3268a4-b374-484b-9fc7-2bff33e1448c",
   "metadata": {
    "tags": []
   },
   "outputs": [
    {
     "data": {
      "text/plain": [
       "array([-2, -2, -2, -2, -2])"
      ]
     },
     "execution_count": 102,
     "metadata": {},
     "output_type": "execute_result"
    }
   ],
   "source": [
    "a - b"
   ]
  },
  {
   "cell_type": "code",
   "execution_count": 103,
   "id": "ac0e4b29-ec32-4166-91b5-e4b3642a08d4",
   "metadata": {
    "tags": []
   },
   "outputs": [
    {
     "data": {
      "text/plain": [
       "array([ 3,  8, 15, 24, 35])"
      ]
     },
     "execution_count": 103,
     "metadata": {},
     "output_type": "execute_result"
    }
   ],
   "source": [
    "a * b"
   ]
  },
  {
   "cell_type": "code",
   "execution_count": 126,
   "id": "d5a22300-29ed-4800-bb02-9ea83ae87360",
   "metadata": {
    "tags": []
   },
   "outputs": [
    {
     "data": {
      "text/plain": [
       "array([ 5, 10, 15])"
      ]
     },
     "execution_count": 126,
     "metadata": {},
     "output_type": "execute_result"
    }
   ],
   "source": [
    "5* np.array([1, 2, 3])"
   ]
  },
  {
   "cell_type": "code",
   "execution_count": 104,
   "id": "bb942ddc-c924-48d3-a7dd-e963f365e809",
   "metadata": {
    "tags": []
   },
   "outputs": [
    {
     "data": {
      "text/plain": [
       "array([0.33333333, 0.5       , 0.6       , 0.66666667, 0.71428571])"
      ]
     },
     "execution_count": 104,
     "metadata": {},
     "output_type": "execute_result"
    }
   ],
   "source": [
    "a / b"
   ]
  },
  {
   "cell_type": "code",
   "execution_count": 105,
   "id": "13082450-50b9-4253-b8c3-575c7752d8ab",
   "metadata": {
    "tags": []
   },
   "outputs": [
    {
     "data": {
      "text/plain": [
       "array([0, 0, 0, 0, 0])"
      ]
     },
     "execution_count": 105,
     "metadata": {},
     "output_type": "execute_result"
    }
   ],
   "source": [
    "a // b"
   ]
  },
  {
   "cell_type": "code",
   "execution_count": 106,
   "id": "4b736593-6984-4c57-bc58-0f49c3c5d389",
   "metadata": {
    "tags": []
   },
   "outputs": [
    {
     "data": {
      "text/plain": [
       "array([    1,    16,   243,  4096, 78125])"
      ]
     },
     "execution_count": 106,
     "metadata": {},
     "output_type": "execute_result"
    }
   ],
   "source": [
    "a ** b"
   ]
  },
  {
   "cell_type": "code",
   "execution_count": 107,
   "id": "4eea2a69-5ef0-487c-b1a8-46a074776f21",
   "metadata": {
    "tags": []
   },
   "outputs": [
    {
     "data": {
      "text/plain": [
       "85"
      ]
     },
     "execution_count": 107,
     "metadata": {},
     "output_type": "execute_result"
    }
   ],
   "source": [
    "a.dot(b)"
   ]
  },
  {
   "cell_type": "markdown",
   "id": "c18eb9f3-5e50-437c-89ec-53059f90bbeb",
   "metadata": {},
   "source": [
    "a.dot(b) nedir? Bu, element bazında çarpma ve ardından bu şekilde toplama işlemidir,\n",
    "\n",
    "1*3 + 2*4 + 3*5 + 4*6 + 5*7\n",
    "\n",
    "aşağıda ki syntax ile de yazabiliriz:"
   ]
  },
  {
   "cell_type": "code",
   "execution_count": 108,
   "id": "08f065a4-69f6-44d9-a9d2-157adbc70824",
   "metadata": {
    "tags": []
   },
   "outputs": [
    {
     "data": {
      "text/plain": [
       "85"
      ]
     },
     "execution_count": 108,
     "metadata": {},
     "output_type": "execute_result"
    }
   ],
   "source": [
    "np.dot(a, b)"
   ]
  },
  {
   "cell_type": "markdown",
   "id": "9ce00bd3-ab99-45e6-8dbd-a812f63ed339",
   "metadata": {},
   "source": [
    "Bu dot işlemini çok boyutlu arraylerde/dizilerde kullanabiliriz. Bunun için iki adet çok boyutlu array oluşturalım,"
   ]
  },
  {
   "cell_type": "code",
   "execution_count": 109,
   "id": "06a5f85e-c14d-47b2-9ce5-ef60cf6046e6",
   "metadata": {
    "tags": []
   },
   "outputs": [
    {
     "data": {
      "text/plain": [
       "array([[3, 5, 7],\n",
       "       [2, 4, 8]])"
      ]
     },
     "execution_count": 109,
     "metadata": {},
     "output_type": "execute_result"
    }
   ],
   "source": [
    "c = np.array([[3, 5, 7], [2, 4, 8]])\n",
    "c"
   ]
  },
  {
   "cell_type": "code",
   "execution_count": 110,
   "id": "b82d462a-9547-475c-9d49-3687be235a02",
   "metadata": {
    "tags": []
   },
   "outputs": [
    {
     "data": {
      "text/plain": [
       "array([[5, 3],\n",
       "       [7, 9],\n",
       "       [4, 3]])"
      ]
     },
     "execution_count": 110,
     "metadata": {},
     "output_type": "execute_result"
    }
   ],
   "source": [
    "d = np.array([[5,3], [7,9], [4, 3]])\n",
    "d"
   ]
  },
  {
   "cell_type": "code",
   "execution_count": 111,
   "id": "b62853bc-09b5-4d27-99fe-9fe3177595f0",
   "metadata": {
    "tags": []
   },
   "outputs": [
    {
     "data": {
      "text/plain": [
       "array([[78, 75],\n",
       "       [70, 66]])"
      ]
     },
     "execution_count": 111,
     "metadata": {},
     "output_type": "execute_result"
    }
   ],
   "source": [
    "c.dot(d)"
   ]
  },
  {
   "cell_type": "code",
   "execution_count": null,
   "id": "54859152-a131-453d-ae3f-52b23bbbd40e",
   "metadata": {},
   "outputs": [],
   "source": [
    "Girişler 2 boyutlu dizi olduğunda 'dot' fonksiyonu matris çarpımı gibi davranır. \n",
    "Bu, yalnızca ilk arrayin sütun sayısı ikinci arrayin satır sayısıyla eşleştiğinde 'dot' işlemini gerçekleştirebileceğiniz anlamına gelir.\n",
    "Matris çarpımının başka bir ifadesi daha vardır:"
   ]
  },
  {
   "cell_type": "code",
   "execution_count": 112,
   "id": "01896254-f072-433f-80b9-15103b03e1eb",
   "metadata": {
    "scrolled": true,
    "tags": []
   },
   "outputs": [
    {
     "data": {
      "text/plain": [
       "array([[78, 75],\n",
       "       [70, 66]])"
      ]
     },
     "execution_count": 112,
     "metadata": {},
     "output_type": "execute_result"
    }
   ],
   "source": [
    "np.matmul(c, d)"
   ]
  },
  {
   "cell_type": "markdown",
   "id": "39f569ef-bcf0-4496-9d22-6ed43fd73c12",
   "metadata": {},
   "source": [
    "'np.matmul' tek boyutlu dizilerde çalışmaz. Unutmayın, bu çarpma kuralı toplama, çıkarma, bölme gibi diğer işlemlerde geçerli değildir. \n",
    "Bir matrisi diğerine eklemek, çıkarmak veya bölmek için aynı şekil ve boyutta dizilere sahip olmanız gerekir."
   ]
  },
  {
   "cell_type": "markdown",
   "id": "36b793a7-8950-419b-88d0-0314a5efac0e",
   "metadata": {},
   "source": [
    "> #### Numpy ile temel sayısal hesaplamalar\n"
   ]
  },
  {
   "cell_type": "markdown",
   "id": "21f88ad7-d77a-445e-a76d-c7966a44c4f3",
   "metadata": {},
   "source": [
    "Matematiksel işlemler ile temel hesaplamalar üzerinde biraz daha egzersis yapalım:\n"
   ]
  },
  {
   "cell_type": "code",
   "execution_count": 3,
   "id": "06db110d-1f59-4469-8e8b-c1212ab12de9",
   "metadata": {},
   "outputs": [],
   "source": [
    "a = np.array([1,2,3])\n",
    "b= np.array([4,5,6])\n"
   ]
  },
  {
   "cell_type": "code",
   "execution_count": 4,
   "id": "68deb0eb-cdd6-48f4-af3f-4756c59a33f8",
   "metadata": {},
   "outputs": [
    {
     "data": {
      "text/plain": [
       "array([1, 2, 3])"
      ]
     },
     "execution_count": 4,
     "metadata": {},
     "output_type": "execute_result"
    }
   ],
   "source": [
    "a"
   ]
  },
  {
   "cell_type": "code",
   "execution_count": 5,
   "id": "63528c02-57a0-4b86-bc84-7431aa76aa01",
   "metadata": {},
   "outputs": [
    {
     "data": {
      "text/plain": [
       "array([4, 5, 6])"
      ]
     },
     "execution_count": 5,
     "metadata": {},
     "output_type": "execute_result"
    }
   ],
   "source": [
    "b"
   ]
  },
  {
   "cell_type": "code",
   "execution_count": 7,
   "id": "8b54da34-0786-44a9-8524-004407f404e0",
   "metadata": {},
   "outputs": [
    {
     "name": "stdout",
     "output_type": "stream",
     "text": [
      "[5 7 9]\n"
     ]
    }
   ],
   "source": [
    "print(a + b)"
   ]
  },
  {
   "cell_type": "markdown",
   "id": "b1c63c77-8148-4962-b913-b65fb46eff9a",
   "metadata": {},
   "source": [
    "x ve y öğelerini ekler. [1+4, 2+5, 3+6]"
   ]
  },
  {
   "cell_type": "code",
   "execution_count": 8,
   "id": "6802196f-dd39-46e3-924e-0fc30a84fdd5",
   "metadata": {},
   "outputs": [
    {
     "name": "stdout",
     "output_type": "stream",
     "text": [
      "[-3 -3 -3]\n"
     ]
    }
   ],
   "source": [
    "print(a - b)"
   ]
  },
  {
   "cell_type": "markdown",
   "id": "bc02483d-cd32-4a86-adfd-d20018108f0d",
   "metadata": {},
   "source": [
    "x ve y öğelerin çıkarma işlemi uygular. [1-4, 2-5, 3-6]"
   ]
  },
  {
   "cell_type": "code",
   "execution_count": 9,
   "id": "8de99cd1-0634-470d-b1aa-7edba4b54dbe",
   "metadata": {},
   "outputs": [
    {
     "name": "stdout",
     "output_type": "stream",
     "text": [
      "[ 4 10 18]\n"
     ]
    }
   ],
   "source": [
    "print(a * b)"
   ]
  },
  {
   "cell_type": "code",
   "execution_count": 10,
   "id": "8511f8a0-b184-47c1-9728-bea8ac200239",
   "metadata": {},
   "outputs": [
    {
     "name": "stdout",
     "output_type": "stream",
     "text": [
      "[0.25 0.4  0.5 ]\n"
     ]
    }
   ],
   "source": [
    "print(a / b)"
   ]
  },
  {
   "cell_type": "markdown",
   "id": "5e9d46c9-9008-40b3-8193-5b914f98fb3f",
   "metadata": {},
   "source": [
    "a'in b kuvvetini alalım"
   ]
  },
  {
   "cell_type": "code",
   "execution_count": 12,
   "id": "6faf5c90-5e2c-4ea8-b96c-dccd05bd5055",
   "metadata": {},
   "outputs": [
    {
     "name": "stdout",
     "output_type": "stream",
     "text": [
      "[  1  32 729]\n"
     ]
    }
   ],
   "source": [
    "print(a ** b)"
   ]
  },
  {
   "cell_type": "code",
   "execution_count": 13,
   "id": "aa22d82a-0dfc-4397-b5ea-407c99721a7d",
   "metadata": {},
   "outputs": [
    {
     "data": {
      "text/plain": [
       "32"
      ]
     },
     "execution_count": 13,
     "metadata": {},
     "output_type": "execute_result"
    }
   ],
   "source": [
    "a.dot(b)"
   ]
  },
  {
   "cell_type": "markdown",
   "id": "4a5d719f-9745-481c-acf7-ed14db4349e0",
   "metadata": {},
   "source": [
    "Dot işlemi 1 * 4 + 2 * 5 + 3 * 6"
   ]
  },
  {
   "cell_type": "code",
   "execution_count": 16,
   "id": "ef2c022a-af6e-49a9-85b1-69078295a5d9",
   "metadata": {},
   "outputs": [],
   "source": [
    "d = np.array([b])"
   ]
  },
  {
   "cell_type": "code",
   "execution_count": 18,
   "id": "fd1c1da5-b3e7-4f73-9952-1c6faa627c7d",
   "metadata": {},
   "outputs": [
    {
     "data": {
      "text/plain": [
       "array([[4, 5, 6]])"
      ]
     },
     "execution_count": 18,
     "metadata": {},
     "output_type": "execute_result"
    }
   ],
   "source": [
    "d"
   ]
  },
  {
   "cell_type": "code",
   "execution_count": 14,
   "id": "cca785f6-d878-4670-a3b7-7c6b3f5e0965",
   "metadata": {},
   "outputs": [],
   "source": [
    "c = np.array([b, b**2])"
   ]
  },
  {
   "cell_type": "code",
   "execution_count": 15,
   "id": "e35c58ac-508a-42a4-aa86-df20f589d5d4",
   "metadata": {},
   "outputs": [
    {
     "data": {
      "text/plain": [
       "array([[ 4,  5,  6],\n",
       "       [16, 25, 36]])"
      ]
     },
     "execution_count": 15,
     "metadata": {},
     "output_type": "execute_result"
    }
   ],
   "source": [
    "c\n"
   ]
  },
  {
   "cell_type": "markdown",
   "id": "a4a2c00c-3d09-4647-a037-2208ea608cc8",
   "metadata": {},
   "source": [
    "ikinci dizinin birinci dizinin karesi olduğu bir dizi oluşturur."
   ]
  },
  {
   "cell_type": "code",
   "execution_count": 19,
   "id": "9bcaad5c-e4d3-4842-a167-65493ad5e02e",
   "metadata": {},
   "outputs": [
    {
     "data": {
      "text/plain": [
       "(2, 3)"
      ]
     },
     "execution_count": 19,
     "metadata": {},
     "output_type": "execute_result"
    }
   ],
   "source": [
    "c.shape"
   ]
  },
  {
   "cell_type": "markdown",
   "id": "5226c646-d325-4605-929d-cc8db8836296",
   "metadata": {},
   "source": [
    "c.shape, c'nin 2 satırı ve 3 sütunu olduğunu söylüyor. Bu iki boyutlu bir dizi."
   ]
  },
  {
   "cell_type": "code",
   "execution_count": 20,
   "id": "0d78d938-01c2-49b0-86c4-4477e5f82e58",
   "metadata": {},
   "outputs": [
    {
     "data": {
      "text/plain": [
       "array([[ 4,  5,  6],\n",
       "       [16, 25, 36]])"
      ]
     },
     "execution_count": 20,
     "metadata": {},
     "output_type": "execute_result"
    }
   ],
   "source": [
    "c\n"
   ]
  },
  {
   "cell_type": "code",
   "execution_count": 21,
   "id": "029b9393-1e5d-44b4-a921-dcc69bd7eb9a",
   "metadata": {},
   "outputs": [
    {
     "data": {
      "text/plain": [
       "array([[ 4, 16],\n",
       "       [ 5, 25],\n",
       "       [ 6, 36]])"
      ]
     },
     "execution_count": 21,
     "metadata": {},
     "output_type": "execute_result"
    }
   ],
   "source": [
    "c.T"
   ]
  },
  {
   "cell_type": "markdown",
   "id": "d76eda23-2378-4e62-9802-831173db2339",
   "metadata": {},
   "source": [
    "c.T burada gösterildiği gibi satırı ve sütunu transpose eder/değiştirir."
   ]
  },
  {
   "cell_type": "code",
   "execution_count": 22,
   "id": "030c4f3b-0b2e-4914-afec-1af52baeda7b",
   "metadata": {},
   "outputs": [
    {
     "data": {
      "text/plain": [
       "(3, 2)"
      ]
     },
     "execution_count": 22,
     "metadata": {},
     "output_type": "execute_result"
    }
   ],
   "source": [
    "c.T.shape"
   ]
  },
  {
   "cell_type": "code",
   "execution_count": 23,
   "id": "0b04e830-1af1-455e-a674-2381993acde8",
   "metadata": {},
   "outputs": [],
   "source": [
    "e = np.array([-4, -2, 1, 3, 5])"
   ]
  },
  {
   "cell_type": "code",
   "execution_count": 24,
   "id": "edb54119-f81a-489d-acce-eaebf85ba2e5",
   "metadata": {},
   "outputs": [
    {
     "data": {
      "text/plain": [
       "array([-4, -2,  1,  3,  5])"
      ]
     },
     "execution_count": 24,
     "metadata": {},
     "output_type": "execute_result"
    }
   ],
   "source": [
    "e"
   ]
  },
  {
   "cell_type": "code",
   "execution_count": 25,
   "id": "12e776d8-d07b-4aec-97eb-28228b48f490",
   "metadata": {},
   "outputs": [
    {
     "data": {
      "text/plain": [
       "3"
      ]
     },
     "execution_count": 25,
     "metadata": {},
     "output_type": "execute_result"
    }
   ],
   "source": [
    "e.sum()"
   ]
  },
  {
   "cell_type": "code",
   "execution_count": 26,
   "id": "58d4926b-97af-4a69-8141-27babed36e1a",
   "metadata": {},
   "outputs": [
    {
     "data": {
      "text/plain": [
       "5"
      ]
     },
     "execution_count": 26,
     "metadata": {},
     "output_type": "execute_result"
    }
   ],
   "source": [
    "e.max()"
   ]
  },
  {
   "cell_type": "code",
   "execution_count": 27,
   "id": "8ca8a606-6aea-4106-ba8d-2a6c62e04aea",
   "metadata": {},
   "outputs": [
    {
     "data": {
      "text/plain": [
       "-4"
      ]
     },
     "execution_count": 27,
     "metadata": {},
     "output_type": "execute_result"
    }
   ],
   "source": [
    "e.min()"
   ]
  },
  {
   "cell_type": "code",
   "execution_count": 28,
   "id": "d62a7bf8-e40d-40cc-9787-75a2077ff610",
   "metadata": {},
   "outputs": [
    {
     "data": {
      "text/plain": [
       "2.0"
      ]
     },
     "execution_count": 28,
     "metadata": {},
     "output_type": "execute_result"
    }
   ],
   "source": [
    "a.mean()"
   ]
  },
  {
   "cell_type": "code",
   "execution_count": 29,
   "id": "e3906a4d-7f70-4fbc-95a5-c7f3a4ab6165",
   "metadata": {},
   "outputs": [
    {
     "data": {
      "text/plain": [
       "0.816496580927726"
      ]
     },
     "execution_count": 29,
     "metadata": {},
     "output_type": "execute_result"
    }
   ],
   "source": [
    "a.std()"
   ]
  },
  {
   "cell_type": "markdown",
   "id": "14a707c0-79ed-4eb9-a1a5-8b67a25e70d1",
   "metadata": {},
   "source": [
    "e.mean() ve e.std() size sırasıyla aritmetik ortalama ve standart sapmayı verecektir."
   ]
  },
  {
   "cell_type": "markdown",
   "id": "af82e89e-3a84-4ce8-9958-126dc3e34c55",
   "metadata": {},
   "source": [
    "argmax fonksiyonu dizinin en büyük elemanının indeksini, argmin fonksiyonu ise dizinin en küçük elemanının indeksini aşağıdaki gibi alır:"
   ]
  },
  {
   "cell_type": "code",
   "execution_count": 30,
   "id": "1a1068c5-0c6e-4560-9854-8a964dcb37c9",
   "metadata": {},
   "outputs": [
    {
     "data": {
      "text/plain": [
       "4"
      ]
     },
     "execution_count": 30,
     "metadata": {},
     "output_type": "execute_result"
    }
   ],
   "source": [
    "e.argmax()"
   ]
  },
  {
   "cell_type": "code",
   "execution_count": 31,
   "id": "455f3871-e057-426f-95f9-616ddcb5a7ca",
   "metadata": {},
   "outputs": [
    {
     "data": {
      "text/plain": [
       "0"
      ]
     },
     "execution_count": 31,
     "metadata": {},
     "output_type": "execute_result"
    }
   ],
   "source": [
    "e.argmin()"
   ]
  },
  {
   "cell_type": "markdown",
   "id": "a2489568-142a-4948-b019-2ac918606dda",
   "metadata": {},
   "source": [
    "\n",
    "iki bilinmeyenli denklem nasıl çözülür?"
   ]
  },
  {
   "cell_type": "code",
   "execution_count": 2,
   "id": "54c22bcc-b4f7-4770-add8-093bbd496752",
   "metadata": {},
   "outputs": [],
   "source": [
    "import numpy as np"
   ]
  },
  {
   "cell_type": "markdown",
   "id": "9098020b-a884-4a8a-8a09-234fb24ab6d3",
   "metadata": {},
   "source": [
    "7* x0 + x1 = 13\n",
    "\n",
    "x0 + 5 * x1 = 11"
   ]
  },
  {
   "cell_type": "code",
   "execution_count": 3,
   "id": "be965f75-b7cd-4d9c-8045-0a752c64de74",
   "metadata": {},
   "outputs": [],
   "source": [
    "a = np.array([[7,1],[1,5]])"
   ]
  },
  {
   "cell_type": "code",
   "execution_count": 4,
   "id": "5b7570d4-413e-4adc-b6c6-66c381754bd3",
   "metadata": {},
   "outputs": [],
   "source": [
    "b = np.array([13,11])"
   ]
  },
  {
   "cell_type": "code",
   "execution_count": 5,
   "id": "47ca64c7-0059-41e5-8c48-b389735326b0",
   "metadata": {},
   "outputs": [],
   "source": [
    "x = np.linalg.solve(a,b)"
   ]
  },
  {
   "cell_type": "code",
   "execution_count": 6,
   "id": "4b765018-97a9-4c99-80b2-0f68f5b5f602",
   "metadata": {},
   "outputs": [
    {
     "data": {
      "text/plain": [
       "array([1.58823529, 1.88235294])"
      ]
     },
     "execution_count": 6,
     "metadata": {},
     "output_type": "execute_result"
    }
   ],
   "source": [
    "x"
   ]
  },
  {
   "cell_type": "markdown",
   "id": "62c658d9-6970-4e85-b1f4-7067add476e3",
   "metadata": {},
   "source": [
    "![Divider05](images/divider05.png)"
   ]
  },
  {
   "cell_type": "code",
   "execution_count": 62,
   "id": "fcf049a3-4870-4f10-99d4-9b4cc8d401df",
   "metadata": {
    "tags": []
   },
   "outputs": [
    {
     "data": {
      "text/plain": [
       "\u001b[1;31mType:\u001b[0m        module\n",
       "\u001b[1;31mString form:\u001b[0m <module 'numpy' from 'C:\\\\Users\\\\90530\\\\anaconda3\\\\Lib\\\\site-packages\\\\numpy\\\\__init__.py'>\n",
       "\u001b[1;31mFile:\u001b[0m        c:\\users\\90530\\anaconda3\\lib\\site-packages\\numpy\\__init__.py\n",
       "\u001b[1;31mDocstring:\u001b[0m  \n",
       "NumPy\n",
       "=====\n",
       "\n",
       "Provides\n",
       "  1. An array object of arbitrary homogeneous items\n",
       "  2. Fast mathematical operations over arrays\n",
       "  3. Linear Algebra, Fourier Transforms, Random Number Generation\n",
       "\n",
       "How to use the documentation\n",
       "----------------------------\n",
       "Documentation is available in two forms: docstrings provided\n",
       "with the code, and a loose standing reference guide, available from\n",
       "`the NumPy homepage <https://numpy.org>`_.\n",
       "\n",
       "We recommend exploring the docstrings using\n",
       "`IPython <https://ipython.org>`_, an advanced Python shell with\n",
       "TAB-completion and introspection capabilities.  See below for further\n",
       "instructions.\n",
       "\n",
       "The docstring examples assume that `numpy` has been imported as ``np``::\n",
       "\n",
       "  >>> import numpy as np\n",
       "\n",
       "Code snippets are indicated by three greater-than signs::\n",
       "\n",
       "  >>> x = 42\n",
       "  >>> x = x + 1\n",
       "\n",
       "Use the built-in ``help`` function to view a function's docstring::\n",
       "\n",
       "  >>> help(np.sort)\n",
       "  ... # doctest: +SKIP\n",
       "\n",
       "For some objects, ``np.info(obj)`` may provide additional help.  This is\n",
       "particularly true if you see the line \"Help on ufunc object:\" at the top\n",
       "of the help() page.  Ufuncs are implemented in C, not Python, for speed.\n",
       "The native Python help() does not know how to view their help, but our\n",
       "np.info() function does.\n",
       "\n",
       "To search for documents containing a keyword, do::\n",
       "\n",
       "  >>> np.lookfor('keyword')\n",
       "  ... # doctest: +SKIP\n",
       "\n",
       "General-purpose documents like a glossary and help on the basic concepts\n",
       "of numpy are available under the ``doc`` sub-module::\n",
       "\n",
       "  >>> from numpy import doc\n",
       "  >>> help(doc)\n",
       "  ... # doctest: +SKIP\n",
       "\n",
       "Available subpackages\n",
       "---------------------\n",
       "lib\n",
       "    Basic functions used by several sub-packages.\n",
       "random\n",
       "    Core Random Tools\n",
       "linalg\n",
       "    Core Linear Algebra Tools\n",
       "fft\n",
       "    Core FFT routines\n",
       "polynomial\n",
       "    Polynomial tools\n",
       "testing\n",
       "    NumPy testing tools\n",
       "distutils\n",
       "    Enhancements to distutils with support for\n",
       "    Fortran compilers support and more.\n",
       "\n",
       "Utilities\n",
       "---------\n",
       "test\n",
       "    Run numpy unittests\n",
       "show_config\n",
       "    Show numpy build configuration\n",
       "dual\n",
       "    Overwrite certain functions with high-performance SciPy tools.\n",
       "    Note: `numpy.dual` is deprecated.  Use the functions from NumPy or Scipy\n",
       "    directly instead of importing them from `numpy.dual`.\n",
       "matlib\n",
       "    Make everything matrices.\n",
       "__version__\n",
       "    NumPy version string\n",
       "\n",
       "Viewing documentation using IPython\n",
       "-----------------------------------\n",
       "\n",
       "Start IPython and import `numpy` usually under the alias ``np``: `import\n",
       "numpy as np`.  Then, directly past or use the ``%cpaste`` magic to paste\n",
       "examples into the shell.  To see which functions are available in `numpy`,\n",
       "type ``np.<TAB>`` (where ``<TAB>`` refers to the TAB key), or use\n",
       "``np.*cos*?<ENTER>`` (where ``<ENTER>`` refers to the ENTER key) to narrow\n",
       "down the list.  To view the docstring for a function, use\n",
       "``np.cos?<ENTER>`` (to view the docstring) and ``np.cos??<ENTER>`` (to view\n",
       "the source code).\n",
       "\n",
       "Copies vs. in-place operation\n",
       "-----------------------------\n",
       "Most of the functions in `numpy` return a copy of the array argument\n",
       "(e.g., `np.sort`).  In-place versions of these functions are often\n",
       "available as array methods, i.e. ``x = np.array([1,2,3]); x.sort()``.\n",
       "Exceptions to this rule are documented."
      ]
     },
     "metadata": {},
     "output_type": "display_data"
    }
   ],
   "source": [
    "?np"
   ]
  },
  {
   "cell_type": "markdown",
   "id": "9673de8b-4c26-49c8-9607-dfa0355de1fa",
   "metadata": {},
   "source": [
    "![Divider05](images/divider05.png)"
   ]
  },
  {
   "cell_type": "code",
   "execution_count": 63,
   "id": "210dad81-e154-4e9e-9024-2fba2409c60c",
   "metadata": {
    "tags": []
   },
   "outputs": [],
   "source": [
    "#cheatsheet"
   ]
  },
  {
   "cell_type": "code",
   "execution_count": 64,
   "id": "b64c227e-80a0-4297-903f-1237c94a87f9",
   "metadata": {
    "tags": []
   },
   "outputs": [],
   "source": [
    "b = np.array([(1.5,2,3), (4,5,6)], dtype = float)"
   ]
  },
  {
   "cell_type": "code",
   "execution_count": 65,
   "id": "11f47bf5-eb2e-41d1-84a4-5f974c80d8a1",
   "metadata": {
    "tags": []
   },
   "outputs": [
    {
     "data": {
      "text/plain": [
       "2"
      ]
     },
     "execution_count": 65,
     "metadata": {},
     "output_type": "execute_result"
    }
   ],
   "source": [
    "b.ndim"
   ]
  },
  {
   "cell_type": "code",
   "execution_count": 66,
   "id": "f9b19f37-9ed5-43d4-8000-8c33a7baf32f",
   "metadata": {
    "tags": []
   },
   "outputs": [],
   "source": [
    "c = np.array([[(1.5,2,3), (4,5,6)], [(3,2,1), (4,5,6)]],\n",
    " dtype = float)"
   ]
  },
  {
   "cell_type": "code",
   "execution_count": 67,
   "id": "4dad1a33-759e-4d2a-ac66-bc3e0f1e3cec",
   "metadata": {
    "tags": []
   },
   "outputs": [
    {
     "data": {
      "text/plain": [
       "3"
      ]
     },
     "execution_count": 67,
     "metadata": {},
     "output_type": "execute_result"
    }
   ],
   "source": [
    "c.ndim"
   ]
  },
  {
   "cell_type": "code",
   "execution_count": 68,
   "id": "39f62d4e-0118-460d-bf64-4ab0b41e583c",
   "metadata": {
    "tags": []
   },
   "outputs": [
    {
     "data": {
      "text/plain": [
       "array([[1.5, 2. , 3. ],\n",
       "       [4. , 5. , 6. ]])"
      ]
     },
     "execution_count": 68,
     "metadata": {},
     "output_type": "execute_result"
    }
   ],
   "source": [
    "b"
   ]
  },
  {
   "cell_type": "markdown",
   "id": "35399671-8ffb-4a65-8785-e553e7ae16da",
   "metadata": {},
   "source": [
    "b[[1, 0, 1, 0]][:,[0,1,2, 0]]\n",
    "This line is performing two separate indexing operations:\n",
    "\n",
    "The outer [1, 0, 1, 0] is an index array used to select rows from the array b.\n",
    "\n",
    "array([[4., 5., 6.],\n",
    "       [1.5, 2., 3.],\n",
    "       [4., 5., 6.],\n",
    "       [1.5, 2., 3.]])\n",
    "\n",
    "\n",
    "The inner [:, [0, 1, 2, 0]] is an index array used to select columns from the previously selected rows.\n",
    "Let's break it down further:\n",
    "\n",
    "b[[1, 0, 1, 0]] selects rows from b based on the indices [1, 0, 1, 0]. So, it picks rows 1, 0, 1, and 0 in that order.\n",
    "\n",
    "[:, [0, 1, 2, 0]] further selects columns from the previously selected rows. The : indicates that we're considering all the rows previously selected, and [0, 1, 2, 0] indicates the columns to be picked for each row.\n",
    "\n",
    "For each row, it selects columns 0, 1, 2, and 0."
   ]
  },
  {
   "cell_type": "code",
   "execution_count": 69,
   "id": "6df3fcd4-dbd5-4dde-8547-b8f7f9f88e02",
   "metadata": {
    "tags": []
   },
   "outputs": [
    {
     "data": {
      "text/plain": [
       "array([[4. , 5. , 6. , 4. ],\n",
       "       [1.5, 2. , 3. , 1.5],\n",
       "       [4. , 5. , 6. , 4. ],\n",
       "       [1.5, 2. , 3. , 1.5]])"
      ]
     },
     "execution_count": 69,
     "metadata": {},
     "output_type": "execute_result"
    }
   ],
   "source": [
    "b[[1, 0, 1, 0]][:,[0,1,2, 0]]"
   ]
  },
  {
   "cell_type": "markdown",
   "id": "426465ae-4aef-4a74-9667-8be741334a20",
   "metadata": {},
   "source": [
    "b[[1, 0, 1, 0]][0, [0, 1, 2, 0]] performs further indexing on the rows obtained in the previous step.\n",
    "\n",
    "array([[4., 5., 6.],\n",
    "       [1.5, 2., 3.],\n",
    "       [4., 5., 6.],\n",
    "       [1.5, 2., 3.]])\n",
    "\n",
    "\n",
    "b[[1, 0, 1, 0]] has already selected rows 1, 0, 1, and 0 as shown above.\n",
    "[0, [0, 1, 2, 0]] indicates that from the rows obtained previously, you want to select the first row ([0]), and from that row, select columns [0, 1, 2, 0].\n",
    "So, from the rows [4., 5., 6.] (which is row 0 after the initial selection), the indices [0, 1, 2, 0] are used for further indexing:\n",
    "\n",
    "Column 0: 4.\n",
    "Column 1: 5.\n",
    "Column 2: 6.\n",
    "Column 0 (again): 4.\n",
    "Therefore, the final result is the array [4., 5., 6., 4.]."
   ]
  },
  {
   "cell_type": "code",
   "execution_count": 70,
   "id": "10e890e5-ad4e-455c-8bc6-cad2e6451646",
   "metadata": {
    "tags": []
   },
   "outputs": [
    {
     "data": {
      "text/plain": [
       "array([4., 5., 6., 4.])"
      ]
     },
     "execution_count": 70,
     "metadata": {},
     "output_type": "execute_result"
    }
   ],
   "source": [
    "b[[1, 0, 1, 0]][0,[0,1,2, 0]]"
   ]
  },
  {
   "cell_type": "code",
   "execution_count": 71,
   "id": "09b79f7d-6ca0-4a18-bb66-0609a962fa9f",
   "metadata": {
    "tags": []
   },
   "outputs": [
    {
     "data": {
      "text/plain": [
       "4.0"
      ]
     },
     "execution_count": 71,
     "metadata": {},
     "output_type": "execute_result"
    }
   ],
   "source": [
    "b[1][0]"
   ]
  },
  {
   "cell_type": "code",
   "execution_count": 72,
   "id": "cef758c3-d664-4500-a455-267c4a2b40cc",
   "metadata": {
    "tags": []
   },
   "outputs": [
    {
     "data": {
      "text/plain": [
       "array([[[1.5, 2. , 3. ],\n",
       "        [4. , 5. , 6. ]],\n",
       "\n",
       "       [[3. , 2. , 1. ],\n",
       "        [4. , 5. , 6. ]]])"
      ]
     },
     "execution_count": 72,
     "metadata": {},
     "output_type": "execute_result"
    }
   ],
   "source": [
    "c"
   ]
  },
  {
   "cell_type": "code",
   "execution_count": 73,
   "id": "83fbb14a-8852-4444-bd7d-981005e9f4e7",
   "metadata": {
    "tags": []
   },
   "outputs": [],
   "source": [
    "c.sort(axis=0)"
   ]
  },
  {
   "cell_type": "code",
   "execution_count": 74,
   "id": "2a5e88c5-0d10-4662-ac26-f35da8db9fb7",
   "metadata": {
    "tags": []
   },
   "outputs": [
    {
     "data": {
      "text/plain": [
       "array([[[1.5, 2. , 1. ],\n",
       "        [4. , 5. , 6. ]],\n",
       "\n",
       "       [[3. , 2. , 3. ],\n",
       "        [4. , 5. , 6. ]]])"
      ]
     },
     "execution_count": 74,
     "metadata": {},
     "output_type": "execute_result"
    }
   ],
   "source": [
    "c"
   ]
  },
  {
   "cell_type": "code",
   "execution_count": 75,
   "id": "9edaf967-0808-4e30-bc28-7f5fab52cd30",
   "metadata": {
    "tags": []
   },
   "outputs": [
    {
     "data": {
      "text/plain": [
       "array([[[1.5, 2. , 1. ],\n",
       "        [4. , 5. , 6. ]],\n",
       "\n",
       "       [[3. , 2. , 3. ],\n",
       "        [4. , 5. , 6. ]]])"
      ]
     },
     "execution_count": 75,
     "metadata": {},
     "output_type": "execute_result"
    }
   ],
   "source": [
    "c"
   ]
  },
  {
   "cell_type": "code",
   "execution_count": 76,
   "id": "74b8ec66-e1d2-4741-a2d6-f128a4c12da9",
   "metadata": {
    "tags": []
   },
   "outputs": [],
   "source": [
    "c.sort(axis=1)"
   ]
  },
  {
   "cell_type": "code",
   "execution_count": 77,
   "id": "30bd4e09-1386-4072-acac-02b0fca6e333",
   "metadata": {
    "tags": []
   },
   "outputs": [
    {
     "data": {
      "text/plain": [
       "array([[[1.5, 2. , 1. ],\n",
       "        [4. , 5. , 6. ]],\n",
       "\n",
       "       [[3. , 2. , 3. ],\n",
       "        [4. , 5. , 6. ]]])"
      ]
     },
     "execution_count": 77,
     "metadata": {},
     "output_type": "execute_result"
    }
   ],
   "source": [
    "c\n"
   ]
  },
  {
   "cell_type": "markdown",
   "id": "7792dada-01ed-4c72-bbc8-7ede8c38663f",
   "metadata": {},
   "source": [
    "![Divider05](images/divider05.png)"
   ]
  },
  {
   "cell_type": "markdown",
   "id": "1ae6a1de-7b18-4d77-a3a9-b10a35d41ede",
   "metadata": {},
   "source": [
    "### Statistical Cheatsheet"
   ]
  },
  {
   "cell_type": "markdown",
   "id": "8a12ad1c-9197-4699-852b-0fbe9a3150b2",
   "metadata": {},
   "source": [
    "Numpy'ın temel istatistiksel işlemleri de vardır."
   ]
  },
  {
   "cell_type": "code",
   "execution_count": 115,
   "id": "177c343a-cff6-44b1-a58a-27e642ef26e9",
   "metadata": {
    "tags": []
   },
   "outputs": [
    {
     "data": {
      "text/plain": [
       "array([1, 2, 3, 4, 5])"
      ]
     },
     "execution_count": 115,
     "metadata": {},
     "output_type": "execute_result"
    }
   ],
   "source": [
    "v"
   ]
  },
  {
   "cell_type": "code",
   "execution_count": 116,
   "id": "7cf6d85a-9de2-4bdc-8fcb-e0448af2b648",
   "metadata": {
    "tags": []
   },
   "outputs": [
    {
     "data": {
      "text/plain": [
       "1"
      ]
     },
     "execution_count": 116,
     "metadata": {},
     "output_type": "execute_result"
    }
   ],
   "source": [
    "v.min()"
   ]
  },
  {
   "cell_type": "code",
   "execution_count": 117,
   "id": "0bb38387-072c-4aea-badc-92f75ba3b1e1",
   "metadata": {
    "tags": []
   },
   "outputs": [
    {
     "data": {
      "text/plain": [
       "3.0"
      ]
     },
     "execution_count": 117,
     "metadata": {},
     "output_type": "execute_result"
    }
   ],
   "source": [
    "np.mean(v)"
   ]
  },
  {
   "cell_type": "code",
   "execution_count": 118,
   "id": "4cebf7ba-028c-459e-bbd3-7e1fe08f0801",
   "metadata": {
    "tags": []
   },
   "outputs": [
    {
     "data": {
      "text/plain": [
       "15"
      ]
     },
     "execution_count": 118,
     "metadata": {},
     "output_type": "execute_result"
    }
   ],
   "source": [
    "v.sum()"
   ]
  },
  {
   "cell_type": "code",
   "execution_count": 119,
   "id": "d44253e5-a7f3-484c-a137-c44f63833545",
   "metadata": {
    "tags": []
   },
   "outputs": [
    {
     "data": {
      "text/plain": [
       "5"
      ]
     },
     "execution_count": 119,
     "metadata": {},
     "output_type": "execute_result"
    }
   ],
   "source": [
    "v.max()"
   ]
  },
  {
   "cell_type": "code",
   "execution_count": 120,
   "id": "93414ecd-a13b-4133-910b-60e5e1493b67",
   "metadata": {
    "tags": []
   },
   "outputs": [
    {
     "data": {
      "text/plain": [
       "2.0"
      ]
     },
     "execution_count": 120,
     "metadata": {},
     "output_type": "execute_result"
    }
   ],
   "source": [
    "np.var(v)"
   ]
  },
  {
   "cell_type": "code",
   "execution_count": 121,
   "id": "bbebfff6-39f4-4835-bfcb-c8099c99ca05",
   "metadata": {
    "tags": []
   },
   "outputs": [
    {
     "data": {
      "text/plain": [
       "1.4142135623730951"
      ]
     },
     "execution_count": 121,
     "metadata": {},
     "output_type": "execute_result"
    }
   ],
   "source": [
    "np.std(v)"
   ]
  },
  {
   "cell_type": "code",
   "execution_count": 122,
   "id": "3b794f81-668c-4419-858e-55c13a7fd14d",
   "metadata": {
    "jupyter": {
     "source_hidden": true
    },
    "tags": []
   },
   "outputs": [
    {
     "data": {
      "text/plain": [
       "1.0"
      ]
     },
     "execution_count": 122,
     "metadata": {},
     "output_type": "execute_result"
    }
   ],
   "source": [
    "np.corrcoef(v)"
   ]
  },
  {
   "cell_type": "markdown",
   "id": "9bf8ce6d-3ef8-4914-b520-aa165a54eb14",
   "metadata": {},
   "source": [
    "istatistiki olmasa da:\n"
   ]
  },
  {
   "cell_type": "code",
   "execution_count": 123,
   "id": "b69429f0-a85d-44ac-a47f-9c10d6d398b5",
   "metadata": {
    "tags": []
   },
   "outputs": [
    {
     "data": {
      "text/plain": [
       "0"
      ]
     },
     "execution_count": 123,
     "metadata": {},
     "output_type": "execute_result"
    }
   ],
   "source": [
    "v.argmin()"
   ]
  },
  {
   "cell_type": "code",
   "execution_count": 124,
   "id": "0bc25f50-026e-4662-90d9-2a6282ac422b",
   "metadata": {
    "tags": []
   },
   "outputs": [
    {
     "data": {
      "text/plain": [
       "4"
      ]
     },
     "execution_count": 124,
     "metadata": {},
     "output_type": "execute_result"
    }
   ],
   "source": [
    "v.argmax()"
   ]
  },
  {
   "cell_type": "code",
   "execution_count": 125,
   "id": "bad3dbd0-e40f-4515-a034-5fe89a70a091",
   "metadata": {},
   "outputs": [],
   "source": [
    "import numpy as np"
   ]
  },
  {
   "cell_type": "markdown",
   "id": "a2120197-4b36-432e-9d80-609a1d8342c6",
   "metadata": {
    "tags": []
   },
   "source": [
    "5 * x0 + x1 = 12\n",
    "\n",
    "\n",
    "x0 +3 * x1 = 10"
   ]
  },
  {
   "cell_type": "code",
   "execution_count": 87,
   "id": "a71ebd92-ae25-4f92-9e63-76316deb15bb",
   "metadata": {
    "tags": []
   },
   "outputs": [],
   "source": [
    "a = np.array([[5, 1], [1, 3]])\n",
    "b = np.array([12, 10])"
   ]
  },
  {
   "cell_type": "code",
   "execution_count": 88,
   "id": "e61a56e4-1de4-4ac6-82d3-4b421036907a",
   "metadata": {
    "tags": []
   },
   "outputs": [
    {
     "data": {
      "text/plain": [
       "array([[5, 1],\n",
       "       [1, 3]])"
      ]
     },
     "execution_count": 88,
     "metadata": {},
     "output_type": "execute_result"
    }
   ],
   "source": [
    "a"
   ]
  },
  {
   "cell_type": "code",
   "execution_count": 89,
   "id": "b9eb48a0-918e-4213-ab54-d9918759d78d",
   "metadata": {
    "tags": []
   },
   "outputs": [
    {
     "data": {
      "text/plain": [
       "array([12, 10])"
      ]
     },
     "execution_count": 89,
     "metadata": {},
     "output_type": "execute_result"
    }
   ],
   "source": [
    "b"
   ]
  },
  {
   "cell_type": "code",
   "execution_count": 90,
   "id": "93ae6246-52fa-4bd2-ba96-b51119e0aa39",
   "metadata": {
    "tags": []
   },
   "outputs": [
    {
     "data": {
      "text/plain": [
       "array([1.85714286, 2.71428571])"
      ]
     },
     "execution_count": 90,
     "metadata": {},
     "output_type": "execute_result"
    }
   ],
   "source": [
    "x = np.linalg.solve(a, b)\n",
    "x"
   ]
  },
  {
   "cell_type": "markdown",
   "id": "bd170e27-f845-4ce6-8591-5e8ebcc44041",
   "metadata": {},
   "source": [
    "![Divider05](images/divider05.png)"
   ]
  },
  {
   "cell_type": "markdown",
   "id": "fd0ebd0f-353f-4233-b7a5-90069c061a6d",
   "metadata": {
    "tags": []
   },
   "source": [
    "### array comparison/karşılaştırma"
   ]
  },
  {
   "cell_type": "code",
   "execution_count": 136,
   "id": "42325de5-bd8a-4956-8ad3-412d5d20a25e",
   "metadata": {
    "tags": []
   },
   "outputs": [
    {
     "data": {
      "text/plain": [
       "array([1, 2, 3, 4, 5])"
      ]
     },
     "execution_count": 136,
     "metadata": {},
     "output_type": "execute_result"
    }
   ],
   "source": [
    "a\n"
   ]
  },
  {
   "cell_type": "code",
   "execution_count": 137,
   "id": "11da8abf-334e-4dca-9fe8-026431bc634d",
   "metadata": {
    "tags": []
   },
   "outputs": [
    {
     "data": {
      "text/plain": [
       "array([3, 4, 5, 6, 7])"
      ]
     },
     "execution_count": 137,
     "metadata": {},
     "output_type": "execute_result"
    }
   ],
   "source": [
    "b"
   ]
  },
  {
   "cell_type": "code",
   "execution_count": 142,
   "id": "d5cb4737-d332-4e1b-b42d-59108ee2879a",
   "metadata": {
    "tags": []
   },
   "outputs": [
    {
     "data": {
      "text/plain": [
       "array([False, False, False, False, False])"
      ]
     },
     "execution_count": 142,
     "metadata": {},
     "output_type": "execute_result"
    }
   ],
   "source": [
    "a == b # Öğe bazında karşılaştırma"
   ]
  },
  {
   "cell_type": "code",
   "execution_count": 143,
   "id": "77082049-e677-4896-852b-228e9f0e8bf8",
   "metadata": {
    "tags": []
   },
   "outputs": [
    {
     "data": {
      "text/plain": [
       "array([ True, False, False, False, False])"
      ]
     },
     "execution_count": 143,
     "metadata": {},
     "output_type": "execute_result"
    }
   ],
   "source": [
    "a < 2 # Öğe bazında karşılaştırma"
   ]
  },
  {
   "cell_type": "code",
   "execution_count": 144,
   "id": "3e8237bb-378d-4ea6-aefc-5440376c4b54",
   "metadata": {
    "tags": []
   },
   "outputs": [
    {
     "data": {
      "text/plain": [
       "False"
      ]
     },
     "execution_count": 144,
     "metadata": {},
     "output_type": "execute_result"
    }
   ],
   "source": [
    " np.array_equal(a, b) #array bazında karşılaştırma"
   ]
  },
  {
   "cell_type": "markdown",
   "id": "cb37e8e1-24c9-4bea-8e1a-41906216ce1a",
   "metadata": {},
   "source": [
    "![Divider05](images/divider05.png)"
   ]
  },
  {
   "cell_type": "markdown",
   "id": "c5c77dc6-7f3e-453b-bc3e-fd2777c6914c",
   "metadata": {
    "tags": []
   },
   "source": [
    "### array kopyalama\n"
   ]
  },
  {
   "cell_type": "code",
   "execution_count": null,
   "id": "23d0bcf6-b5ac-408a-946c-1b3bdeafe4b2",
   "metadata": {},
   "outputs": [],
   "source": []
  },
  {
   "cell_type": "code",
   "execution_count": 127,
   "id": "c5234907-211a-4009-85cf-d68434e40f54",
   "metadata": {
    "tags": []
   },
   "outputs": [
    {
     "data": {
      "text/plain": [
       "array([1, 2, 3, 4, 5])"
      ]
     },
     "execution_count": 127,
     "metadata": {},
     "output_type": "execute_result"
    }
   ],
   "source": [
    "a"
   ]
  },
  {
   "cell_type": "code",
   "execution_count": 129,
   "id": "947f3992-aed0-4d59-ba85-c0518fd259a5",
   "metadata": {
    "tags": []
   },
   "outputs": [],
   "source": [
    " h = a.view() # Aynı verilerle dizinin bir görünümünü oluşturun"
   ]
  },
  {
   "cell_type": "code",
   "execution_count": 130,
   "id": "3ed779e4-0572-409a-af0d-6b5312aeacd8",
   "metadata": {},
   "outputs": [
    {
     "data": {
      "text/plain": [
       "array([1, 2, 3, 4, 5])"
      ]
     },
     "execution_count": 130,
     "metadata": {},
     "output_type": "execute_result"
    }
   ],
   "source": [
    "h"
   ]
  },
  {
   "cell_type": "code",
   "execution_count": 131,
   "id": "7779fa1d-6f7b-48b9-b577-ec45c678027c",
   "metadata": {
    "tags": []
   },
   "outputs": [
    {
     "data": {
      "text/plain": [
       "array([1, 2, 3, 4, 5])"
      ]
     },
     "execution_count": 131,
     "metadata": {},
     "output_type": "execute_result"
    }
   ],
   "source": [
    " np.copy(a) # kopyasını oluşturun"
   ]
  },
  {
   "cell_type": "code",
   "execution_count": 132,
   "id": "1b6ea99f-a5bc-4bf5-aafa-55efc5b55219",
   "metadata": {
    "tags": []
   },
   "outputs": [],
   "source": [
    "j = a.copy() #derin kopyasını oluşturun"
   ]
  },
  {
   "cell_type": "code",
   "execution_count": 133,
   "id": "fe09d43d-c01f-4407-bb40-c6e6ed8e4838",
   "metadata": {
    "tags": []
   },
   "outputs": [
    {
     "data": {
      "text/plain": [
       "array([1, 2, 3, 4, 5])"
      ]
     },
     "execution_count": 133,
     "metadata": {},
     "output_type": "execute_result"
    }
   ],
   "source": [
    "j"
   ]
  },
  {
   "cell_type": "markdown",
   "id": "2180934e-638a-499e-869a-ba44beded0d7",
   "metadata": {},
   "source": [
    "![Divider05](images/divider05.png)"
   ]
  },
  {
   "cell_type": "markdown",
   "id": "508cbc9f-4c81-4d14-b0d8-a64917d85b42",
   "metadata": {
    "tags": []
   },
   "source": [
    "### yardım istemek"
   ]
  },
  {
   "cell_type": "code",
   "execution_count": 135,
   "id": "4987ffb9-ce1d-4617-a464-c4b23af9abb7",
   "metadata": {
    "tags": []
   },
   "outputs": [
    {
     "name": "stdout",
     "output_type": "stream",
     "text": [
      "Data-type of the array's elements.\n",
      "\n",
      ".. warning::\n",
      "\n",
      "    Setting ``arr.dtype`` is discouraged and may be deprecated in the\n",
      "    future.  Setting will replace the ``dtype`` without modifying the\n",
      "    memory (see also `ndarray.view` and `ndarray.astype`).\n",
      "\n",
      "Parameters\n",
      "----------\n",
      "None\n",
      "\n",
      "Returns\n",
      "-------\n",
      "d : numpy dtype object\n",
      "\n",
      "See Also\n",
      "--------\n",
      "ndarray.astype : Cast the values contained in the array to a new data-type.\n",
      "ndarray.view : Create a view of the same data but a different data-type.\n",
      "numpy.dtype\n",
      "\n",
      "Examples\n",
      "--------\n",
      ">>> x\n",
      "array([[0, 1],\n",
      "       [2, 3]])\n",
      ">>> x.dtype\n",
      "dtype('int32')\n",
      ">>> type(x.dtype)\n",
      "<type 'numpy.dtype'>\n"
     ]
    }
   ],
   "source": [
    "np.info(np.ndarray.dtype) # yardım isteme\n"
   ]
  },
  {
   "cell_type": "markdown",
   "id": "a8d7bc22-2ff7-4895-aaa0-5210aa5b26fd",
   "metadata": {},
   "source": [
    "![Divider05](images/divider05.png)"
   ]
  },
  {
   "cell_type": "markdown",
   "id": "e959e0ee-dc41-48dc-bebc-62f312126263",
   "metadata": {
    "tags": []
   },
   "source": [
    "🖖 Live Long and Prosper! ☺️"
   ]
  },
  {
   "cell_type": "markdown",
   "id": "b9813a86-f48b-41b1-8455-92bb31dc707d",
   "metadata": {},
   "source": [
    "![Divider01](images/divider01.png)"
   ]
  },
  {
   "cell_type": "markdown",
   "id": "42e12d3e-32ba-43b4-888a-72c9387dbdb2",
   "metadata": {},
   "source": [
    "#numpy #python #dataanalytics #datascience #dataanalysis #verianalizi #veribilimi #veribilim #veri #verianaliz #verimanipülasyonu #verigörselleştirme #makineöğrenme #derinöğrenme"
   ]
  }
 ],
 "metadata": {
  "kernelspec": {
   "display_name": "Python 3 (ipykernel)",
   "language": "python",
   "name": "python3"
  },
  "language_info": {
   "codemirror_mode": {
    "name": "ipython",
    "version": 3
   },
   "file_extension": ".py",
   "mimetype": "text/x-python",
   "name": "python",
   "nbconvert_exporter": "python",
   "pygments_lexer": "ipython3",
   "version": "3.11.5"
  }
 },
 "nbformat": 4,
 "nbformat_minor": 5
}
