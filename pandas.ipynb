{
 "cells": [
  {
   "cell_type": "markdown",
   "id": "0aea66fe-d254-4f44-a06b-0e177fa96a49",
   "metadata": {},
   "source": [
    "# Pandas\n",
    "\n",
    "![Pandas](images/pandas.png) \n",
    "\n",
    "#pandas #pandas-serisi #pandas-dataframe #pandas-veri-analizi #python #paneldata #panelveri #datawrangling #dataframe #datascience #pandasdatastructures #series/dataframe #data #series #object  #plottingfromdataframe\n",
    "\n",
    "Temeli 2008 yılında atılan, Veri manipülasyonu ve veri analizi için yazılmış açık kaynak kodlu bir Python kütüphanesidir. Ekonometrik ve finansal çalışmalar için geliştirilmiştir.\n",
    "\n",
    "Python'un Pandas kütüphanesi Python'da en yaygın kullanılan kütüphanedir. Veri analizinin veya makine öğreniminin her yönü için gerekli olan veri işleme kütüphanesidir. \n",
    "\n",
    "Veri görselleştirme veya makine öğrenimi üzerinde çalışıyor olsanız bile, bir miktar veri manipülasyonu yine de olacaktır. İşte burada Pandas'dan faydalanırız.\n",
    "\n",
    "Pandas kütüphanesi NumPy üzerine kurulmuştur ve Python programlama dili için kullanımı kolay veri yapıları ve veri analiz araçları sağlar.\n",
    "\n",
    "RDataFrame yapısını Python dünyasına taşımış ve DataFrameler üzerinde hızlı ve etkili çalışabilme, bir çok farklı veri tipini okuma ve yazma imkanı sağlamıştır.\n",
    "\n",
    "\n",
    ">>> import pandas as pd"
   ]
  },
  {
   "cell_type": "markdown",
   "id": "f93cfde4-c6c1-4352-a4f3-8efbb0663368",
   "metadata": {},
   "source": [
    "# Pandas Serisi Oluşturmak - Pandas Series"
   ]
  },
  {
   "cell_type": "code",
   "execution_count": 2,
   "id": "32b8ec9f-1f6a-41fa-bf14-8b96847a59e2",
   "metadata": {
    "tags": []
   },
   "outputs": [],
   "source": [
    "import pandas as pd"
   ]
  },
  {
   "cell_type": "code",
   "execution_count": 4,
   "id": "38fc41eb-d6ed-4a11-b488-af964f99a2ee",
   "metadata": {
    "tags": []
   },
   "outputs": [
    {
     "data": {
      "text/plain": [
       "0    1\n",
       "1    2\n",
       "2    3\n",
       "3    4\n",
       "4    5\n",
       "dtype: int64"
      ]
     },
     "execution_count": 4,
     "metadata": {},
     "output_type": "execute_result"
    }
   ],
   "source": [
    "pd.Series([1, 2, 3,4, 5])"
   ]
  },
  {
   "cell_type": "code",
   "execution_count": 5,
   "id": "fee018ea-b79c-4106-80e5-b095cebcd997",
   "metadata": {
    "tags": []
   },
   "outputs": [
    {
     "data": {
      "text/plain": [
       "0    10\n",
       "1    88\n",
       "2     3\n",
       "3     4\n",
       "4     5\n",
       "dtype: int64"
      ]
     },
     "execution_count": 5,
     "metadata": {},
     "output_type": "execute_result"
    }
   ],
   "source": [
    "pd.Series([10, 88, 3, 4, 5])"
   ]
  },
  {
   "cell_type": "code",
   "execution_count": 6,
   "id": "d8d1e8c7-0d0d-43ef-8c2e-e10cfbd9abca",
   "metadata": {
    "tags": []
   },
   "outputs": [],
   "source": [
    "seri = pd.Series([10, 88, 3, 4, 5])"
   ]
  },
  {
   "cell_type": "code",
   "execution_count": 7,
   "id": "f0b24579-8b08-4ffd-8532-90c6d3eff325",
   "metadata": {
    "tags": []
   },
   "outputs": [
    {
     "data": {
      "text/plain": [
       "pandas.core.series.Series"
      ]
     },
     "execution_count": 7,
     "metadata": {},
     "output_type": "execute_result"
    }
   ],
   "source": [
    "type(seri)"
   ]
  },
  {
   "cell_type": "code",
   "execution_count": 8,
   "id": "33971614-cda2-4198-9139-876b88d4f19c",
   "metadata": {
    "tags": []
   },
   "outputs": [
    {
     "data": {
      "text/plain": [
       "[RangeIndex(start=0, stop=5, step=1)]"
      ]
     },
     "execution_count": 8,
     "metadata": {},
     "output_type": "execute_result"
    }
   ],
   "source": [
    "seri.axes"
   ]
  },
  {
   "cell_type": "code",
   "execution_count": 9,
   "id": "199f7563-047e-421a-97ee-65bdd7d867b8",
   "metadata": {
    "tags": []
   },
   "outputs": [
    {
     "data": {
      "text/plain": [
       "dtype('int64')"
      ]
     },
     "execution_count": 9,
     "metadata": {},
     "output_type": "execute_result"
    }
   ],
   "source": [
    "seri.dtype"
   ]
  },
  {
   "cell_type": "code",
   "execution_count": 10,
   "id": "672b1fa3-91ab-413b-aa92-e0cdb6b268fe",
   "metadata": {
    "tags": []
   },
   "outputs": [
    {
     "data": {
      "text/plain": [
       "5"
      ]
     },
     "execution_count": 10,
     "metadata": {},
     "output_type": "execute_result"
    }
   ],
   "source": [
    "seri.size"
   ]
  },
  {
   "cell_type": "code",
   "execution_count": 11,
   "id": "f374eea4-6056-4f91-85dd-e42565d118d1",
   "metadata": {
    "tags": []
   },
   "outputs": [
    {
     "data": {
      "text/plain": [
       "1"
      ]
     },
     "execution_count": 11,
     "metadata": {},
     "output_type": "execute_result"
    }
   ],
   "source": [
    "seri.ndim"
   ]
  },
  {
   "cell_type": "code",
   "execution_count": 12,
   "id": "11e42aba-74c0-4cad-a328-7c7cd7265617",
   "metadata": {
    "tags": []
   },
   "outputs": [
    {
     "data": {
      "text/plain": [
       "array([10, 88,  3,  4,  5], dtype=int64)"
      ]
     },
     "execution_count": 12,
     "metadata": {},
     "output_type": "execute_result"
    }
   ],
   "source": [
    "seri.values\n",
    "\n",
    "\n"
   ]
  },
  {
   "cell_type": "code",
   "execution_count": 13,
   "id": "03280f4b-6ce2-41c8-86ba-effa4038b810",
   "metadata": {
    "tags": []
   },
   "outputs": [
    {
     "data": {
      "text/plain": [
       "0    10\n",
       "1    88\n",
       "2     3\n",
       "3     4\n",
       "4     5\n",
       "dtype: int64"
      ]
     },
     "execution_count": 13,
     "metadata": {},
     "output_type": "execute_result"
    }
   ],
   "source": [
    "seri.head()"
   ]
  },
  {
   "cell_type": "code",
   "execution_count": 14,
   "id": "9700d738-839d-4d5a-8229-4ef12361905d",
   "metadata": {
    "tags": []
   },
   "outputs": [
    {
     "data": {
      "text/plain": [
       "0    10\n",
       "1    88\n",
       "2     3\n",
       "dtype: int64"
      ]
     },
     "execution_count": 14,
     "metadata": {},
     "output_type": "execute_result"
    }
   ],
   "source": [
    "seri.head(3)"
   ]
  },
  {
   "cell_type": "code",
   "execution_count": 15,
   "id": "771f3378-05d8-4246-ba52-818b2134cd89",
   "metadata": {
    "tags": []
   },
   "outputs": [
    {
     "data": {
      "text/plain": [
       "0    10\n",
       "1    88\n",
       "2     3\n",
       "3     4\n",
       "4     5\n",
       "dtype: int64"
      ]
     },
     "execution_count": 15,
     "metadata": {},
     "output_type": "execute_result"
    }
   ],
   "source": [
    "seri.tail()"
   ]
  },
  {
   "cell_type": "code",
   "execution_count": 16,
   "id": "21f0a8aa-8b09-42c5-9441-30ae7e5fcbbf",
   "metadata": {
    "tags": []
   },
   "outputs": [
    {
     "data": {
      "text/plain": [
       "2    3\n",
       "3    4\n",
       "4    5\n",
       "dtype: int64"
      ]
     },
     "execution_count": 16,
     "metadata": {},
     "output_type": "execute_result"
    }
   ],
   "source": [
    "seri.tail(3)"
   ]
  },
  {
   "cell_type": "markdown",
   "id": "ba615ccc-21da-433f-98fb-313677eb7036",
   "metadata": {},
   "source": [
    "#Index İsimlendirmesi"
   ]
  },
  {
   "cell_type": "code",
   "execution_count": 17,
   "id": "0a5c8671-5c4d-4a43-bdd5-99048894ab6e",
   "metadata": {
    "tags": []
   },
   "outputs": [
    {
     "data": {
      "text/plain": [
       "0     99\n",
       "1     22\n",
       "2    332\n",
       "3     94\n",
       "4      5\n",
       "dtype: int64"
      ]
     },
     "execution_count": 17,
     "metadata": {},
     "output_type": "execute_result"
    }
   ],
   "source": [
    "pd.Series([99, 22, 332, 94, 5])"
   ]
  },
  {
   "cell_type": "code",
   "execution_count": 18,
   "id": "73034c01-75a4-4c50-900b-8389649af7f0",
   "metadata": {
    "tags": []
   },
   "outputs": [
    {
     "data": {
      "text/plain": [
       "1     99\n",
       "3     22\n",
       "5    332\n",
       "7     94\n",
       "9      5\n",
       "dtype: int64"
      ]
     },
     "execution_count": 18,
     "metadata": {},
     "output_type": "execute_result"
    }
   ],
   "source": [
    "pd.Series([99, 22, 332, 94, 5], index = [1, 3, 5, 7, 9])"
   ]
  },
  {
   "cell_type": "code",
   "execution_count": 19,
   "id": "90e1239c-cd43-41e5-88c4-b7ef1c654f36",
   "metadata": {
    "tags": []
   },
   "outputs": [
    {
     "data": {
      "text/plain": [
       "a     99\n",
       "b     22\n",
       "c    332\n",
       "d     94\n",
       "e      5\n",
       "dtype: int64"
      ]
     },
     "execution_count": 19,
     "metadata": {},
     "output_type": "execute_result"
    }
   ],
   "source": [
    "pd.Series([99, 22, 332, 94, 5], index = [\"a\", \"b\", \"c\", \"d\", \"e\"])"
   ]
  },
  {
   "cell_type": "code",
   "execution_count": 20,
   "id": "390279da-1e11-48bf-9bbb-0cfed9dfe768",
   "metadata": {
    "tags": []
   },
   "outputs": [],
   "source": [
    "seri = pd.Series([99, 22, 332, 94, 5], index = [\"a\", \"b\", \"c\", \"d\", \"e\"])"
   ]
  },
  {
   "cell_type": "code",
   "execution_count": 21,
   "id": "1500264b-b376-4831-a8c8-72323f43327e",
   "metadata": {
    "tags": []
   },
   "outputs": [
    {
     "data": {
      "text/plain": [
       "99"
      ]
     },
     "execution_count": 21,
     "metadata": {},
     "output_type": "execute_result"
    }
   ],
   "source": [
    "seri[\"a\"]"
   ]
  },
  {
   "cell_type": "code",
   "execution_count": 23,
   "id": "d9afc2b3-72d8-4ba6-95bc-e1642c4f1e55",
   "metadata": {
    "tags": []
   },
   "outputs": [
    {
     "data": {
      "text/plain": [
       "a     99\n",
       "b     22\n",
       "c    332\n",
       "dtype: int64"
      ]
     },
     "execution_count": 23,
     "metadata": {},
     "output_type": "execute_result"
    }
   ],
   "source": [
    "seri[\"a\":\"c\"]"
   ]
  },
  {
   "cell_type": "markdown",
   "id": "988d9cac-b1b0-4492-a3cc-c40ff742fe1b",
   "metadata": {},
   "source": [
    "## sözlük üzerinden liste oluşturmak"
   ]
  },
  {
   "cell_type": "code",
   "execution_count": 24,
   "id": "b35782b3-c567-4793-a568-0bc734c705ea",
   "metadata": {
    "tags": []
   },
   "outputs": [],
   "source": [
    "sozluk = pd.Series({\"reg\": 10, \"log\" : 11, \"cart\" : 12})"
   ]
  },
  {
   "cell_type": "code",
   "execution_count": 25,
   "id": "5c8be2dc-89eb-41ca-ab2b-0179339deae3",
   "metadata": {
    "tags": []
   },
   "outputs": [
    {
     "data": {
      "text/plain": [
       "reg     10\n",
       "log     11\n",
       "cart    12\n",
       "dtype: int64"
      ]
     },
     "execution_count": 25,
     "metadata": {},
     "output_type": "execute_result"
    }
   ],
   "source": [
    "sozluk"
   ]
  },
  {
   "cell_type": "code",
   "execution_count": 26,
   "id": "a1ca0b79-1b20-44d1-a2c2-1cae3ad60af6",
   "metadata": {
    "tags": []
   },
   "outputs": [],
   "source": [
    "sozluk1 = {\"reg\": 10, \"log\" : 11, \"cart\" : 12}"
   ]
  },
  {
   "cell_type": "code",
   "execution_count": 27,
   "id": "631df0d1-e412-4235-be6e-683727bc225e",
   "metadata": {
    "tags": []
   },
   "outputs": [],
   "source": [
    "seri1 = pd.Series(sozluk1)"
   ]
  },
  {
   "cell_type": "code",
   "execution_count": 29,
   "id": "c62551a7-f311-4740-9d6f-efa8998579ba",
   "metadata": {
    "tags": []
   },
   "outputs": [
    {
     "data": {
      "text/plain": [
       "reg     10\n",
       "log     11\n",
       "cart    12\n",
       "dtype: int64"
      ]
     },
     "execution_count": 29,
     "metadata": {},
     "output_type": "execute_result"
    }
   ],
   "source": [
    "seri1"
   ]
  },
  {
   "cell_type": "markdown",
   "id": "ca52b51c-74c2-4eac-9712-e4145cee3214",
   "metadata": {},
   "source": [
    "## iki seriyi birleştirerek seri oluşturma\n",
    "\n"
   ]
  },
  {
   "cell_type": "code",
   "execution_count": 30,
   "id": "0a6ef630-fe2b-44b3-93f8-211637710956",
   "metadata": {
    "tags": []
   },
   "outputs": [
    {
     "data": {
      "text/plain": [
       "reg     10\n",
       "log     11\n",
       "cart    12\n",
       "reg     10\n",
       "log     11\n",
       "cart    12\n",
       "dtype: int64"
      ]
     },
     "execution_count": 30,
     "metadata": {},
     "output_type": "execute_result"
    }
   ],
   "source": [
    "pd.concat([seri1, seri1])"
   ]
  },
  {
   "cell_type": "markdown",
   "id": "e0a2281a-4839-4d6e-a1fc-756da86009a0",
   "metadata": {},
   "source": [
    "## Pandas Eleman İşlemleri"
   ]
  },
  {
   "cell_type": "code",
   "execution_count": 31,
   "id": "09f68df2-6cfd-430f-8901-43309df7d4e7",
   "metadata": {
    "tags": []
   },
   "outputs": [],
   "source": [
    "import numpy as np\n"
   ]
  },
  {
   "cell_type": "code",
   "execution_count": 32,
   "id": "417e9e28-8627-4f5f-8e8e-cd25ea838122",
   "metadata": {
    "tags": []
   },
   "outputs": [],
   "source": [
    "a = np.array([1, 2, 33, 444, 75])\n",
    "seri = pd.Series(a)"
   ]
  },
  {
   "cell_type": "code",
   "execution_count": 33,
   "id": "7358c12a-8f44-479c-9f96-b24eb07153eb",
   "metadata": {
    "tags": []
   },
   "outputs": [
    {
     "data": {
      "text/plain": [
       "0      1\n",
       "1      2\n",
       "2     33\n",
       "3    444\n",
       "4     75\n",
       "dtype: int32"
      ]
     },
     "execution_count": 33,
     "metadata": {},
     "output_type": "execute_result"
    }
   ],
   "source": [
    "seri"
   ]
  },
  {
   "cell_type": "code",
   "execution_count": 34,
   "id": "26bcbddf-2cca-412f-b1f7-2d1e9b417b47",
   "metadata": {
    "tags": []
   },
   "outputs": [
    {
     "data": {
      "text/plain": [
       "1"
      ]
     },
     "execution_count": 34,
     "metadata": {},
     "output_type": "execute_result"
    }
   ],
   "source": [
    "seri[0]"
   ]
  },
  {
   "cell_type": "code",
   "execution_count": 35,
   "id": "772d2207-a86d-4d44-ad40-4456d66c4ec7",
   "metadata": {
    "tags": []
   },
   "outputs": [
    {
     "data": {
      "text/plain": [
       "0     1\n",
       "1     2\n",
       "2    33\n",
       "dtype: int32"
      ]
     },
     "execution_count": 35,
     "metadata": {},
     "output_type": "execute_result"
    }
   ],
   "source": [
    "seri[0:3]"
   ]
  },
  {
   "cell_type": "code",
   "execution_count": 37,
   "id": "132c0a5e-47df-4531-b347-c41e451ec415",
   "metadata": {
    "tags": []
   },
   "outputs": [],
   "source": [
    "seri = pd.Series([121, 200, 150 ,99], \n",
    "                 index = [\"reg\", \"loj\", \"cart\",\"rf\" ])"
   ]
  },
  {
   "cell_type": "code",
   "execution_count": 38,
   "id": "7589f14b-83b0-4c0e-8be7-92e85bfff5a9",
   "metadata": {
    "tags": []
   },
   "outputs": [
    {
     "data": {
      "text/plain": [
       "reg     121\n",
       "loj     200\n",
       "cart    150\n",
       "rf       99\n",
       "dtype: int64"
      ]
     },
     "execution_count": 38,
     "metadata": {},
     "output_type": "execute_result"
    }
   ],
   "source": [
    "seri"
   ]
  },
  {
   "cell_type": "code",
   "execution_count": 39,
   "id": "7038416a-24e1-4d42-9e2c-a9b49db6713f",
   "metadata": {
    "tags": []
   },
   "outputs": [
    {
     "data": {
      "text/plain": [
       "Index(['reg', 'loj', 'cart', 'rf'], dtype='object')"
      ]
     },
     "execution_count": 39,
     "metadata": {},
     "output_type": "execute_result"
    }
   ],
   "source": [
    "seri.index"
   ]
  },
  {
   "cell_type": "code",
   "execution_count": 40,
   "id": "7e48bfa0-b838-4b33-821f-4a9b6899da40",
   "metadata": {
    "tags": []
   },
   "outputs": [
    {
     "data": {
      "text/plain": [
       "array([121, 200, 150,  99], dtype=int64)"
      ]
     },
     "execution_count": 40,
     "metadata": {},
     "output_type": "execute_result"
    }
   ],
   "source": [
    "seri.values"
   ]
  },
  {
   "cell_type": "code",
   "execution_count": 41,
   "id": "ccf89e02-216d-4936-a7d2-378fdbe3ab0d",
   "metadata": {
    "tags": []
   },
   "outputs": [
    {
     "data": {
      "text/plain": [
       "<bound method Series.keys of reg     121\n",
       "loj     200\n",
       "cart    150\n",
       "rf       99\n",
       "dtype: int64>"
      ]
     },
     "execution_count": 41,
     "metadata": {},
     "output_type": "execute_result"
    }
   ],
   "source": [
    "seri.keys"
   ]
  },
  {
   "cell_type": "code",
   "execution_count": 43,
   "id": "a8520202-0b2e-464a-b91b-4902c7bb8a6c",
   "metadata": {
    "tags": []
   },
   "outputs": [
    {
     "data": {
      "text/plain": [
       "[('reg', 121), ('loj', 200), ('cart', 150), ('rf', 99)]"
      ]
     },
     "execution_count": 43,
     "metadata": {},
     "output_type": "execute_result"
    }
   ],
   "source": [
    "list(seri.items())"
   ]
  },
  {
   "cell_type": "markdown",
   "id": "de5cf24f-38d6-483e-93df-d83ec79a7f82",
   "metadata": {},
   "source": [
    "## Eleman Sorgulama"
   ]
  },
  {
   "cell_type": "code",
   "execution_count": 44,
   "id": "08e44b7a-6efd-4262-b989-bc2befe5b324",
   "metadata": {
    "tags": []
   },
   "outputs": [
    {
     "data": {
      "text/plain": [
       "True"
      ]
     },
     "execution_count": 44,
     "metadata": {},
     "output_type": "execute_result"
    }
   ],
   "source": [
    "\"reg\" in seri"
   ]
  },
  {
   "cell_type": "code",
   "execution_count": 45,
   "id": "7dc655aa-77b5-48de-9c61-351ab68b7c4c",
   "metadata": {
    "tags": []
   },
   "outputs": [
    {
     "data": {
      "text/plain": [
       "False"
      ]
     },
     "execution_count": 45,
     "metadata": {},
     "output_type": "execute_result"
    }
   ],
   "source": [
    "\"a\" in seri"
   ]
  },
  {
   "cell_type": "code",
   "execution_count": 46,
   "id": "6f671534-a4c7-42dc-8f51-33545b7798f2",
   "metadata": {
    "tags": []
   },
   "outputs": [
    {
     "data": {
      "text/plain": [
       "121"
      ]
     },
     "execution_count": 46,
     "metadata": {},
     "output_type": "execute_result"
    }
   ],
   "source": [
    "seri[\"reg\"]"
   ]
  },
  {
   "cell_type": "markdown",
   "id": "5a320035-eec6-4808-aa5a-67abc96c9954",
   "metadata": {},
   "source": [
    "### fancy eleman"
   ]
  },
  {
   "cell_type": "code",
   "execution_count": 48,
   "id": "d28741b4-d52d-4bb8-bd4e-ba13528b4b3b",
   "metadata": {
    "tags": []
   },
   "outputs": [
    {
     "data": {
      "text/plain": [
       "rf      99\n",
       "reg    121\n",
       "dtype: int64"
      ]
     },
     "execution_count": 48,
     "metadata": {},
     "output_type": "execute_result"
    }
   ],
   "source": [
    "seri[[\"rf\", \"reg\"]]"
   ]
  },
  {
   "cell_type": "code",
   "execution_count": 49,
   "id": "d512318c-21c2-43e3-a661-083e6e297033",
   "metadata": {
    "tags": []
   },
   "outputs": [],
   "source": [
    "seri[\"reg\"]  = 130"
   ]
  },
  {
   "cell_type": "code",
   "execution_count": 50,
   "id": "dd8455f9-74e9-4420-8418-204ca942408a",
   "metadata": {
    "tags": []
   },
   "outputs": [
    {
     "data": {
      "text/plain": [
       "130"
      ]
     },
     "execution_count": 50,
     "metadata": {},
     "output_type": "execute_result"
    }
   ],
   "source": [
    "seri[\"reg\"]"
   ]
  },
  {
   "cell_type": "code",
   "execution_count": 52,
   "id": "169c2690-1d9e-4f5d-b2e6-c66d3efce099",
   "metadata": {
    "tags": []
   },
   "outputs": [
    {
     "data": {
      "text/plain": [
       "reg    130\n",
       "loj    200\n",
       "dtype: int64"
      ]
     },
     "execution_count": 52,
     "metadata": {},
     "output_type": "execute_result"
    }
   ],
   "source": [
    "seri[\"reg\" : \"loj\"]"
   ]
  },
  {
   "cell_type": "code",
   "execution_count": null,
   "id": "c7b00370-5074-48b0-b302-69da0826b341",
   "metadata": {},
   "outputs": [],
   "source": []
  }
 ],
 "metadata": {
  "kernelspec": {
   "display_name": "Python 3 (ipykernel)",
   "language": "python",
   "name": "python3"
  },
  "language_info": {
   "codemirror_mode": {
    "name": "ipython",
    "version": 3
   },
   "file_extension": ".py",
   "mimetype": "text/x-python",
   "name": "python",
   "nbconvert_exporter": "python",
   "pygments_lexer": "ipython3",
   "version": "3.11.5"
  }
 },
 "nbformat": 4,
 "nbformat_minor": 5
}
